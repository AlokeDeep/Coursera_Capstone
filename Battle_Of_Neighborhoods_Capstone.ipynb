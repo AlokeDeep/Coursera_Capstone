{
 "cells": [
  {
   "cell_type": "markdown",
   "metadata": {},
   "source": [
    "<H1>Battle Of Neighborhoods - Capstone Project<H1>"
   ]
  },
  {
   "cell_type": "markdown",
   "metadata": {},
   "source": [
    "<H3>This notebook is created for IBM Data Science Professional Certification and Course Completion with Coursera.</H3>"
   ]
  },
  {
   "cell_type": "markdown",
   "metadata": {},
   "source": [
    "<H2>Introduction:<H2>"
   ]
  },
  {
   "cell_type": "markdown",
   "metadata": {},
   "source": [
    "Toronto is the most populous city in Canada and the largest urban and metro area, with a population density of 4,149.5 people per square kilometer (10,750/sq mi).Foreign-born people account for nearly half of the population of Toronto. Toronto is home to many ethnic neighborhoods such as Little India, Greektown, Corso Italia, Chinatown and Little Jamaica.\n",
    "\n",
    "With it's diverse culture , comes diverse food items. The cuisines of Toronto reflects Toronto's size and it's multicultural diversity.Different ethnic neighbourhoods throughout the city focus on specific cuisines,such as authentic Chinese and Vietnamese found in the city's six Chinatowns, Korean in Koreatown, Greek on The Danforth, Italian cuisine in Little Italy and Corso Italia, and Indian in Little India. Numerous other world cuisines are available throughout the city, including Portuguese, Hungarian, Japanese, and Caribbean.In addition to ethnic cuisines, Toronto is also home to many fine dining establishments and chain restaurants ranging from fast food to casual or upscale dining.\n",
    "\n",
    "So as part of this project , we will list and visualize all major parts of Toronto that has great indian resturants and the prospect of opening a new Indian Resturant in the neighborhoods of Toronto."
   ]
  },
  {
   "cell_type": "markdown",
   "metadata": {},
   "source": [
    "<H2>Data<H2>"
   ]
  },
  {
   "cell_type": "markdown",
   "metadata": {},
   "source": [
    "<B>For this project we need the following data :</B>\n",
    "\n",
    "\n",
    "<li>The demographics info of Canada that contains list Boroughs, Neighborhoods and their postal codes.\n",
    "\n",
    "    Data source : https://en.wikipedia.org/wiki/List_of_postal_codes_of_Canada:_M\n",
    "    Description : This data set contains the required information. And we will use this data set to explore various neighborhoods of Toronto.\n",
    "    \n",
    "<li>Indian resturants in each neighborhood of Toronto.\n",
    "    \n",
    "    Data source : Fousquare API\n",
    "    Description : By using this api we will get all the venues in each neighborhood. We can filter these venues to get only indian resturants.\n",
    "    \n",
    "<li>GeoSpace data\n",
    "    \n",
    "    Data source : http://cocl.us/Geospatial_data\n",
    "    Description : By using this geo space data we will get the Toronto Borough boundaries along with it's Latitude and Longitude values that will help us visualize choropleth map."
   ]
  },
  {
   "cell_type": "code",
   "execution_count": null,
   "metadata": {},
   "outputs": [],
   "source": []
  },
  {
   "cell_type": "code",
   "execution_count": null,
   "metadata": {},
   "outputs": [],
   "source": [
    "import pandas as pd\n",
    "import numpy as np"
   ]
  },
  {
   "cell_type": "code",
   "execution_count": 4,
   "metadata": {},
   "outputs": [
    {
     "name": "stdout",
     "output_type": "stream",
     "text": [
      "Hello Capstone Project Course!\n"
     ]
    }
   ],
   "source": [
    "print('Hello Capstone Project Course!')"
   ]
  },
  {
   "cell_type": "code",
   "execution_count": null,
   "metadata": {},
   "outputs": [],
   "source": []
  }
 ],
 "metadata": {
  "kernelspec": {
   "display_name": "Python 3",
   "language": "python",
   "name": "python3"
  },
  "language_info": {
   "codemirror_mode": {
    "name": "ipython",
    "version": 3
   },
   "file_extension": ".py",
   "mimetype": "text/x-python",
   "name": "python",
   "nbconvert_exporter": "python",
   "pygments_lexer": "ipython3",
   "version": "3.7.3"
  }
 },
 "nbformat": 4,
 "nbformat_minor": 2
}
