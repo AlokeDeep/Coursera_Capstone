{
 "cells": [
  {
   "cell_type": "markdown",
   "metadata": {},
   "source": [
    "<H1>Battle Of Neighborhoods - Capstone Project<H1>"
   ]
  },
  {
   "cell_type": "markdown",
   "metadata": {},
   "source": [
    "<H3>This notebook is created for IBM Data Science Professional Certification and Course Completion with Coursera.</H3>"
   ]
  },
  {
   "cell_type": "markdown",
   "metadata": {},
   "source": [
    "<H2>Introduction:<H2>"
   ]
  },
  {
   "cell_type": "markdown",
   "metadata": {},
   "source": [
    "Toronto is the most populous city in Canada and the largest urban and metro area, with a population density of 4,149.5 people per square kilometer (10,750/sq mi).Foreign-born people account for nearly half of the population of Toronto. Toronto is home to many ethnic neighborhoods such as Little India, Greektown, Corso Italia, Chinatown and Little Jamaica.\n",
    "\n",
    "With it's diverse culture , comes diverse food items. The cuisines of Toronto reflects Toronto's size and it's multicultural diversity.Different ethnic neighbourhoods throughout the city focus on specific cuisines,such as authentic Chinese and Vietnamese found in the city's six Chinatowns, Korean in Koreatown, Greek on The Danforth, Italian cuisine in Little Italy and Corso Italia, and Indian in Little India. Numerous other world cuisines are available throughout the city, including Portuguese, Hungarian, Japanese, and Caribbean.In addition to ethnic cuisines, Toronto is also home to many fine dining establishments and chain restaurants ranging from fast food to casual or upscale dining.\n",
    "\n",
    "So as part of this project , we will list and visualize all major parts of Toronto that has great indian resturants and the prospect of opening a new Indian Resturant in the neighborhoods of Toronto."
   ]
  },
  {
   "cell_type": "markdown",
   "metadata": {},
   "source": [
    "<H2>Data<H2>"
   ]
  },
  {
   "cell_type": "markdown",
   "metadata": {},
   "source": [
    "<B>For this project we need the following data :</B>\n",
    "\n",
    "\n",
    "<li>The demographics info of Canada that contains list Boroughs, Neighborhoods and their postal codes.\n",
    "\n",
    "    Data source : https://en.wikipedia.org/wiki/List_of_postal_codes_of_Canada:_M\n",
    "    Description : This data set contains the required information. And we will use this data set to explore various neighborhoods of Toronto.\n",
    "    \n",
    "<li>Indian resturants in each neighborhood of Toronto.\n",
    "    \n",
    "    Data source : Fousquare API\n",
    "    Description : By using this api we will get all the venues in each neighborhood. We can filter these venues to get only indian resturants.\n",
    "    \n",
    "<li>GeoSpace data\n",
    "    \n",
    "    Data source : http://cocl.us/Geospatial_data\n",
    "    Description : By using this geo space data we will get the Toronto Borough boundaries along with it's Latitude and Longitude values that will help us visualize choropleth map."
   ]
  },
  {
   "cell_type": "markdown",
   "metadata": {},
   "source": [
    "<H2>Getting data from Wikipedia and extrating table out of the HTML Text and adding latitude and longitude coordinates to all the postal codes"
   ]
  },
  {
   "cell_type": "code",
   "execution_count": 1,
   "metadata": {},
   "outputs": [],
   "source": [
    "import pandas as pd\n",
    "import numpy as np\n",
    "import matplotlib.pyplot as plt\n",
    "from bs4 import BeautifulSoup\n",
    "import requests"
   ]
  },
  {
   "cell_type": "markdown",
   "metadata": {},
   "source": [
    "Getting Text from Wikipedia for all Postal Code in Canada"
   ]
  },
  {
   "cell_type": "code",
   "execution_count": 52,
   "metadata": {},
   "outputs": [],
   "source": [
    "wiki_text = requests.get('https://en.wikipedia.org/wiki/List_of_postal_codes_of_Canada:_M').text\n",
    "parsed_text= BeautifulSoup(wiki_text, 'html.parser')"
   ]
  },
  {
   "cell_type": "markdown",
   "metadata": {},
   "source": [
    "Data Cleanup and Converting data into a list"
   ]
  },
  {
   "cell_type": "code",
   "execution_count": 53,
   "metadata": {},
   "outputs": [],
   "source": [
    "data=[]\n",
    "for tablerow in parsed_text.tbody.find_all('tr'):\n",
    "    data.append([tableCol.get_text().strip() for tableCol in tablerow.find_all('td')])"
   ]
  },
  {
   "cell_type": "markdown",
   "metadata": {},
   "source": [
    "Exporting data into a DataFrame"
   ]
  },
  {
   "cell_type": "code",
   "execution_count": 54,
   "metadata": {},
   "outputs": [
    {
     "name": "stdout",
     "output_type": "stream",
     "text": [
      "(289, 3)\n"
     ]
    }
   ],
   "source": [
    "df = pd.DataFrame(data, columns = ['PostalCode','Borough','Neighbourhood'])\n",
    "print(df.shape)"
   ]
  },
  {
   "cell_type": "markdown",
   "metadata": {},
   "source": [
    "Data Preprocessing:"
   ]
  },
  {
   "cell_type": "code",
   "execution_count": 55,
   "metadata": {},
   "outputs": [],
   "source": [
    "df.dropna(inplace = True)\n",
    "droprows = df[(df.Borough == 'Not assigned')]\n",
    "df.drop(droprows.index, inplace = True)\n",
    "\n",
    "def neighbourhood_grouping(grouped_df):\n",
    "    if (len(grouped_df) == 1):\n",
    "        borough = grouped_df['Borough'].to_list()[0]\n",
    "        neighbourhood = grouped_df['Neighbourhood'].to_list()[0]\n",
    "        if neighbourhood == 'Not assigned':\n",
    "            return borough\n",
    "        else:\n",
    "            return neighbourhood\n",
    "    else:\n",
    "        return ', '.join(sorted(grouped_df['Neighbourhood'].tolist()))\n",
    "    \n",
    "grouped_df = df.groupby(['PostalCode', 'Borough'])\n",
    "df_new = grouped_df.apply(neighbourhood_grouping).reset_index(name = 'Neighbourhood')"
   ]
  },
  {
   "cell_type": "code",
   "execution_count": 56,
   "metadata": {},
   "outputs": [
    {
     "data": {
      "text/html": [
       "<div>\n",
       "<style scoped>\n",
       "    .dataframe tbody tr th:only-of-type {\n",
       "        vertical-align: middle;\n",
       "    }\n",
       "\n",
       "    .dataframe tbody tr th {\n",
       "        vertical-align: top;\n",
       "    }\n",
       "\n",
       "    .dataframe thead th {\n",
       "        text-align: right;\n",
       "    }\n",
       "</style>\n",
       "<table border=\"1\" class=\"dataframe\">\n",
       "  <thead>\n",
       "    <tr style=\"text-align: right;\">\n",
       "      <th></th>\n",
       "      <th>PostalCode</th>\n",
       "      <th>Borough</th>\n",
       "      <th>Neighbourhood</th>\n",
       "    </tr>\n",
       "  </thead>\n",
       "  <tbody>\n",
       "    <tr>\n",
       "      <th>0</th>\n",
       "      <td>M1B</td>\n",
       "      <td>Scarborough</td>\n",
       "      <td>Malvern, Rouge</td>\n",
       "    </tr>\n",
       "    <tr>\n",
       "      <th>1</th>\n",
       "      <td>M1C</td>\n",
       "      <td>Scarborough</td>\n",
       "      <td>Highland Creek, Port Union, Rouge Hill</td>\n",
       "    </tr>\n",
       "    <tr>\n",
       "      <th>2</th>\n",
       "      <td>M1E</td>\n",
       "      <td>Scarborough</td>\n",
       "      <td>Guildwood, Morningside, West Hill</td>\n",
       "    </tr>\n",
       "    <tr>\n",
       "      <th>3</th>\n",
       "      <td>M1G</td>\n",
       "      <td>Scarborough</td>\n",
       "      <td>Woburn</td>\n",
       "    </tr>\n",
       "    <tr>\n",
       "      <th>4</th>\n",
       "      <td>M1H</td>\n",
       "      <td>Scarborough</td>\n",
       "      <td>Cedarbrae</td>\n",
       "    </tr>\n",
       "  </tbody>\n",
       "</table>\n",
       "</div>"
      ],
      "text/plain": [
       "  PostalCode      Borough                           Neighbourhood\n",
       "0        M1B  Scarborough                          Malvern, Rouge\n",
       "1        M1C  Scarborough  Highland Creek, Port Union, Rouge Hill\n",
       "2        M1E  Scarborough       Guildwood, Morningside, West Hill\n",
       "3        M1G  Scarborough                                  Woburn\n",
       "4        M1H  Scarborough                               Cedarbrae"
      ]
     },
     "execution_count": 56,
     "metadata": {},
     "output_type": "execute_result"
    }
   ],
   "source": [
    "df_new.head()"
   ]
  },
  {
   "cell_type": "code",
   "execution_count": 57,
   "metadata": {},
   "outputs": [
    {
     "data": {
      "text/html": [
       "<div>\n",
       "<style scoped>\n",
       "    .dataframe tbody tr th:only-of-type {\n",
       "        vertical-align: middle;\n",
       "    }\n",
       "\n",
       "    .dataframe tbody tr th {\n",
       "        vertical-align: top;\n",
       "    }\n",
       "\n",
       "    .dataframe thead th {\n",
       "        text-align: right;\n",
       "    }\n",
       "</style>\n",
       "<table border=\"1\" class=\"dataframe\">\n",
       "  <thead>\n",
       "    <tr style=\"text-align: right;\">\n",
       "      <th></th>\n",
       "      <th>PostalCode</th>\n",
       "      <th>Latitude</th>\n",
       "      <th>Longitude</th>\n",
       "    </tr>\n",
       "  </thead>\n",
       "  <tbody>\n",
       "    <tr>\n",
       "      <th>0</th>\n",
       "      <td>M1B</td>\n",
       "      <td>43.806686</td>\n",
       "      <td>-79.194353</td>\n",
       "    </tr>\n",
       "    <tr>\n",
       "      <th>1</th>\n",
       "      <td>M1C</td>\n",
       "      <td>43.784535</td>\n",
       "      <td>-79.160497</td>\n",
       "    </tr>\n",
       "    <tr>\n",
       "      <th>2</th>\n",
       "      <td>M1E</td>\n",
       "      <td>43.763573</td>\n",
       "      <td>-79.188711</td>\n",
       "    </tr>\n",
       "    <tr>\n",
       "      <th>3</th>\n",
       "      <td>M1G</td>\n",
       "      <td>43.770992</td>\n",
       "      <td>-79.216917</td>\n",
       "    </tr>\n",
       "    <tr>\n",
       "      <th>4</th>\n",
       "      <td>M1H</td>\n",
       "      <td>43.773136</td>\n",
       "      <td>-79.239476</td>\n",
       "    </tr>\n",
       "  </tbody>\n",
       "</table>\n",
       "</div>"
      ],
      "text/plain": [
       "  PostalCode   Latitude  Longitude\n",
       "0        M1B  43.806686 -79.194353\n",
       "1        M1C  43.784535 -79.160497\n",
       "2        M1E  43.763573 -79.188711\n",
       "3        M1G  43.770992 -79.216917\n",
       "4        M1H  43.773136 -79.239476"
      ]
     },
     "execution_count": 57,
     "metadata": {},
     "output_type": "execute_result"
    }
   ],
   "source": [
    "all_coordinates =pd.read_csv('Geospatial_Coordinates.csv')\n",
    "all_coordinates.rename(columns = {\"Postal Code\": \"PostalCode\"}, inplace = True)\n",
    "all_coordinates.head()"
   ]
  },
  {
   "cell_type": "code",
   "execution_count": 58,
   "metadata": {},
   "outputs": [
    {
     "name": "stdout",
     "output_type": "stream",
     "text": [
      "(211, 3)\n"
     ]
    }
   ],
   "source": [
    "df.dropna(inplace = True)\n",
    "print(df.shape)"
   ]
  },
  {
   "cell_type": "code",
   "execution_count": 59,
   "metadata": {},
   "outputs": [
    {
     "data": {
      "text/html": [
       "<div>\n",
       "<style scoped>\n",
       "    .dataframe tbody tr th:only-of-type {\n",
       "        vertical-align: middle;\n",
       "    }\n",
       "\n",
       "    .dataframe tbody tr th {\n",
       "        vertical-align: top;\n",
       "    }\n",
       "\n",
       "    .dataframe thead th {\n",
       "        text-align: right;\n",
       "    }\n",
       "</style>\n",
       "<table border=\"1\" class=\"dataframe\">\n",
       "  <thead>\n",
       "    <tr style=\"text-align: right;\">\n",
       "      <th></th>\n",
       "      <th>PostalCode</th>\n",
       "      <th>Borough</th>\n",
       "      <th>Neighbourhood</th>\n",
       "    </tr>\n",
       "  </thead>\n",
       "  <tbody>\n",
       "    <tr>\n",
       "      <th>3</th>\n",
       "      <td>M3A</td>\n",
       "      <td>North York</td>\n",
       "      <td>Parkwoods</td>\n",
       "    </tr>\n",
       "    <tr>\n",
       "      <th>4</th>\n",
       "      <td>M4A</td>\n",
       "      <td>North York</td>\n",
       "      <td>Victoria Village</td>\n",
       "    </tr>\n",
       "    <tr>\n",
       "      <th>5</th>\n",
       "      <td>M5A</td>\n",
       "      <td>Downtown Toronto</td>\n",
       "      <td>Harbourfront</td>\n",
       "    </tr>\n",
       "    <tr>\n",
       "      <th>6</th>\n",
       "      <td>M5A</td>\n",
       "      <td>Downtown Toronto</td>\n",
       "      <td>Regent Park</td>\n",
       "    </tr>\n",
       "    <tr>\n",
       "      <th>7</th>\n",
       "      <td>M6A</td>\n",
       "      <td>North York</td>\n",
       "      <td>Lawrence Heights</td>\n",
       "    </tr>\n",
       "  </tbody>\n",
       "</table>\n",
       "</div>"
      ],
      "text/plain": [
       "  PostalCode           Borough     Neighbourhood\n",
       "3        M3A        North York         Parkwoods\n",
       "4        M4A        North York  Victoria Village\n",
       "5        M5A  Downtown Toronto      Harbourfront\n",
       "6        M5A  Downtown Toronto       Regent Park\n",
       "7        M6A        North York  Lawrence Heights"
      ]
     },
     "execution_count": 59,
     "metadata": {},
     "output_type": "execute_result"
    }
   ],
   "source": [
    "df.head()"
   ]
  },
  {
   "cell_type": "code",
   "execution_count": 60,
   "metadata": {},
   "outputs": [],
   "source": [
    "droprows = df[(df.Borough == 'Not assigned')]\n",
    "df.drop(droprows.index, inplace = True)"
   ]
  },
  {
   "cell_type": "code",
   "execution_count": 61,
   "metadata": {},
   "outputs": [
    {
     "data": {
      "text/html": [
       "<div>\n",
       "<style scoped>\n",
       "    .dataframe tbody tr th:only-of-type {\n",
       "        vertical-align: middle;\n",
       "    }\n",
       "\n",
       "    .dataframe tbody tr th {\n",
       "        vertical-align: top;\n",
       "    }\n",
       "\n",
       "    .dataframe thead th {\n",
       "        text-align: right;\n",
       "    }\n",
       "</style>\n",
       "<table border=\"1\" class=\"dataframe\">\n",
       "  <thead>\n",
       "    <tr style=\"text-align: right;\">\n",
       "      <th></th>\n",
       "      <th>PostalCode</th>\n",
       "      <th>Borough</th>\n",
       "      <th>Neighbourhood</th>\n",
       "    </tr>\n",
       "  </thead>\n",
       "  <tbody>\n",
       "    <tr>\n",
       "      <th>3</th>\n",
       "      <td>M3A</td>\n",
       "      <td>North York</td>\n",
       "      <td>Parkwoods</td>\n",
       "    </tr>\n",
       "    <tr>\n",
       "      <th>4</th>\n",
       "      <td>M4A</td>\n",
       "      <td>North York</td>\n",
       "      <td>Victoria Village</td>\n",
       "    </tr>\n",
       "    <tr>\n",
       "      <th>5</th>\n",
       "      <td>M5A</td>\n",
       "      <td>Downtown Toronto</td>\n",
       "      <td>Harbourfront</td>\n",
       "    </tr>\n",
       "    <tr>\n",
       "      <th>6</th>\n",
       "      <td>M5A</td>\n",
       "      <td>Downtown Toronto</td>\n",
       "      <td>Regent Park</td>\n",
       "    </tr>\n",
       "    <tr>\n",
       "      <th>7</th>\n",
       "      <td>M6A</td>\n",
       "      <td>North York</td>\n",
       "      <td>Lawrence Heights</td>\n",
       "    </tr>\n",
       "  </tbody>\n",
       "</table>\n",
       "</div>"
      ],
      "text/plain": [
       "  PostalCode           Borough     Neighbourhood\n",
       "3        M3A        North York         Parkwoods\n",
       "4        M4A        North York  Victoria Village\n",
       "5        M5A  Downtown Toronto      Harbourfront\n",
       "6        M5A  Downtown Toronto       Regent Park\n",
       "7        M6A        North York  Lawrence Heights"
      ]
     },
     "execution_count": 61,
     "metadata": {},
     "output_type": "execute_result"
    }
   ],
   "source": [
    "df.head()"
   ]
  },
  {
   "cell_type": "code",
   "execution_count": 62,
   "metadata": {},
   "outputs": [],
   "source": [
    "def neighbourhood_grouping(grouped_df):\n",
    "    if (len(grouped_df) == 1):\n",
    "        borough = grouped_df['Borough'].to_list()[0]\n",
    "        neighbourhood = grouped_df['Neighbourhood'].to_list()[0]\n",
    "        if neighbourhood == 'Not assigned':\n",
    "            return borough\n",
    "        else:\n",
    "            return neighbourhood\n",
    "    else:\n",
    "        return ', '.join(sorted(grouped_df['Neighbourhood'].tolist()))\n",
    "    \n",
    "grouped_df = df.groupby(['PostalCode', 'Borough'])\n",
    "df_new = grouped_df.apply(neighbourhood_grouping).reset_index(name = 'Neighbourhood')"
   ]
  },
  {
   "cell_type": "code",
   "execution_count": 63,
   "metadata": {},
   "outputs": [
    {
     "data": {
      "text/html": [
       "<div>\n",
       "<style scoped>\n",
       "    .dataframe tbody tr th:only-of-type {\n",
       "        vertical-align: middle;\n",
       "    }\n",
       "\n",
       "    .dataframe tbody tr th {\n",
       "        vertical-align: top;\n",
       "    }\n",
       "\n",
       "    .dataframe thead th {\n",
       "        text-align: right;\n",
       "    }\n",
       "</style>\n",
       "<table border=\"1\" class=\"dataframe\">\n",
       "  <thead>\n",
       "    <tr style=\"text-align: right;\">\n",
       "      <th></th>\n",
       "      <th>PostalCode</th>\n",
       "      <th>Borough</th>\n",
       "      <th>Neighbourhood</th>\n",
       "    </tr>\n",
       "  </thead>\n",
       "  <tbody>\n",
       "    <tr>\n",
       "      <th>0</th>\n",
       "      <td>M1B</td>\n",
       "      <td>Scarborough</td>\n",
       "      <td>Malvern, Rouge</td>\n",
       "    </tr>\n",
       "    <tr>\n",
       "      <th>1</th>\n",
       "      <td>M1C</td>\n",
       "      <td>Scarborough</td>\n",
       "      <td>Highland Creek, Port Union, Rouge Hill</td>\n",
       "    </tr>\n",
       "    <tr>\n",
       "      <th>2</th>\n",
       "      <td>M1E</td>\n",
       "      <td>Scarborough</td>\n",
       "      <td>Guildwood, Morningside, West Hill</td>\n",
       "    </tr>\n",
       "    <tr>\n",
       "      <th>3</th>\n",
       "      <td>M1G</td>\n",
       "      <td>Scarborough</td>\n",
       "      <td>Woburn</td>\n",
       "    </tr>\n",
       "    <tr>\n",
       "      <th>4</th>\n",
       "      <td>M1H</td>\n",
       "      <td>Scarborough</td>\n",
       "      <td>Cedarbrae</td>\n",
       "    </tr>\n",
       "  </tbody>\n",
       "</table>\n",
       "</div>"
      ],
      "text/plain": [
       "  PostalCode      Borough                           Neighbourhood\n",
       "0        M1B  Scarborough                          Malvern, Rouge\n",
       "1        M1C  Scarborough  Highland Creek, Port Union, Rouge Hill\n",
       "2        M1E  Scarborough       Guildwood, Morningside, West Hill\n",
       "3        M1G  Scarborough                                  Woburn\n",
       "4        M1H  Scarborough                               Cedarbrae"
      ]
     },
     "execution_count": 63,
     "metadata": {},
     "output_type": "execute_result"
    }
   ],
   "source": [
    "df_new.head()"
   ]
  },
  {
   "cell_type": "code",
   "execution_count": 64,
   "metadata": {},
   "outputs": [],
   "source": [
    "df_new.rename(columns = {\"Neighbourhood\": \"Neighborhood\"},inplace =True) "
   ]
  },
  {
   "cell_type": "code",
   "execution_count": 65,
   "metadata": {},
   "outputs": [
    {
     "data": {
      "text/html": [
       "<div>\n",
       "<style scoped>\n",
       "    .dataframe tbody tr th:only-of-type {\n",
       "        vertical-align: middle;\n",
       "    }\n",
       "\n",
       "    .dataframe tbody tr th {\n",
       "        vertical-align: top;\n",
       "    }\n",
       "\n",
       "    .dataframe thead th {\n",
       "        text-align: right;\n",
       "    }\n",
       "</style>\n",
       "<table border=\"1\" class=\"dataframe\">\n",
       "  <thead>\n",
       "    <tr style=\"text-align: right;\">\n",
       "      <th></th>\n",
       "      <th>PostalCode</th>\n",
       "      <th>Borough</th>\n",
       "      <th>Neighborhood</th>\n",
       "    </tr>\n",
       "  </thead>\n",
       "  <tbody>\n",
       "    <tr>\n",
       "      <th>0</th>\n",
       "      <td>M1B</td>\n",
       "      <td>Scarborough</td>\n",
       "      <td>Malvern, Rouge</td>\n",
       "    </tr>\n",
       "    <tr>\n",
       "      <th>1</th>\n",
       "      <td>M1C</td>\n",
       "      <td>Scarborough</td>\n",
       "      <td>Highland Creek, Port Union, Rouge Hill</td>\n",
       "    </tr>\n",
       "    <tr>\n",
       "      <th>2</th>\n",
       "      <td>M1E</td>\n",
       "      <td>Scarborough</td>\n",
       "      <td>Guildwood, Morningside, West Hill</td>\n",
       "    </tr>\n",
       "    <tr>\n",
       "      <th>3</th>\n",
       "      <td>M1G</td>\n",
       "      <td>Scarborough</td>\n",
       "      <td>Woburn</td>\n",
       "    </tr>\n",
       "    <tr>\n",
       "      <th>4</th>\n",
       "      <td>M1H</td>\n",
       "      <td>Scarborough</td>\n",
       "      <td>Cedarbrae</td>\n",
       "    </tr>\n",
       "  </tbody>\n",
       "</table>\n",
       "</div>"
      ],
      "text/plain": [
       "  PostalCode      Borough                            Neighborhood\n",
       "0        M1B  Scarborough                          Malvern, Rouge\n",
       "1        M1C  Scarborough  Highland Creek, Port Union, Rouge Hill\n",
       "2        M1E  Scarborough       Guildwood, Morningside, West Hill\n",
       "3        M1G  Scarborough                                  Woburn\n",
       "4        M1H  Scarborough                               Cedarbrae"
      ]
     },
     "execution_count": 65,
     "metadata": {},
     "output_type": "execute_result"
    }
   ],
   "source": [
    "df_new.head()"
   ]
  },
  {
   "cell_type": "code",
   "execution_count": 66,
   "metadata": {},
   "outputs": [
    {
     "data": {
      "text/html": [
       "<div>\n",
       "<style scoped>\n",
       "    .dataframe tbody tr th:only-of-type {\n",
       "        vertical-align: middle;\n",
       "    }\n",
       "\n",
       "    .dataframe tbody tr th {\n",
       "        vertical-align: top;\n",
       "    }\n",
       "\n",
       "    .dataframe thead th {\n",
       "        text-align: right;\n",
       "    }\n",
       "</style>\n",
       "<table border=\"1\" class=\"dataframe\">\n",
       "  <thead>\n",
       "    <tr style=\"text-align: right;\">\n",
       "      <th></th>\n",
       "      <th>PostalCode</th>\n",
       "      <th>Latitude</th>\n",
       "      <th>Longitude</th>\n",
       "    </tr>\n",
       "  </thead>\n",
       "  <tbody>\n",
       "    <tr>\n",
       "      <th>0</th>\n",
       "      <td>M1B</td>\n",
       "      <td>43.806686</td>\n",
       "      <td>-79.194353</td>\n",
       "    </tr>\n",
       "    <tr>\n",
       "      <th>1</th>\n",
       "      <td>M1C</td>\n",
       "      <td>43.784535</td>\n",
       "      <td>-79.160497</td>\n",
       "    </tr>\n",
       "    <tr>\n",
       "      <th>2</th>\n",
       "      <td>M1E</td>\n",
       "      <td>43.763573</td>\n",
       "      <td>-79.188711</td>\n",
       "    </tr>\n",
       "    <tr>\n",
       "      <th>3</th>\n",
       "      <td>M1G</td>\n",
       "      <td>43.770992</td>\n",
       "      <td>-79.216917</td>\n",
       "    </tr>\n",
       "    <tr>\n",
       "      <th>4</th>\n",
       "      <td>M1H</td>\n",
       "      <td>43.773136</td>\n",
       "      <td>-79.239476</td>\n",
       "    </tr>\n",
       "  </tbody>\n",
       "</table>\n",
       "</div>"
      ],
      "text/plain": [
       "  PostalCode   Latitude  Longitude\n",
       "0        M1B  43.806686 -79.194353\n",
       "1        M1C  43.784535 -79.160497\n",
       "2        M1E  43.763573 -79.188711\n",
       "3        M1G  43.770992 -79.216917\n",
       "4        M1H  43.773136 -79.239476"
      ]
     },
     "execution_count": 66,
     "metadata": {},
     "output_type": "execute_result"
    }
   ],
   "source": [
    "all_coordinates =pd.read_csv('Geospatial_Coordinates.csv')\n",
    "all_coordinates.rename(columns = {\"Postal Code\": \"PostalCode\"},inplace =True) \n",
    "all_coordinates.head(5)"
   ]
  },
  {
   "cell_type": "code",
   "execution_count": 67,
   "metadata": {},
   "outputs": [
    {
     "data": {
      "text/html": [
       "<div>\n",
       "<style scoped>\n",
       "    .dataframe tbody tr th:only-of-type {\n",
       "        vertical-align: middle;\n",
       "    }\n",
       "\n",
       "    .dataframe tbody tr th {\n",
       "        vertical-align: top;\n",
       "    }\n",
       "\n",
       "    .dataframe thead th {\n",
       "        text-align: right;\n",
       "    }\n",
       "</style>\n",
       "<table border=\"1\" class=\"dataframe\">\n",
       "  <thead>\n",
       "    <tr style=\"text-align: right;\">\n",
       "      <th></th>\n",
       "      <th>PostalCode</th>\n",
       "      <th>Borough</th>\n",
       "      <th>Neighborhood</th>\n",
       "      <th>Latitude</th>\n",
       "      <th>Longitude</th>\n",
       "    </tr>\n",
       "  </thead>\n",
       "  <tbody>\n",
       "    <tr>\n",
       "      <th>0</th>\n",
       "      <td>M1B</td>\n",
       "      <td>Scarborough</td>\n",
       "      <td>Malvern, Rouge</td>\n",
       "      <td>43.806686</td>\n",
       "      <td>-79.194353</td>\n",
       "    </tr>\n",
       "    <tr>\n",
       "      <th>1</th>\n",
       "      <td>M1C</td>\n",
       "      <td>Scarborough</td>\n",
       "      <td>Highland Creek, Port Union, Rouge Hill</td>\n",
       "      <td>43.784535</td>\n",
       "      <td>-79.160497</td>\n",
       "    </tr>\n",
       "    <tr>\n",
       "      <th>2</th>\n",
       "      <td>M1E</td>\n",
       "      <td>Scarborough</td>\n",
       "      <td>Guildwood, Morningside, West Hill</td>\n",
       "      <td>43.763573</td>\n",
       "      <td>-79.188711</td>\n",
       "    </tr>\n",
       "    <tr>\n",
       "      <th>3</th>\n",
       "      <td>M1G</td>\n",
       "      <td>Scarborough</td>\n",
       "      <td>Woburn</td>\n",
       "      <td>43.770992</td>\n",
       "      <td>-79.216917</td>\n",
       "    </tr>\n",
       "    <tr>\n",
       "      <th>4</th>\n",
       "      <td>M1H</td>\n",
       "      <td>Scarborough</td>\n",
       "      <td>Cedarbrae</td>\n",
       "      <td>43.773136</td>\n",
       "      <td>-79.239476</td>\n",
       "    </tr>\n",
       "  </tbody>\n",
       "</table>\n",
       "</div>"
      ],
      "text/plain": [
       "  PostalCode      Borough                            Neighborhood   Latitude  \\\n",
       "0        M1B  Scarborough                          Malvern, Rouge  43.806686   \n",
       "1        M1C  Scarborough  Highland Creek, Port Union, Rouge Hill  43.784535   \n",
       "2        M1E  Scarborough       Guildwood, Morningside, West Hill  43.763573   \n",
       "3        M1G  Scarborough                                  Woburn  43.770992   \n",
       "4        M1H  Scarborough                               Cedarbrae  43.773136   \n",
       "\n",
       "   Longitude  \n",
       "0 -79.194353  \n",
       "1 -79.160497  \n",
       "2 -79.188711  \n",
       "3 -79.216917  \n",
       "4 -79.239476  "
      ]
     },
     "execution_count": 67,
     "metadata": {},
     "output_type": "execute_result"
    }
   ],
   "source": [
    "df_new = pd.merge(df_new, all_coordinates, on='PostalCode')\n",
    "df_new.head()"
   ]
  },
  {
   "cell_type": "markdown",
   "metadata": {},
   "source": [
    "<H3>Exploring the neighbourhoods of Toronto"
   ]
  },
  {
   "cell_type": "markdown",
   "metadata": {},
   "source": [
    "We define a function to intract with FourSquare API and get top 100 venues within a radius of 1000 metres for a given latitude and longitude. Below function will return us the venue id , venue name and category."
   ]
  },
  {
   "cell_type": "code",
   "execution_count": 18,
   "metadata": {},
   "outputs": [],
   "source": [
    "import json # library to handle JSON files\n",
    "fs_cred = None\n",
    "with open('fs.json') as json_data:\n",
    "    fs_cred = json.load(json_data)"
   ]
  },
  {
   "cell_type": "code",
   "execution_count": 19,
   "metadata": {},
   "outputs": [],
   "source": [
    "VERSION = '20180605'\n",
    "CLIENT_ID = fs_cred['CLIENT_ID']\n",
    "CLIENT_SECRET = fs_cred['CLIENT_SECRET']"
   ]
  },
  {
   "cell_type": "code",
   "execution_count": 20,
   "metadata": {},
   "outputs": [],
   "source": [
    "def get_venues(lat,lng):\n",
    "    \n",
    "    #set variables\n",
    "    radius=1000\n",
    "    LIMIT=100\n",
    "\n",
    "    #url to fetch data from foursquare api\n",
    "    url = 'https://api.foursquare.com/v2/venues/explore?&client_id={}&client_secret={}&v={}&ll={},{}&radius={}&limit={}'.format(\n",
    "            CLIENT_ID, \n",
    "            CLIENT_SECRET, \n",
    "            VERSION, \n",
    "            lat, \n",
    "            lng, \n",
    "            radius, \n",
    "            LIMIT)\n",
    "    \n",
    "    # get all the data\n",
    "    results = requests.get(url).json()\n",
    "    venue_data=results[\"response\"]['groups'][0]['items']\n",
    "    venue_details=[]\n",
    "    for row in venue_data:\n",
    "        try:\n",
    "            venue_id=row['venue']['id']\n",
    "            venue_name=row['venue']['name']\n",
    "            venue_category=row['venue']['categories'][0]['name']\n",
    "            venue_details.append([venue_id,venue_name,venue_category])\n",
    "        except KeyError:\n",
    "            pass\n",
    "        \n",
    "    column_names=['ID','Name','Category']\n",
    "    df = pd.DataFrame(venue_details,columns=column_names)\n",
    "    return df"
   ]
  },
  {
   "cell_type": "markdown",
   "metadata": {},
   "source": [
    "\n",
    "Now we will define a function to get venue details like like count , rating , tip counts for a given venue id. This will be used for ranking."
   ]
  },
  {
   "cell_type": "code",
   "execution_count": 21,
   "metadata": {},
   "outputs": [],
   "source": [
    "def get_venue_details(venue_id):\n",
    "    \n",
    "    #url to fetch data from foursquare api\n",
    "    url = 'https://api.foursquare.com/v2/venues/{}?&client_id={}&client_secret={}&v={}'.format(\n",
    "            venue_id,\n",
    "            CLIENT_ID, \n",
    "            CLIENT_SECRET, \n",
    "            VERSION)\n",
    "    \n",
    "    # get all the data\n",
    "    results = requests.get(url).json()\n",
    "    venue_data=results['response']['venue']\n",
    "    venue_details=[]\n",
    "    try:\n",
    "        venue_id=venue_data['id']\n",
    "        venue_name=venue_data['name']\n",
    "        venue_likes=venue_data['likes']['count']\n",
    "        venue_rating=venue_data['rating']\n",
    "        venue_tips=venue_data['tips']['count']\n",
    "        venue_details.append([venue_id,venue_name,venue_likes,venue_rating,venue_tips])\n",
    "    except KeyError:\n",
    "        pass\n",
    "        \n",
    "    column_names=['ID','Name','Likes','Rating','Tips']\n",
    "    df = pd.DataFrame(venue_details,columns=column_names)\n",
    "    return df"
   ]
  },
  {
   "cell_type": "code",
   "execution_count": 23,
   "metadata": {},
   "outputs": [
    {
     "data": {
      "text/plain": [
       "(211, 3)"
      ]
     },
     "execution_count": 23,
     "metadata": {},
     "output_type": "execute_result"
    }
   ],
   "source": [
    "df.shape"
   ]
  },
  {
   "cell_type": "markdown",
   "metadata": {},
   "source": [
    "So there are total of 211 different Neighborhoods in Toronto"
   ]
  },
  {
   "cell_type": "code",
   "execution_count": 25,
   "metadata": {},
   "outputs": [
    {
     "data": {
      "image/png": "[encoded data removed]",
      "text/plain": [
       "<Figure size 900x500 with 1 Axes>"
      ]
     },
     "metadata": {
      "needs_background": "light"
     },
     "output_type": "display_data"
    }
   ],
   "source": [
    "plt.figure(figsize=(9,5), dpi = 100)\n",
    "# title\n",
    "plt.title('Number of Neighborhood for each Borough in Toronto')\n",
    "#On x-axis\n",
    "plt.xlabel('Borough', fontsize = 15)\n",
    "#On y-axis\n",
    "plt.ylabel('No.of Neighborhood', fontsize=15)\n",
    "#giving a bar plot\n",
    "df_new.groupby('Borough')['Neighborhood'].count().plot(kind='bar')\n",
    "#legend\n",
    "plt.legend()\n",
    "#displays the plot\n",
    "plt.show()"
   ]
  },
  {
   "cell_type": "code",
   "execution_count": 68,
   "metadata": {},
   "outputs": [
    {
     "name": "stdout",
     "output_type": "stream",
     "text": [
      "( 1 / 103 ) Indian Resturants in Malvern, Rouge, Scarborough:0\n",
      "( 2 / 103 ) Indian Resturants in Highland Creek, Port Union, Rouge Hill, Scarborough:0\n",
      "( 3 / 103 ) Indian Resturants in Guildwood, Morningside, West Hill, Scarborough:0\n",
      "( 4 / 103 ) Indian Resturants in Woburn, Scarborough:1\n",
      "( 5 / 103 ) Indian Resturants in Cedarbrae, Scarborough:2\n",
      "( 6 / 103 ) Indian Resturants in Scarborough Village, Scarborough:0\n",
      "( 7 / 103 ) Indian Resturants in East Birchmount Park, Ionview, Kennedy Park, Scarborough:0\n",
      "( 8 / 103 ) Indian Resturants in Clairlea, Golden Mile, Oakridge, Scarborough:0\n",
      "( 9 / 103 ) Indian Resturants in Cliffcrest, Cliffside, Scarborough Village West, Scarborough:0\n",
      "( 10 / 103 ) Indian Resturants in Birch Cliff, Cliffside West, Scarborough:0\n",
      "( 11 / 103 ) Indian Resturants in Dorset Park, Scarborough Town Centre, Wexford Heights, Scarborough:2\n",
      "( 12 / 103 ) Indian Resturants in Maryvale, Wexford, Scarborough:1\n",
      "( 13 / 103 ) Indian Resturants in Agincourt, Scarborough:1\n",
      "( 14 / 103 ) Indian Resturants in Clarks Corners, Sullivan, Tam O'Shanter, Scarborough:0\n",
      "( 15 / 103 ) Indian Resturants in Agincourt North, L'Amoreaux East, Milliken, Steeles East, Scarborough:0\n",
      "( 16 / 103 ) Indian Resturants in L'Amoreaux West, Scarborough:0\n",
      "( 17 / 103 ) Indian Resturants in Upper Rouge, Scarborough:0\n",
      "( 18 / 103 ) Indian Resturants in Hillcrest Village, North York:0\n",
      "( 19 / 103 ) Indian Resturants in Fairview, Henry Farm, Oriole, North York:0\n",
      "( 20 / 103 ) Indian Resturants in Bayview Village, North York:0\n",
      "( 21 / 103 ) Indian Resturants in Silver Hills, York Mills, North York:0\n",
      "( 22 / 103 ) Indian Resturants in Newtonbrook, Willowdale, North York:1\n",
      "( 23 / 103 ) Indian Resturants in Willowdale South, North York:0\n",
      "( 24 / 103 ) Indian Resturants in York Mills West, North York:0\n",
      "( 25 / 103 ) Indian Resturants in Willowdale West, North York:0\n",
      "( 26 / 103 ) Indian Resturants in Parkwoods, North York:0\n",
      "( 27 / 103 ) Indian Resturants in Don Mills North, North York:0\n",
      "( 28 / 103 ) Indian Resturants in Don Mills South, Flemingdon Park, North York:0\n",
      "( 29 / 103 ) Indian Resturants in Bathurst Manor, Downsview North, Wilson Heights, North York:0\n",
      "( 30 / 103 ) Indian Resturants in Northwood Park, York University, North York:0\n",
      "( 31 / 103 ) Indian Resturants in CFB Toronto, Downsview East, North York:0\n",
      "( 32 / 103 ) Indian Resturants in Downsview West, North York:0\n",
      "( 33 / 103 ) Indian Resturants in Downsview Central, North York:0\n",
      "( 34 / 103 ) Indian Resturants in Downsview Northwest, North York:0\n",
      "( 35 / 103 ) Indian Resturants in Victoria Village, North York:0\n",
      "( 36 / 103 ) Indian Resturants in Parkview Hill, Woodbine Gardens, East York:0\n",
      "( 37 / 103 ) Indian Resturants in Woodbine Heights, East York:0\n",
      "( 38 / 103 ) Indian Resturants in The Beaches, East Toronto:1\n",
      "( 39 / 103 ) Indian Resturants in Leaside, East York:1\n",
      "( 40 / 103 ) Indian Resturants in Thorncliffe Park, East York:3\n",
      "( 41 / 103 ) Indian Resturants in East Toronto, East York:1\n",
      "( 42 / 103 ) Indian Resturants in Riverdale, The Danforth West, East Toronto:1\n",
      "( 43 / 103 ) Indian Resturants in India Bazaar, The Beaches West, East Toronto:7\n",
      "( 44 / 103 ) Indian Resturants in Studio District, East Toronto:0\n",
      "( 45 / 103 ) Indian Resturants in Lawrence Park, Central Toronto:0\n",
      "( 46 / 103 ) Indian Resturants in Davisville North, Central Toronto:1\n",
      "( 47 / 103 ) Indian Resturants in North Toronto West, Central Toronto:0\n",
      "( 48 / 103 ) Indian Resturants in Davisville, Central Toronto:2\n",
      "( 49 / 103 ) Indian Resturants in Moore Park, Summerhill East, Central Toronto:0\n",
      "( 50 / 103 ) Indian Resturants in Deer Park, Forest Hill SE, Rathnelly, South Hill, Summerhill West, Central Toronto:0\n",
      "( 51 / 103 ) Indian Resturants in Rosedale, Downtown Toronto:0\n",
      "( 52 / 103 ) Indian Resturants in Cabbagetown, St. James Town, Downtown Toronto:1\n",
      "( 53 / 103 ) Indian Resturants in Church and Wellesley, Downtown Toronto:1\n",
      "( 54 / 103 ) Indian Resturants in Harbourfront, Regent Park, Downtown Toronto:2\n",
      "( 55 / 103 ) Indian Resturants in Garden District, Ryerson, Downtown Toronto:0\n",
      "( 56 / 103 ) Indian Resturants in St. James Town, Downtown Toronto:0\n",
      "( 57 / 103 ) Indian Resturants in Berczy Park, Downtown Toronto:0\n",
      "( 58 / 103 ) Indian Resturants in Central Bay Street, Downtown Toronto:0\n",
      "( 59 / 103 ) Indian Resturants in Adelaide, King, Richmond, Downtown Toronto:0\n",
      "( 60 / 103 ) Indian Resturants in Harbourfront East, Toronto Islands, Union Station, Downtown Toronto:1\n",
      "( 61 / 103 ) Indian Resturants in Design Exchange, Toronto Dominion Centre, Downtown Toronto:0\n",
      "( 62 / 103 ) Indian Resturants in Commerce Court, Victoria Hotel, Downtown Toronto:0\n",
      "( 63 / 103 ) Indian Resturants in Bedford Park, Lawrence Manor East, North York:1\n",
      "( 64 / 103 ) Indian Resturants in Roselawn, Central Toronto:0\n",
      "( 65 / 103 ) Indian Resturants in Forest Hill North, Forest Hill West, Central Toronto:0\n",
      "( 66 / 103 ) Indian Resturants in North Midtown, The Annex, Yorkville, Central Toronto:2\n",
      "( 67 / 103 ) Indian Resturants in Harbord, University of Toronto, Downtown Toronto:0\n",
      "( 68 / 103 ) Indian Resturants in Chinatown, Grange Park, Kensington Market, Downtown Toronto:1\n",
      "( 69 / 103 ) Indian Resturants in Bathurst Quay, CN Tower, Harbourfront West, Island airport, King and Spadina, Railway Lands, South Niagara, Downtown Toronto:0\n",
      "( 70 / 103 ) Indian Resturants in Stn A PO Boxes 25 The Esplanade, Downtown Toronto:0\n",
      "( 71 / 103 ) Indian Resturants in First Canadian Place, Underground city, Downtown Toronto:0\n",
      "( 72 / 103 ) Indian Resturants in Lawrence Heights, Lawrence Manor, North York:0\n",
      "( 73 / 103 ) Indian Resturants in Glencairn, North York:0\n",
      "( 74 / 103 ) Indian Resturants in Humewood-Cedarvale, York:0\n",
      "( 75 / 103 ) Indian Resturants in Caledonia-Fairbanks, York:0\n",
      "( 76 / 103 ) Indian Resturants in Christie, Downtown Toronto:2\n",
      "( 77 / 103 ) Indian Resturants in Dovercourt Village, Dufferin, West Toronto:0\n",
      "( 78 / 103 ) Indian Resturants in Little Portugal, Trinity, West Toronto:0\n",
      "( 79 / 103 ) Indian Resturants in Brockton, Exhibition Place, Parkdale Village, West Toronto:2\n",
      "( 80 / 103 ) Indian Resturants in Downsview, North Park, Upwood Park, North York:0\n",
      "( 81 / 103 ) Indian Resturants in Del Ray, Keelesdale, Mount Dennis, Silverthorn, York:0\n",
      "( 82 / 103 ) Indian Resturants in Runnymede, The Junction North, York:1\n",
      "( 83 / 103 ) Indian Resturants in High Park, The Junction South, West Toronto:1\n",
      "( 84 / 103 ) Indian Resturants in Parkdale, Roncesvalles, West Toronto:0\n",
      "( 85 / 103 ) Indian Resturants in Runnymede, Swansea, West Toronto:1\n",
      "( 86 / 103 ) Indian Resturants in Queen's Park, Queen's Park:1\n",
      "( 87 / 103 ) Indian Resturants in Canada Post Gateway Processing Centre, Mississauga:2\n",
      "( 88 / 103 ) Indian Resturants in Business Reply Mail Processing Centre 969 Eastern, East Toronto:0\n",
      "( 89 / 103 ) Indian Resturants in Humber Bay Shores, Mimico South, New Toronto, Etobicoke:1\n",
      "( 90 / 103 ) Indian Resturants in Alderwood, Long Branch, Etobicoke:0\n",
      "( 91 / 103 ) Indian Resturants in Montgomery Road, Old Mill North, The Kingsway, Etobicoke:1\n",
      "( 92 / 103 ) Indian Resturants in Humber Bay, King's Mill Park, Kingsway Park South East, Mimico NE, Old Mill South, Royal York South East, Sunnylea, The Queensway East, Etobicoke:0\n",
      "( 93 / 103 ) Indian Resturants in Kingsway Park South West, Mimico NW, Royal York South West, South of Bloor, The Queensway West, Etobicoke:0\n",
      "( 94 / 103 ) Indian Resturants in Islington Avenue, Etobicoke:0\n",
      "( 95 / 103 ) Indian Resturants in Cloverdale, Islington, Martin Grove, Princess Gardens, West Deane Park, Etobicoke:0\n",
      "( 96 / 103 ) Indian Resturants in Bloordale Gardens, Eringate, Markland Wood, Old Burnhamthorpe, Etobicoke:0\n",
      "( 97 / 103 ) Indian Resturants in Humber Summit, North York:0\n",
      "( 98 / 103 ) Indian Resturants in Emery, Humberlea, North York:0\n",
      "( 99 / 103 ) Indian Resturants in Weston, York:0\n",
      "( 100 / 103 ) Indian Resturants in Westmount, Etobicoke:0\n",
      "( 101 / 103 ) Indian Resturants in Kingsview Village, Martin Grove Gardens, Richview Gardens, St. Phillips, Etobicoke:0\n",
      "( 102 / 103 ) Indian Resturants in Albion Gardens, Beaumond Heights, Humbergate, Jamestown, Mount Olive, Silverstone, South Steeles, Thistletown, Etobicoke:0\n",
      "( 103 / 103 ) Indian Resturants in Northwest, Etobicoke:0\n"
     ]
    }
   ],
   "source": [
    "# prepare neighborhood list that contains indian resturants\n",
    "column_names=['Borough', 'Neighborhood', 'ID','Name']\n",
    "indian_rest_Toronto=pd.DataFrame(columns=column_names)\n",
    "count=1\n",
    "for row in df_new.values.tolist():\n",
    "    PostalCode,Borough, Neighborhood, Latitude, Longitude=row\n",
    "    venues = get_venues(Latitude,Longitude)\n",
    "    indian_resturants=venues[venues['Category']=='Indian Restaurant']   \n",
    "    print('(',count,'/',len(df_new),')','Indian Resturants in '+Neighborhood+', '+Borough+':'+str(len(indian_resturants)))\n",
    "    for resturant_detail in indian_resturants.values.tolist():\n",
    "        id, name , category=resturant_detail\n",
    "        indian_rest_Toronto = indian_rest_Toronto.append({'Borough': Borough,\n",
    "                                                'Neighborhood': Neighborhood, \n",
    "                                                'ID': id,\n",
    "                                                'Name' : name\n",
    "                                               }, ignore_index=True)\n",
    "    count+=1"
   ]
  },
  {
   "cell_type": "code",
   "execution_count": 72,
   "metadata": {},
   "outputs": [
    {
     "data": {
      "text/html": [
       "<div>\n",
       "<style scoped>\n",
       "    .dataframe tbody tr th:only-of-type {\n",
       "        vertical-align: middle;\n",
       "    }\n",
       "\n",
       "    .dataframe tbody tr th {\n",
       "        vertical-align: top;\n",
       "    }\n",
       "\n",
       "    .dataframe thead th {\n",
       "        text-align: right;\n",
       "    }\n",
       "</style>\n",
       "<table border=\"1\" class=\"dataframe\">\n",
       "  <thead>\n",
       "    <tr style=\"text-align: right;\">\n",
       "      <th></th>\n",
       "      <th>Borough</th>\n",
       "      <th>Neighborhood</th>\n",
       "      <th>ID</th>\n",
       "      <th>Name</th>\n",
       "    </tr>\n",
       "  </thead>\n",
       "  <tbody>\n",
       "    <tr>\n",
       "      <th>0</th>\n",
       "      <td>Scarborough</td>\n",
       "      <td>Woburn</td>\n",
       "      <td>4c632edeedd320a19ad5ae29</td>\n",
       "      <td>Bombay Palace</td>\n",
       "    </tr>\n",
       "    <tr>\n",
       "      <th>1</th>\n",
       "      <td>Scarborough</td>\n",
       "      <td>Cedarbrae</td>\n",
       "      <td>4d6008f829ef236a8832a059</td>\n",
       "      <td>CANBE Foods Inc</td>\n",
       "    </tr>\n",
       "    <tr>\n",
       "      <th>2</th>\n",
       "      <td>Scarborough</td>\n",
       "      <td>Cedarbrae</td>\n",
       "      <td>4c77fc87bd346dcb8c90f0ef</td>\n",
       "      <td>La Sani Grill</td>\n",
       "    </tr>\n",
       "    <tr>\n",
       "      <th>3</th>\n",
       "      <td>Scarborough</td>\n",
       "      <td>Dorset Park, Scarborough Town Centre, Wexford ...</td>\n",
       "      <td>5226562611d2cd49d83ef03b</td>\n",
       "      <td>Kairali</td>\n",
       "    </tr>\n",
       "    <tr>\n",
       "      <th>4</th>\n",
       "      <td>Scarborough</td>\n",
       "      <td>Dorset Park, Scarborough Town Centre, Wexford ...</td>\n",
       "      <td>4bf96c435317a593a23a017f</td>\n",
       "      <td>Karaikudi Chettinad South Indian Restaurant</td>\n",
       "    </tr>\n",
       "  </tbody>\n",
       "</table>\n",
       "</div>"
      ],
      "text/plain": [
       "       Borough                                       Neighborhood  \\\n",
       "0  Scarborough                                             Woburn   \n",
       "1  Scarborough                                          Cedarbrae   \n",
       "2  Scarborough                                          Cedarbrae   \n",
       "3  Scarborough  Dorset Park, Scarborough Town Centre, Wexford ...   \n",
       "4  Scarborough  Dorset Park, Scarborough Town Centre, Wexford ...   \n",
       "\n",
       "                         ID                                         Name  \n",
       "0  4c632edeedd320a19ad5ae29                                Bombay Palace  \n",
       "1  4d6008f829ef236a8832a059                              CANBE Foods Inc  \n",
       "2  4c77fc87bd346dcb8c90f0ef                                La Sani Grill  \n",
       "3  5226562611d2cd49d83ef03b                                      Kairali  \n",
       "4  4bf96c435317a593a23a017f  Karaikudi Chettinad South Indian Restaurant  "
      ]
     },
     "execution_count": 72,
     "metadata": {},
     "output_type": "execute_result"
    }
   ],
   "source": [
    "indian_rest_Toronto.head()"
   ]
  },
  {
   "cell_type": "code",
   "execution_count": 73,
   "metadata": {},
   "outputs": [
    {
     "data": {
      "text/plain": [
       "(46, 4)"
      ]
     },
     "execution_count": 73,
     "metadata": {},
     "output_type": "execute_result"
    }
   ],
   "source": [
    "indian_rest_Toronto.shape"
   ]
  },
  {
   "cell_type": "markdown",
   "metadata": {},
   "source": [
    "We got 46 Indian Resturants across Toronto"
   ]
  },
  {
   "cell_type": "code",
   "execution_count": 39,
   "metadata": {},
   "outputs": [
    {
     "data": {
      "image/png": "[encoded data removed]",
      "text/plain": [
       "<Figure size 900x500 with 1 Axes>"
      ]
     },
     "metadata": {
      "needs_background": "light"
     },
     "output_type": "display_data"
    }
   ],
   "source": [
    "plt.figure(figsize=(9,5), dpi = 100)\n",
    "# title\n",
    "plt.title('Number of Indian Resturants for each Borough in Toronto')\n",
    "#On x-axis\n",
    "plt.xlabel('Borough', fontsize = 15)\n",
    "#On y-axis\n",
    "plt.ylabel('No.of Indian Resturants', fontsize=15)\n",
    "#giving a bar plot\n",
    "indian_rest_Toronto.groupby('Borough')['ID'].count().plot(kind='bar')\n",
    "#legend\n",
    "plt.legend()\n",
    "#displays the plot\n",
    "plt.show()"
   ]
  },
  {
   "cell_type": "markdown",
   "metadata": {},
   "source": [
    "We see that East Toronto has the largest number of indian resturants"
   ]
  },
  {
   "cell_type": "code",
   "execution_count": 104,
   "metadata": {},
   "outputs": [
    {
     "data": {
      "image/png": "[encoded data removed]",
      "text/plain": [
       "<Figure size 900x500 with 1 Axes>"
      ]
     },
     "metadata": {
      "needs_background": "light"
     },
     "output_type": "display_data"
    }
   ],
   "source": [
    "plt.figure(figsize=(9,5), dpi = 100)\n",
    "# title\n",
    "plt.title('Number of Indian Resturants for each Neighborhood in Toronto')\n",
    "#On x-axis\n",
    "plt.xlabel('Neighborhood', fontsize = 15)\n",
    "#On y-axis\n",
    "plt.ylabel('No.of Indian Resturants', fontsize=15)\n",
    "#giving a bar plot\n",
    "indian_rest_Toronto.groupby('Neighborhood')['ID'].count().nlargest(5).plot(kind='bar')\n",
    "#legend\n",
    "plt.legend()\n",
    "#displays the plot\n",
    "plt.show()\n"
   ]
  },
  {
   "cell_type": "code",
   "execution_count": 43,
   "metadata": {},
   "outputs": [
    {
     "data": {
      "text/html": [
       "<div>\n",
       "<style scoped>\n",
       "    .dataframe tbody tr th:only-of-type {\n",
       "        vertical-align: middle;\n",
       "    }\n",
       "\n",
       "    .dataframe tbody tr th {\n",
       "        vertical-align: top;\n",
       "    }\n",
       "\n",
       "    .dataframe thead th {\n",
       "        text-align: right;\n",
       "    }\n",
       "</style>\n",
       "<table border=\"1\" class=\"dataframe\">\n",
       "  <thead>\n",
       "    <tr style=\"text-align: right;\">\n",
       "      <th></th>\n",
       "      <th>Borough</th>\n",
       "      <th>Neighborhood</th>\n",
       "      <th>ID</th>\n",
       "      <th>Name</th>\n",
       "    </tr>\n",
       "  </thead>\n",
       "  <tbody>\n",
       "    <tr>\n",
       "      <th>17</th>\n",
       "      <td>East Toronto</td>\n",
       "      <td>India Bazaar, The Beaches West</td>\n",
       "      <td>4ae0c7a8f964a520638221e3</td>\n",
       "      <td>Udupi Palace</td>\n",
       "    </tr>\n",
       "    <tr>\n",
       "      <th>18</th>\n",
       "      <td>East Toronto</td>\n",
       "      <td>India Bazaar, The Beaches West</td>\n",
       "      <td>4afc9816f964a520312422e3</td>\n",
       "      <td>Motimahal</td>\n",
       "    </tr>\n",
       "    <tr>\n",
       "      <th>19</th>\n",
       "      <td>East Toronto</td>\n",
       "      <td>India Bazaar, The Beaches West</td>\n",
       "      <td>4bac30a2f964a52018ea3ae3</td>\n",
       "      <td>Bombay Chowpatty</td>\n",
       "    </tr>\n",
       "    <tr>\n",
       "      <th>20</th>\n",
       "      <td>East Toronto</td>\n",
       "      <td>India Bazaar, The Beaches West</td>\n",
       "      <td>4ad9052cf964a520301721e3</td>\n",
       "      <td>Regency Restaurant</td>\n",
       "    </tr>\n",
       "    <tr>\n",
       "      <th>21</th>\n",
       "      <td>East Toronto</td>\n",
       "      <td>India Bazaar, The Beaches West</td>\n",
       "      <td>4bbcc0efa0a0c9b60ebd1a0f</td>\n",
       "      <td>Haandi 2000</td>\n",
       "    </tr>\n",
       "    <tr>\n",
       "      <th>22</th>\n",
       "      <td>East Toronto</td>\n",
       "      <td>India Bazaar, The Beaches West</td>\n",
       "      <td>4d8d278a1d06b1f712942a3b</td>\n",
       "      <td>Gautama</td>\n",
       "    </tr>\n",
       "  </tbody>\n",
       "</table>\n",
       "</div>"
      ],
      "text/plain": [
       "         Borough                    Neighborhood                        ID  \\\n",
       "17  East Toronto  India Bazaar, The Beaches West  4ae0c7a8f964a520638221e3   \n",
       "18  East Toronto  India Bazaar, The Beaches West  4afc9816f964a520312422e3   \n",
       "19  East Toronto  India Bazaar, The Beaches West  4bac30a2f964a52018ea3ae3   \n",
       "20  East Toronto  India Bazaar, The Beaches West  4ad9052cf964a520301721e3   \n",
       "21  East Toronto  India Bazaar, The Beaches West  4bbcc0efa0a0c9b60ebd1a0f   \n",
       "22  East Toronto  India Bazaar, The Beaches West  4d8d278a1d06b1f712942a3b   \n",
       "\n",
       "                  Name  \n",
       "17        Udupi Palace  \n",
       "18           Motimahal  \n",
       "19    Bombay Chowpatty  \n",
       "20  Regency Restaurant  \n",
       "21         Haandi 2000  \n",
       "22             Gautama  "
      ]
     },
     "execution_count": 43,
     "metadata": {},
     "output_type": "execute_result"
    }
   ],
   "source": [
    "indian_rest_Toronto[indian_rest_Toronto['Neighborhood']=='India Bazaar, The Beaches West']"
   ]
  },
  {
   "cell_type": "code",
   "execution_count": 45,
   "metadata": {},
   "outputs": [
    {
     "name": "stdout",
     "output_type": "stream",
     "text": [
      "Empty DataFrame\n",
      "Columns: [ID, Name, Likes, Rating, Tips]\n",
      "Index: []\n",
      "No data available for id= 4c632edeedd320a19ad5ae29\n",
      "( 1 / 46 ) processed\n",
      "                         ID             Name  Likes  Rating  Tips\n",
      "0  4d6008f829ef236a8832a059  CANBE Foods Inc     22     8.2     8\n",
      "( 2 / 46 ) processed\n",
      "                         ID           Name  Likes  Rating  Tips\n",
      "0  4c77fc87bd346dcb8c90f0ef  La Sani Grill     12     6.6    12\n",
      "( 3 / 46 ) processed\n",
      "                         ID     Name  Likes  Rating  Tips\n",
      "0  5226562611d2cd49d83ef03b  Kairali      9     7.4     6\n",
      "( 4 / 46 ) processed\n",
      "                         ID                                         Name  \\\n",
      "0  4bf96c435317a593a23a017f  Karaikudi Chettinad South Indian Restaurant   \n",
      "\n",
      "   Likes  Rating  Tips  \n",
      "0     27     5.9    23  \n",
      "( 5 / 46 ) processed\n",
      "                         ID               Name  Likes  Rating  Tips\n",
      "0  4c27cddd9fb5d13a8cab9857  Patna Kebab House      4     7.8     6\n",
      "( 6 / 46 ) processed\n",
      "                         ID                                Name  Likes  \\\n",
      "0  4d570727fb65236a7f600db4  Silver Spoon Pak-Indian Restaurant     11   \n",
      "\n",
      "   Rating  Tips  \n",
      "0     7.5     6  \n",
      "( 7 / 46 ) processed\n",
      "                         ID                     Name  Likes  Rating  Tips\n",
      "0  4b43dde2f964a52099ec25e3  Earth Indian Restaurant      4     6.0    11\n",
      "( 8 / 46 ) processed\n",
      "Empty DataFrame\n",
      "Columns: [ID, Name, Likes, Rating, Tips]\n",
      "Index: []\n",
      "No data available for id= 5bacff8d340a58002c39df9e\n",
      "( 9 / 46 ) processed\n",
      "                         ID          Name  Likes  Rating  Tips\n",
      "0  4dcd7c6352b1f8915b7e7f7e  Delhi Bistro      6     6.8     3\n",
      "( 10 / 46 ) processed\n",
      "Empty DataFrame\n",
      "Columns: [ID, Name, Likes, Rating, Tips]\n",
      "Index: []\n",
      "No data available for id= 4b60e4a1f964a52023002ae3\n",
      "( 11 / 46 ) processed\n",
      "                         ID                   Name  Likes  Rating  Tips\n",
      "0  504bcf32e4b0ef19b0e2ecf8  Mt Everest Restaurant      8     6.3     6\n",
      "( 12 / 46 ) processed\n",
      "                         ID                        Name  Likes  Rating  Tips\n",
      "0  4daf08e66e81e2dffdd4fe40  Iqbal Kebab & Sweet Centre     13     7.9     6\n",
      "( 13 / 46 ) processed\n",
      "                         ID          Name  Likes  Rating  Tips\n",
      "0  4bed9f2fbac3c9b6ad93fee9  Hakka Garden     10     6.5    12\n",
      "( 14 / 46 ) processed\n",
      "                         ID              Name  Likes  Rating  Tips\n",
      "0  507a19e5e4b0602b62f73d11  Faley Restaurant      6     6.5     4\n",
      "( 15 / 46 ) processed\n",
      "Empty DataFrame\n",
      "Columns: [ID, Name, Likes, Rating, Tips]\n",
      "Index: []\n",
      "No data available for id= 4c9fe5ca03133704df8d76d5\n",
      "( 16 / 46 ) processed\n",
      "                         ID           Name  Likes  Rating  Tips\n",
      "0  4c1d5337eac020a1cb1048c2  Sher-E-Punjab     10     7.3     7\n",
      "( 17 / 46 ) processed\n",
      "                         ID          Name  Likes  Rating  Tips\n",
      "0  4ae0c7a8f964a520638221e3  Udupi Palace     79     8.7    31\n",
      "( 18 / 46 ) processed\n",
      "                         ID       Name  Likes  Rating  Tips\n",
      "0  4afc9816f964a520312422e3  Motimahal     25     7.8    13\n",
      "( 19 / 46 ) processed\n",
      "                         ID              Name  Likes  Rating  Tips\n",
      "0  4bac30a2f964a52018ea3ae3  Bombay Chowpatty      7     7.5     5\n",
      "( 20 / 46 ) processed\n",
      "                         ID                Name  Likes  Rating  Tips\n",
      "0  4ad9052cf964a520301721e3  Regency Restaurant      6     6.4     4\n",
      "( 21 / 46 ) processed\n",
      "                         ID         Name  Likes  Rating  Tips\n",
      "0  4bbcc0efa0a0c9b60ebd1a0f  Haandi 2000      3     6.4     7\n",
      "( 22 / 46 ) processed\n",
      "                         ID     Name  Likes  Rating  Tips\n",
      "0  4d8d278a1d06b1f712942a3b  Gautama     15     5.9    15\n",
      "( 23 / 46 ) processed\n",
      "                         ID                    Name  Likes  Rating  Tips\n",
      "0  5169d445e4b07de190b5c3d6  Marigold Indian Bistro     11     7.9    11\n",
      "( 24 / 46 ) processed\n",
      "                         ID                    Name  Likes  Rating  Tips\n",
      "0  4b7ccc72f964a520e3a52fe3  Banjara Indian Cuisine     24     6.7    19\n",
      "( 25 / 46 ) processed\n",
      "                         ID                    Name  Likes  Rating  Tips\n",
      "0  4c8c21fdf0ce236ab28e15ef  Butter Chicken Factory     19     8.5    10\n",
      "( 26 / 46 ) processed\n",
      "                         ID                   Name  Likes  Rating  Tips\n",
      "0  4bedf8b5e24d20a17b567214  Kothur Indian Cuisine     16     8.2    19\n",
      "( 27 / 46 ) processed\n",
      "                         ID           Name  Likes  Rating  Tips\n",
      "0  4af9a379f964a520c91222e3  Bombay Palace     14     7.4    13\n",
      "( 28 / 46 ) processed\n",
      "                         ID               Name  Likes  Rating  Tips\n",
      "0  52af6dc5498e33995b0bbf03  Sultan Of Samosas      9     6.8     4\n",
      "( 29 / 46 ) processed\n",
      "                         ID               Name  Likes  Rating  Tips\n",
      "0  50b79b94e4b0a577af25a83f  Indian Roti House     38     7.5    14\n",
      "( 30 / 46 ) processed\n",
      "                         ID                Name  Likes  Rating  Tips\n",
      "0  4d796616542ab1f75eb87c41  The Copper Chimney     14     7.2    15\n",
      "( 31 / 46 ) processed\n",
      "                         ID                   Name  Likes  Rating  Tips\n",
      "0  4c62c59ce1621b8dd0332453  Roti Cuisine of India     39     8.6    18\n",
      "( 32 / 46 ) processed\n",
      "                         ID      Name  Likes  Rating  Tips\n",
      "0  4ad4c060f964a5204af720e3  The Host     31     7.3    13\n",
      "( 33 / 46 ) processed\n",
      "                         ID           Name  Likes  Rating  Tips\n",
      "0  5afda69cfe0e2a002455224b  My Roti Place      9     8.2     3\n",
      "( 34 / 46 ) processed\n",
      "                         ID                    Name  Likes  Rating  Tips\n",
      "0  4adb969ef964a520332921e3  Banjara Indian Cuisine    142     8.9    75\n",
      "( 35 / 46 ) processed\n",
      "                         ID           Name  Likes  Rating  Tips\n",
      "0  4b7369d7f964a52049ad2de3  Madras Masala     34     8.1    21\n",
      "( 36 / 46 ) processed\n",
      "                         ID          Name  Likes  Rating  Tips\n",
      "0  4aecbbb0f964a520bcca21e3  Mother India     46     8.3    31\n",
      "( 37 / 46 ) processed\n",
      "                         ID           Name  Likes  Rating  Tips\n",
      "0  4ba6e1f8f964a520537539e3  Om Restaurant     19     7.8    17\n",
      "( 38 / 46 ) processed\n",
      "                         ID       Name  Likes  Rating  Tips\n",
      "0  4b3bd657f964a520377c25e3  Roti Time      5     6.0    11\n",
      "( 39 / 46 ) processed\n",
      "                         ID         Name  Likes  Rating  Tips\n",
      "0  4b511f6ff964a520994327e3  Curry Twist     20     8.3    17\n",
      "( 40 / 46 ) processed\n",
      "                         ID                    Name  Likes  Rating  Tips\n",
      "0  525e1812498e2c14b4d80b8b  Bukhara indian cuisine      6     6.8     3\n",
      "( 41 / 46 ) processed\n",
      "                         ID                   Name  Likes  Rating  Tips\n",
      "0  4bedf8b5e24d20a17b567214  Kothur Indian Cuisine     16     8.2    19\n",
      "( 42 / 46 ) processed\n",
      "                         ID           Name  Likes  Rating  Tips\n",
      "0  595fb4ab178a2a1a946eec2b  Barbq Tonight      7     6.7     1\n",
      "( 43 / 46 ) processed\n",
      "                         ID  Name  Likes  Rating  Tips\n",
      "0  4bff0c5668c7a5932a1f4044  Zauq      9     6.0    11\n",
      "( 44 / 46 ) processed\n",
      "                         ID                Name  Likes  Rating  Tips\n",
      "0  4bc10d44abf49521d773c093  Bombay on the Lake      6     7.0     9\n",
      "( 45 / 46 ) processed\n",
      "                         ID                          Name  Likes  Rating  Tips\n",
      "0  4af1c64ff964a5200ae321e3  Chutneys Fine Indian Cuisine      5     6.7    10\n",
      "( 46 / 46 ) processed\n"
     ]
    }
   ],
   "source": [
    "# prepare neighborhood list that contains indian resturants\n",
    "column_names=['Borough', 'Neighborhood', 'ID','Name','Likes','Rating','Tips']\n",
    "indian_rest_stats_Toronto=pd.DataFrame(columns=column_names)\n",
    "count=1\n",
    "\n",
    "\n",
    "for row in indian_rest_Toronto.values.tolist():\n",
    "    Borough,Neighborhood,ID,Name=row\n",
    "    try:\n",
    "        venue_details=get_venue_details(ID)\n",
    "        print(venue_details)\n",
    "        id,name,likes,rating,tips=venue_details.values.tolist()[0]\n",
    "    except IndexError:\n",
    "        print('No data available for id=',ID)\n",
    "        # we will assign 0 value for these resturants as they may have been \n",
    "        #recently opened or details does not exist in FourSquare Database\n",
    "        id,name,likes,rating,tips=[0]*5\n",
    "    print('(',count,'/',len(indian_rest_Toronto),')','processed')\n",
    "    indian_rest_stats_Toronto = indian_rest_stats_Toronto.append({'Borough': Borough,\n",
    "                                                'Neighborhood': Neighborhood, \n",
    "                                                'ID': id,\n",
    "                                                'Name' : name,\n",
    "                                                'Likes' : likes,\n",
    "                                                'Rating' : rating,\n",
    "                                                'Tips' : tips\n",
    "                                               }, ignore_index=True)\n",
    "    count+=1"
   ]
  },
  {
   "cell_type": "code",
   "execution_count": 46,
   "metadata": {},
   "outputs": [
    {
     "data": {
      "text/html": [
       "<div>\n",
       "<style scoped>\n",
       "    .dataframe tbody tr th:only-of-type {\n",
       "        vertical-align: middle;\n",
       "    }\n",
       "\n",
       "    .dataframe tbody tr th {\n",
       "        vertical-align: top;\n",
       "    }\n",
       "\n",
       "    .dataframe thead th {\n",
       "        text-align: right;\n",
       "    }\n",
       "</style>\n",
       "<table border=\"1\" class=\"dataframe\">\n",
       "  <thead>\n",
       "    <tr style=\"text-align: right;\">\n",
       "      <th></th>\n",
       "      <th>Borough</th>\n",
       "      <th>Neighborhood</th>\n",
       "      <th>ID</th>\n",
       "      <th>Name</th>\n",
       "      <th>Likes</th>\n",
       "      <th>Rating</th>\n",
       "      <th>Tips</th>\n",
       "    </tr>\n",
       "  </thead>\n",
       "  <tbody>\n",
       "    <tr>\n",
       "      <th>0</th>\n",
       "      <td>Scarborough</td>\n",
       "      <td>Woburn</td>\n",
       "      <td>0</td>\n",
       "      <td>0</td>\n",
       "      <td>0</td>\n",
       "      <td>0</td>\n",
       "      <td>0</td>\n",
       "    </tr>\n",
       "    <tr>\n",
       "      <th>1</th>\n",
       "      <td>Scarborough</td>\n",
       "      <td>Cedarbrae</td>\n",
       "      <td>4d6008f829ef236a8832a059</td>\n",
       "      <td>CANBE Foods Inc</td>\n",
       "      <td>22</td>\n",
       "      <td>8.2</td>\n",
       "      <td>8</td>\n",
       "    </tr>\n",
       "    <tr>\n",
       "      <th>2</th>\n",
       "      <td>Scarborough</td>\n",
       "      <td>Cedarbrae</td>\n",
       "      <td>4c77fc87bd346dcb8c90f0ef</td>\n",
       "      <td>La Sani Grill</td>\n",
       "      <td>12</td>\n",
       "      <td>6.6</td>\n",
       "      <td>12</td>\n",
       "    </tr>\n",
       "    <tr>\n",
       "      <th>3</th>\n",
       "      <td>Scarborough</td>\n",
       "      <td>Dorset Park, Scarborough Town Centre, Wexford ...</td>\n",
       "      <td>5226562611d2cd49d83ef03b</td>\n",
       "      <td>Kairali</td>\n",
       "      <td>9</td>\n",
       "      <td>7.4</td>\n",
       "      <td>6</td>\n",
       "    </tr>\n",
       "    <tr>\n",
       "      <th>4</th>\n",
       "      <td>Scarborough</td>\n",
       "      <td>Dorset Park, Scarborough Town Centre, Wexford ...</td>\n",
       "      <td>4bf96c435317a593a23a017f</td>\n",
       "      <td>Karaikudi Chettinad South Indian Restaurant</td>\n",
       "      <td>27</td>\n",
       "      <td>5.9</td>\n",
       "      <td>23</td>\n",
       "    </tr>\n",
       "  </tbody>\n",
       "</table>\n",
       "</div>"
      ],
      "text/plain": [
       "       Borough                                       Neighborhood  \\\n",
       "0  Scarborough                                             Woburn   \n",
       "1  Scarborough                                          Cedarbrae   \n",
       "2  Scarborough                                          Cedarbrae   \n",
       "3  Scarborough  Dorset Park, Scarborough Town Centre, Wexford ...   \n",
       "4  Scarborough  Dorset Park, Scarborough Town Centre, Wexford ...   \n",
       "\n",
       "                         ID                                         Name  \\\n",
       "0                         0                                            0   \n",
       "1  4d6008f829ef236a8832a059                              CANBE Foods Inc   \n",
       "2  4c77fc87bd346dcb8c90f0ef                                La Sani Grill   \n",
       "3  5226562611d2cd49d83ef03b                                      Kairali   \n",
       "4  4bf96c435317a593a23a017f  Karaikudi Chettinad South Indian Restaurant   \n",
       "\n",
       "  Likes Rating Tips  \n",
       "0     0      0    0  \n",
       "1    22    8.2    8  \n",
       "2    12    6.6   12  \n",
       "3     9    7.4    6  \n",
       "4    27    5.9   23  "
      ]
     },
     "execution_count": 46,
     "metadata": {},
     "output_type": "execute_result"
    }
   ],
   "source": [
    "indian_rest_stats_Toronto.head()"
   ]
  },
  {
   "cell_type": "code",
   "execution_count": 74,
   "metadata": {},
   "outputs": [
    {
     "data": {
      "text/plain": [
       "(46, 7)"
      ]
     },
     "execution_count": 74,
     "metadata": {},
     "output_type": "execute_result"
    }
   ],
   "source": [
    "indian_rest_stats_Toronto.shape"
   ]
  },
  {
   "cell_type": "code",
   "execution_count": 75,
   "metadata": {},
   "outputs": [
    {
     "data": {
      "text/plain": [
       "(46, 4)"
      ]
     },
     "execution_count": 75,
     "metadata": {},
     "output_type": "execute_result"
    }
   ],
   "source": [
    "indian_rest_Toronto.shape"
   ]
  },
  {
   "cell_type": "markdown",
   "metadata": {},
   "source": [
    "So we got data for all resturants Now lets save this data to a csv sheet. In case we by mistake modify it. As the number of calls to get details for venue are premium call and have limit of 500 per day, we will refer to saved data sheet csv if required"
   ]
  },
  {
   "cell_type": "code",
   "execution_count": 49,
   "metadata": {},
   "outputs": [],
   "source": [
    "indian_rest_stats_Toronto.to_csv('indian_rest_stats_Toronto.csv', index=False)"
   ]
  },
  {
   "cell_type": "code",
   "execution_count": 69,
   "metadata": {},
   "outputs": [
    {
     "name": "stdout",
     "output_type": "stream",
     "text": [
      "<class 'pandas.core.frame.DataFrame'>\n",
      "RangeIndex: 46 entries, 0 to 45\n",
      "Data columns (total 7 columns):\n",
      "Borough         46 non-null object\n",
      "Neighborhood    46 non-null object\n",
      "ID              46 non-null object\n",
      "Name            46 non-null object\n",
      "Likes           46 non-null int64\n",
      "Rating          46 non-null float64\n",
      "Tips            46 non-null int64\n",
      "dtypes: float64(1), int64(2), object(4)\n",
      "memory usage: 2.6+ KB\n"
     ]
    }
   ],
   "source": [
    "indian_rest_stats_Toronto=pd.read_csv('indian_rest_stats_Toronto.csv')\n",
    "indian_rest_stats_Toronto.info()"
   ]
  },
  {
   "cell_type": "markdown",
   "metadata": {},
   "source": [
    "We see that values like Likes, Tips and ratings are strig values. We would need to convert them into float for further analysis"
   ]
  },
  {
   "cell_type": "code",
   "execution_count": 76,
   "metadata": {},
   "outputs": [
    {
     "name": "stdout",
     "output_type": "stream",
     "text": [
      "<class 'pandas.core.frame.DataFrame'>\n",
      "RangeIndex: 46 entries, 0 to 45\n",
      "Data columns (total 7 columns):\n",
      "Borough         46 non-null object\n",
      "Neighborhood    46 non-null object\n",
      "ID              46 non-null object\n",
      "Name            46 non-null object\n",
      "Likes           46 non-null float64\n",
      "Rating          46 non-null float64\n",
      "Tips            46 non-null float64\n",
      "dtypes: float64(3), object(4)\n",
      "memory usage: 2.6+ KB\n"
     ]
    }
   ],
   "source": [
    "indian_rest_stats_Toronto['Likes']=indian_rest_stats_Toronto['Likes'].astype('float64')\n",
    "indian_rest_stats_Toronto['Tips']=indian_rest_stats_Toronto['Tips'].astype('float64')\n",
    "indian_rest_stats_Toronto['Rating']=indian_rest_stats_Toronto['Rating'].astype('float64')\n",
    "\n",
    "indian_rest_stats_Toronto.info()"
   ]
  },
  {
   "cell_type": "code",
   "execution_count": 29,
   "metadata": {},
   "outputs": [
    {
     "data": {
      "text/plain": [
       "Borough                 Downtown Toronto\n",
       "Neighborhood                    Christie\n",
       "ID              4adb969ef964a520332921e3\n",
       "Name              Banjara Indian Cuisine\n",
       "Likes                                142\n",
       "Rating                               8.9\n",
       "Tips                                  75\n",
       "Name: 34, dtype: object"
      ]
     },
     "execution_count": 29,
     "metadata": {},
     "output_type": "execute_result"
    }
   ],
   "source": [
    "# Resturant with maximum Likes\n",
    "indian_rest_stats_Toronto.iloc[indian_rest_stats_Toronto['Likes'].idxmax()]"
   ]
  },
  {
   "cell_type": "code",
   "execution_count": 30,
   "metadata": {},
   "outputs": [
    {
     "data": {
      "text/plain": [
       "Borough                 Downtown Toronto\n",
       "Neighborhood                    Christie\n",
       "ID              4adb969ef964a520332921e3\n",
       "Name              Banjara Indian Cuisine\n",
       "Likes                                142\n",
       "Rating                               8.9\n",
       "Tips                                  75\n",
       "Name: 34, dtype: object"
      ]
     },
     "execution_count": 30,
     "metadata": {},
     "output_type": "execute_result"
    }
   ],
   "source": [
    "# Resturant with maximum Rating\n",
    "indian_rest_stats_Toronto.iloc[indian_rest_stats_Toronto['Rating'].idxmax()]"
   ]
  },
  {
   "cell_type": "code",
   "execution_count": 31,
   "metadata": {},
   "outputs": [
    {
     "data": {
      "text/plain": [
       "Borough                 Downtown Toronto\n",
       "Neighborhood                    Christie\n",
       "ID              4adb969ef964a520332921e3\n",
       "Name              Banjara Indian Cuisine\n",
       "Likes                                142\n",
       "Rating                               8.9\n",
       "Tips                                  75\n",
       "Name: 34, dtype: object"
      ]
     },
     "execution_count": 31,
     "metadata": {},
     "output_type": "execute_result"
    }
   ],
   "source": [
    "# Resturant with maximum Tips\n",
    "indian_rest_stats_Toronto.iloc[indian_rest_stats_Toronto['Tips'].idxmax()]"
   ]
  },
  {
   "cell_type": "markdown",
   "metadata": {},
   "source": [
    "Now lets visualize neighborhood with maximum average rating of resturants"
   ]
  },
  {
   "cell_type": "markdown",
   "metadata": {},
   "source": [
    "Top 10 Indian Resturants in Toronto"
   ]
  },
  {
   "cell_type": "code",
   "execution_count": 95,
   "metadata": {},
   "outputs": [
    {
     "data": {
      "text/html": [
       "<div>\n",
       "<style scoped>\n",
       "    .dataframe tbody tr th:only-of-type {\n",
       "        vertical-align: middle;\n",
       "    }\n",
       "\n",
       "    .dataframe tbody tr th {\n",
       "        vertical-align: top;\n",
       "    }\n",
       "\n",
       "    .dataframe thead th {\n",
       "        text-align: right;\n",
       "    }\n",
       "</style>\n",
       "<table border=\"1\" class=\"dataframe\">\n",
       "  <thead>\n",
       "    <tr style=\"text-align: right;\">\n",
       "      <th></th>\n",
       "      <th>Neighborhood</th>\n",
       "      <th>Average Rating</th>\n",
       "    </tr>\n",
       "  </thead>\n",
       "  <tbody>\n",
       "    <tr>\n",
       "      <th>3</th>\n",
       "      <td>Cabbagetown, St. James Town</td>\n",
       "      <td>8.50</td>\n",
       "    </tr>\n",
       "    <tr>\n",
       "      <th>7</th>\n",
       "      <td>Christie</td>\n",
       "      <td>8.50</td>\n",
       "    </tr>\n",
       "    <tr>\n",
       "      <th>15</th>\n",
       "      <td>High Park, The Junction South</td>\n",
       "      <td>8.30</td>\n",
       "    </tr>\n",
       "    <tr>\n",
       "      <th>23</th>\n",
       "      <td>Queen's Park</td>\n",
       "      <td>8.20</td>\n",
       "    </tr>\n",
       "    <tr>\n",
       "      <th>6</th>\n",
       "      <td>Chinatown, Grange Park, Kensington Market</td>\n",
       "      <td>8.20</td>\n",
       "    </tr>\n",
       "    <tr>\n",
       "      <th>8</th>\n",
       "      <td>Church and Wellesley</td>\n",
       "      <td>8.20</td>\n",
       "    </tr>\n",
       "    <tr>\n",
       "      <th>2</th>\n",
       "      <td>Brockton, Exhibition Place, Parkdale Village</td>\n",
       "      <td>8.05</td>\n",
       "    </tr>\n",
       "    <tr>\n",
       "      <th>22</th>\n",
       "      <td>North Midtown, The Annex, Yorkville</td>\n",
       "      <td>7.95</td>\n",
       "    </tr>\n",
       "    <tr>\n",
       "      <th>19</th>\n",
       "      <td>Maryvale, Wexford</td>\n",
       "      <td>7.80</td>\n",
       "    </tr>\n",
       "    <tr>\n",
       "      <th>13</th>\n",
       "      <td>Harbourfront East, Toronto Islands, Union Station</td>\n",
       "      <td>7.50</td>\n",
       "    </tr>\n",
       "  </tbody>\n",
       "</table>\n",
       "</div>"
      ],
      "text/plain": [
       "                                         Neighborhood  Average Rating\n",
       "3                         Cabbagetown, St. James Town            8.50\n",
       "7                                            Christie            8.50\n",
       "15                      High Park, The Junction South            8.30\n",
       "23                                       Queen's Park            8.20\n",
       "6           Chinatown, Grange Park, Kensington Market            8.20\n",
       "8                                Church and Wellesley            8.20\n",
       "2        Brockton, Exhibition Place, Parkdale Village            8.05\n",
       "22                North Midtown, The Annex, Yorkville            7.95\n",
       "19                                  Maryvale, Wexford            7.80\n",
       "13  Harbourfront East, Toronto Islands, Union Station            7.50"
      ]
     },
     "execution_count": 95,
     "metadata": {},
     "output_type": "execute_result"
    }
   ],
   "source": [
    "Toronto_neighborhood_stats.sort_values(['Average Rating'],ascending=False).head(10)"
   ]
  },
  {
   "cell_type": "markdown",
   "metadata": {},
   "source": [
    "Above are the top neighborhoods with top average rating of Indian resturants in Toronto"
   ]
  },
  {
   "cell_type": "code",
   "execution_count": 93,
   "metadata": {},
   "outputs": [],
   "source": [
    "Toronto_borough_stats=indian_rest_stats_Toronto.groupby('Borough',as_index=False).mean()[['Borough','Rating']]\n",
    "Toronto_borough_stats.columns=['Borough','Average Rating']"
   ]
  },
  {
   "cell_type": "code",
   "execution_count": 80,
   "metadata": {},
   "outputs": [
    {
     "data": {
      "text/html": [
       "<div>\n",
       "<style scoped>\n",
       "    .dataframe tbody tr th:only-of-type {\n",
       "        vertical-align: middle;\n",
       "    }\n",
       "\n",
       "    .dataframe tbody tr th {\n",
       "        vertical-align: top;\n",
       "    }\n",
       "\n",
       "    .dataframe thead th {\n",
       "        text-align: right;\n",
       "    }\n",
       "</style>\n",
       "<table border=\"1\" class=\"dataframe\">\n",
       "  <thead>\n",
       "    <tr style=\"text-align: right;\">\n",
       "      <th></th>\n",
       "      <th>Borough</th>\n",
       "      <th>Average Rating</th>\n",
       "    </tr>\n",
       "  </thead>\n",
       "  <tbody>\n",
       "    <tr>\n",
       "      <th>7</th>\n",
       "      <td>Queen's Park</td>\n",
       "      <td>8.200000</td>\n",
       "    </tr>\n",
       "    <tr>\n",
       "      <th>1</th>\n",
       "      <td>Downtown Toronto</td>\n",
       "      <td>7.950000</td>\n",
       "    </tr>\n",
       "    <tr>\n",
       "      <th>9</th>\n",
       "      <td>West Toronto</td>\n",
       "      <td>7.800000</td>\n",
       "    </tr>\n",
       "    <tr>\n",
       "      <th>0</th>\n",
       "      <td>Central Toronto</td>\n",
       "      <td>7.625000</td>\n",
       "    </tr>\n",
       "    <tr>\n",
       "      <th>4</th>\n",
       "      <td>Etobicoke</td>\n",
       "      <td>6.850000</td>\n",
       "    </tr>\n",
       "    <tr>\n",
       "      <th>5</th>\n",
       "      <td>Mississauga</td>\n",
       "      <td>6.350000</td>\n",
       "    </tr>\n",
       "    <tr>\n",
       "      <th>2</th>\n",
       "      <td>East Toronto</td>\n",
       "      <td>6.311111</td>\n",
       "    </tr>\n",
       "    <tr>\n",
       "      <th>8</th>\n",
       "      <td>Scarborough</td>\n",
       "      <td>6.200000</td>\n",
       "    </tr>\n",
       "    <tr>\n",
       "      <th>10</th>\n",
       "      <td>York</td>\n",
       "      <td>6.000000</td>\n",
       "    </tr>\n",
       "    <tr>\n",
       "      <th>3</th>\n",
       "      <td>East York</td>\n",
       "      <td>5.440000</td>\n",
       "    </tr>\n",
       "  </tbody>\n",
       "</table>\n",
       "</div>"
      ],
      "text/plain": [
       "             Borough  Average Rating\n",
       "7       Queen's Park        8.200000\n",
       "1   Downtown Toronto        7.950000\n",
       "9       West Toronto        7.800000\n",
       "0    Central Toronto        7.625000\n",
       "4          Etobicoke        6.850000\n",
       "5        Mississauga        6.350000\n",
       "2       East Toronto        6.311111\n",
       "8        Scarborough        6.200000\n",
       "10              York        6.000000\n",
       "3          East York        5.440000"
      ]
     },
     "execution_count": 80,
     "metadata": {},
     "output_type": "execute_result"
    }
   ],
   "source": [
    "Toronto_borough_stats.sort_values(['Average Rating'],ascending=False).head(10)"
   ]
  },
  {
   "cell_type": "code",
   "execution_count": 62,
   "metadata": {},
   "outputs": [
    {
     "data": {
      "image/png": "[encoded data removed]",
      "text/plain": [
       "<Figure size 900x500 with 1 Axes>"
      ]
     },
     "metadata": {
      "needs_background": "light"
     },
     "output_type": "display_data"
    }
   ],
   "source": [
    "plt.figure(figsize=(9,5), dpi = 100)\n",
    "# title\n",
    "plt.title('Average rating of Indian Resturants for each Borough in Toronto')\n",
    "#On x-axis\n",
    "plt.xlabel('Borough', fontsize = 15)\n",
    "#On y-axis\n",
    "plt.ylabel('Average Rating', fontsize=15)\n",
    "#giving a bar plot\n",
    "indian_rest_stats_Toronto.groupby('Borough').mean()['Rating'].plot(kind='bar')\n",
    "#legend\n",
    "plt.legend()\n",
    "#displays the plot\n",
    "plt.show()"
   ]
  },
  {
   "cell_type": "markdown",
   "metadata": {},
   "source": [
    "Visualising all Indian resturants in the city of Toronto"
   ]
  },
  {
   "cell_type": "code",
   "execution_count": 96,
   "metadata": {},
   "outputs": [
    {
     "data": {
      "text/html": [
       "<div>\n",
       "<style scoped>\n",
       "    .dataframe tbody tr th:only-of-type {\n",
       "        vertical-align: middle;\n",
       "    }\n",
       "\n",
       "    .dataframe tbody tr th {\n",
       "        vertical-align: top;\n",
       "    }\n",
       "\n",
       "    .dataframe thead th {\n",
       "        text-align: right;\n",
       "    }\n",
       "</style>\n",
       "<table border=\"1\" class=\"dataframe\">\n",
       "  <thead>\n",
       "    <tr style=\"text-align: right;\">\n",
       "      <th></th>\n",
       "      <th>Neighborhood</th>\n",
       "      <th>Average Rating</th>\n",
       "      <th>PostalCode</th>\n",
       "      <th>Borough</th>\n",
       "      <th>Latitude</th>\n",
       "      <th>Longitude</th>\n",
       "    </tr>\n",
       "  </thead>\n",
       "  <tbody>\n",
       "    <tr>\n",
       "      <th>0</th>\n",
       "      <td>Agincourt</td>\n",
       "      <td>7.50</td>\n",
       "      <td>M1S</td>\n",
       "      <td>Scarborough</td>\n",
       "      <td>43.794200</td>\n",
       "      <td>-79.262029</td>\n",
       "    </tr>\n",
       "    <tr>\n",
       "      <th>1</th>\n",
       "      <td>Bedford Park, Lawrence Manor East</td>\n",
       "      <td>7.20</td>\n",
       "      <td>M5M</td>\n",
       "      <td>North York</td>\n",
       "      <td>43.733283</td>\n",
       "      <td>-79.419750</td>\n",
       "    </tr>\n",
       "    <tr>\n",
       "      <th>2</th>\n",
       "      <td>Brockton, Exhibition Place, Parkdale Village</td>\n",
       "      <td>8.05</td>\n",
       "      <td>M6K</td>\n",
       "      <td>West Toronto</td>\n",
       "      <td>43.636847</td>\n",
       "      <td>-79.428191</td>\n",
       "    </tr>\n",
       "    <tr>\n",
       "      <th>3</th>\n",
       "      <td>Cabbagetown, St. James Town</td>\n",
       "      <td>8.50</td>\n",
       "      <td>M4X</td>\n",
       "      <td>Downtown Toronto</td>\n",
       "      <td>43.667967</td>\n",
       "      <td>-79.367675</td>\n",
       "    </tr>\n",
       "    <tr>\n",
       "      <th>4</th>\n",
       "      <td>Canada Post Gateway Processing Centre</td>\n",
       "      <td>6.35</td>\n",
       "      <td>M7R</td>\n",
       "      <td>Mississauga</td>\n",
       "      <td>43.636966</td>\n",
       "      <td>-79.615819</td>\n",
       "    </tr>\n",
       "  </tbody>\n",
       "</table>\n",
       "</div>"
      ],
      "text/plain": [
       "                                   Neighborhood  Average Rating PostalCode  \\\n",
       "0                                     Agincourt            7.50        M1S   \n",
       "1             Bedford Park, Lawrence Manor East            7.20        M5M   \n",
       "2  Brockton, Exhibition Place, Parkdale Village            8.05        M6K   \n",
       "3                   Cabbagetown, St. James Town            8.50        M4X   \n",
       "4         Canada Post Gateway Processing Centre            6.35        M7R   \n",
       "\n",
       "            Borough   Latitude  Longitude  \n",
       "0       Scarborough  43.794200 -79.262029  \n",
       "1        North York  43.733283 -79.419750  \n",
       "2      West Toronto  43.636847 -79.428191  \n",
       "3  Downtown Toronto  43.667967 -79.367675  \n",
       "4       Mississauga  43.636966 -79.615819  "
      ]
     },
     "execution_count": 96,
     "metadata": {},
     "output_type": "execute_result"
    }
   ],
   "source": [
    "Toronto_neighborhood_stats=pd.merge(Toronto_neighborhood_stats,df_new, on='Neighborhood')\n",
    "Toronto_neighborhood_stats.head(5)"
   ]
  },
  {
   "cell_type": "code",
   "execution_count": 103,
   "metadata": {},
   "outputs": [
    {
     "data": {
      "text/html": [
       "<div>\n",
       "<style scoped>\n",
       "    .dataframe tbody tr th:only-of-type {\n",
       "        vertical-align: middle;\n",
       "    }\n",
       "\n",
       "    .dataframe tbody tr th {\n",
       "        vertical-align: top;\n",
       "    }\n",
       "\n",
       "    .dataframe thead th {\n",
       "        text-align: right;\n",
       "    }\n",
       "</style>\n",
       "<table border=\"1\" class=\"dataframe\">\n",
       "  <thead>\n",
       "    <tr style=\"text-align: right;\">\n",
       "      <th></th>\n",
       "      <th>Neighborhood</th>\n",
       "      <th>Average Rating</th>\n",
       "      <th>PostalCode</th>\n",
       "      <th>Borough</th>\n",
       "      <th>Latitude</th>\n",
       "      <th>Longitude</th>\n",
       "    </tr>\n",
       "  </thead>\n",
       "  <tbody>\n",
       "    <tr>\n",
       "      <th>0</th>\n",
       "      <td>Agincourt</td>\n",
       "      <td>7.50</td>\n",
       "      <td>M1S</td>\n",
       "      <td>Scarborough</td>\n",
       "      <td>43.794200</td>\n",
       "      <td>-79.262029</td>\n",
       "    </tr>\n",
       "    <tr>\n",
       "      <th>2</th>\n",
       "      <td>Brockton, Exhibition Place, Parkdale Village</td>\n",
       "      <td>8.05</td>\n",
       "      <td>M6K</td>\n",
       "      <td>West Toronto</td>\n",
       "      <td>43.636847</td>\n",
       "      <td>-79.428191</td>\n",
       "    </tr>\n",
       "    <tr>\n",
       "      <th>3</th>\n",
       "      <td>Cabbagetown, St. James Town</td>\n",
       "      <td>8.50</td>\n",
       "      <td>M4X</td>\n",
       "      <td>Downtown Toronto</td>\n",
       "      <td>43.667967</td>\n",
       "      <td>-79.367675</td>\n",
       "    </tr>\n",
       "    <tr>\n",
       "      <th>6</th>\n",
       "      <td>Chinatown, Grange Park, Kensington Market</td>\n",
       "      <td>8.20</td>\n",
       "      <td>M5T</td>\n",
       "      <td>Downtown Toronto</td>\n",
       "      <td>43.653206</td>\n",
       "      <td>-79.400049</td>\n",
       "    </tr>\n",
       "    <tr>\n",
       "      <th>7</th>\n",
       "      <td>Christie</td>\n",
       "      <td>8.50</td>\n",
       "      <td>M6G</td>\n",
       "      <td>Downtown Toronto</td>\n",
       "      <td>43.669542</td>\n",
       "      <td>-79.422564</td>\n",
       "    </tr>\n",
       "    <tr>\n",
       "      <th>8</th>\n",
       "      <td>Church and Wellesley</td>\n",
       "      <td>8.20</td>\n",
       "      <td>M4Y</td>\n",
       "      <td>Downtown Toronto</td>\n",
       "      <td>43.665860</td>\n",
       "      <td>-79.383160</td>\n",
       "    </tr>\n",
       "    <tr>\n",
       "      <th>13</th>\n",
       "      <td>Harbourfront East, Toronto Islands, Union Station</td>\n",
       "      <td>7.50</td>\n",
       "      <td>M5J</td>\n",
       "      <td>Downtown Toronto</td>\n",
       "      <td>43.640816</td>\n",
       "      <td>-79.381752</td>\n",
       "    </tr>\n",
       "    <tr>\n",
       "      <th>15</th>\n",
       "      <td>High Park, The Junction South</td>\n",
       "      <td>8.30</td>\n",
       "      <td>M6P</td>\n",
       "      <td>West Toronto</td>\n",
       "      <td>43.661608</td>\n",
       "      <td>-79.464763</td>\n",
       "    </tr>\n",
       "    <tr>\n",
       "      <th>19</th>\n",
       "      <td>Maryvale, Wexford</td>\n",
       "      <td>7.80</td>\n",
       "      <td>M1R</td>\n",
       "      <td>Scarborough</td>\n",
       "      <td>43.750072</td>\n",
       "      <td>-79.295849</td>\n",
       "    </tr>\n",
       "    <tr>\n",
       "      <th>22</th>\n",
       "      <td>North Midtown, The Annex, Yorkville</td>\n",
       "      <td>7.95</td>\n",
       "      <td>M5R</td>\n",
       "      <td>Central Toronto</td>\n",
       "      <td>43.672710</td>\n",
       "      <td>-79.405678</td>\n",
       "    </tr>\n",
       "    <tr>\n",
       "      <th>23</th>\n",
       "      <td>Queen's Park</td>\n",
       "      <td>8.20</td>\n",
       "      <td>M7A</td>\n",
       "      <td>Queen's Park</td>\n",
       "      <td>43.662301</td>\n",
       "      <td>-79.389494</td>\n",
       "    </tr>\n",
       "  </tbody>\n",
       "</table>\n",
       "</div>"
      ],
      "text/plain": [
       "                                         Neighborhood  Average Rating  \\\n",
       "0                                           Agincourt            7.50   \n",
       "2        Brockton, Exhibition Place, Parkdale Village            8.05   \n",
       "3                         Cabbagetown, St. James Town            8.50   \n",
       "6           Chinatown, Grange Park, Kensington Market            8.20   \n",
       "7                                            Christie            8.50   \n",
       "8                                Church and Wellesley            8.20   \n",
       "13  Harbourfront East, Toronto Islands, Union Station            7.50   \n",
       "15                      High Park, The Junction South            8.30   \n",
       "19                                  Maryvale, Wexford            7.80   \n",
       "22                North Midtown, The Annex, Yorkville            7.95   \n",
       "23                                       Queen's Park            8.20   \n",
       "\n",
       "   PostalCode           Borough   Latitude  Longitude  \n",
       "0         M1S       Scarborough  43.794200 -79.262029  \n",
       "2         M6K      West Toronto  43.636847 -79.428191  \n",
       "3         M4X  Downtown Toronto  43.667967 -79.367675  \n",
       "6         M5T  Downtown Toronto  43.653206 -79.400049  \n",
       "7         M6G  Downtown Toronto  43.669542 -79.422564  \n",
       "8         M4Y  Downtown Toronto  43.665860 -79.383160  \n",
       "13        M5J  Downtown Toronto  43.640816 -79.381752  \n",
       "15        M6P      West Toronto  43.661608 -79.464763  \n",
       "19        M1R       Scarborough  43.750072 -79.295849  \n",
       "22        M5R   Central Toronto  43.672710 -79.405678  \n",
       "23        M7A      Queen's Park  43.662301 -79.389494  "
      ]
     },
     "execution_count": 103,
     "metadata": {},
     "output_type": "execute_result"
    }
   ],
   "source": [
    "Toronto_neighborhood_stats"
   ]
  },
  {
   "cell_type": "code",
   "execution_count": 97,
   "metadata": {},
   "outputs": [
    {
     "data": {
      "text/html": [
       "<div style=\"width:100%;\"><div style=\"position:relative;width:100%;height:0;padding-bottom:60%;\"><iframe src=\"data:text/html;charset=utf-8;base64,PCFET0NUWVBFIGh0bWw+CjxoZWFkPiAgICAKICAgIDxtZXRhIGh0dHAtZXF1aXY9ImNvbnRlbnQtdHlwZSIgY29udGVudD0idGV4dC9odG1sOyBjaGFyc2V0PVVURi04IiAvPgogICAgPHNjcmlwdD5MX1BSRUZFUl9DQU5WQVMgPSBmYWxzZTsgTF9OT19UT1VDSCA9IGZhbHNlOyBMX0RJU0FCTEVfM0QgPSBmYWxzZTs8L3NjcmlwdD4KICAgIDxzY3JpcHQgc3JjPSJodHRwczovL2Nkbi5qc2RlbGl2ci5uZXQvbnBtL2xlYWZsZXRAMS4yLjAvZGlzdC9sZWFmbGV0LmpzIj48L3NjcmlwdD4KICAgIDxzY3JpcHQgc3JjPSJodHRwczovL2FqYXguZ29vZ2xlYXBpcy5jb20vYWpheC9saWJzL2pxdWVyeS8xLjExLjEvanF1ZXJ5Lm1pbi5qcyI+PC9zY3JpcHQ+CiAgICA8c2NyaXB0IHNyYz0iaHR0cHM6Ly9tYXhjZG4uYm9vdHN0cmFwY2RuLmNvbS9ib290c3RyYXAvMy4yLjAvanMvYm9vdHN0cmFwLm1pbi5qcyI+PC9zY3JpcHQ+CiAgICA8c2NyaXB0IHNyYz0iaHR0cHM6Ly9jZG5qcy5jbG91ZGZsYXJlLmNvbS9hamF4L2xpYnMvTGVhZmxldC5hd2Vzb21lLW1hcmtlcnMvMi4wLjIvbGVhZmxldC5hd2Vzb21lLW1hcmtlcnMuanMiPjwvc2NyaXB0PgogICAgPGxpbmsgcmVsPSJzdHlsZXNoZWV0IiBocmVmPSJodHRwczovL2Nkbi5qc2RlbGl2ci5uZXQvbnBtL2xlYWZsZXRAMS4yLjAvZGlzdC9sZWFmbGV0LmNzcyIvPgogICAgPGxpbmsgcmVsPSJzdHlsZXNoZWV0IiBocmVmPSJodHRwczovL21heGNkbi5ib290c3RyYXBjZG4uY29tL2Jvb3RzdHJhcC8zLjIuMC9jc3MvYm9vdHN0cmFwLm1pbi5jc3MiLz4KICAgIDxsaW5rIHJlbD0ic3R5bGVzaGVldCIgaHJlZj0iaHR0cHM6Ly9tYXhjZG4uYm9vdHN0cmFwY2RuLmNvbS9ib290c3RyYXAvMy4yLjAvY3NzL2Jvb3RzdHJhcC10aGVtZS5taW4uY3NzIi8+CiAgICA8bGluayByZWw9InN0eWxlc2hlZXQiIGhyZWY9Imh0dHBzOi8vbWF4Y2RuLmJvb3RzdHJhcGNkbi5jb20vZm9udC1hd2Vzb21lLzQuNi4zL2Nzcy9mb250LWF3ZXNvbWUubWluLmNzcyIvPgogICAgPGxpbmsgcmVsPSJzdHlsZXNoZWV0IiBocmVmPSJodHRwczovL2NkbmpzLmNsb3VkZmxhcmUuY29tL2FqYXgvbGlicy9MZWFmbGV0LmF3ZXNvbWUtbWFya2Vycy8yLjAuMi9sZWFmbGV0LmF3ZXNvbWUtbWFya2Vycy5jc3MiLz4KICAgIDxsaW5rIHJlbD0ic3R5bGVzaGVldCIgaHJlZj0iaHR0cHM6Ly9yYXdnaXQuY29tL3B5dGhvbi12aXN1YWxpemF0aW9uL2ZvbGl1bS9tYXN0ZXIvZm9saXVtL3RlbXBsYXRlcy9sZWFmbGV0LmF3ZXNvbWUucm90YXRlLmNzcyIvPgogICAgPHN0eWxlPmh0bWwsIGJvZHkge3dpZHRoOiAxMDAlO2hlaWdodDogMTAwJTttYXJnaW46IDA7cGFkZGluZzogMDt9PC9zdHlsZT4KICAgIDxzdHlsZT4jbWFwIHtwb3NpdGlvbjphYnNvbHV0ZTt0b3A6MDtib3R0b206MDtyaWdodDowO2xlZnQ6MDt9PC9zdHlsZT4KICAgIAogICAgICAgICAgICA8c3R5bGU+ICNtYXBfYzIzMzM4OGM0NjBkNDY5YWFkZTAxOWM2OGQ0ZjI3NmQgewogICAgICAgICAgICAgICAgcG9zaXRpb24gOiByZWxhdGl2ZTsKICAgICAgICAgICAgICAgIHdpZHRoIDogMTAwLjAlOwogICAgICAgICAgICAgICAgaGVpZ2h0OiAxMDAuMCU7CiAgICAgICAgICAgICAgICBsZWZ0OiAwLjAlOwogICAgICAgICAgICAgICAgdG9wOiAwLjAlOwogICAgICAgICAgICAgICAgfQogICAgICAgICAgICA8L3N0eWxlPgogICAgICAgIAo8L2hlYWQ+Cjxib2R5PiAgICAKICAgIAogICAgICAgICAgICA8ZGl2IGNsYXNzPSJmb2xpdW0tbWFwIiBpZD0ibWFwX2MyMzMzODhjNDYwZDQ2OWFhZGUwMTljNjhkNGYyNzZkIiA+PC9kaXY+CiAgICAgICAgCjwvYm9keT4KPHNjcmlwdD4gICAgCiAgICAKCiAgICAgICAgICAgIAogICAgICAgICAgICAgICAgdmFyIGJvdW5kcyA9IG51bGw7CiAgICAgICAgICAgIAoKICAgICAgICAgICAgdmFyIG1hcF9jMjMzMzg4YzQ2MGQ0NjlhYWRlMDE5YzY4ZDRmMjc2ZCA9IEwubWFwKAogICAgICAgICAgICAgICAgICAgICAgICAgICAgICAgICAgJ21hcF9jMjMzMzg4YzQ2MGQ0NjlhYWRlMDE5YzY4ZDRmMjc2ZCcsCiAgICAgICAgICAgICAgICAgICAgICAgICAgICAgICAgICB7Y2VudGVyOiBbNDMuNjUzMiwtNzkuMzgzMTg0M10sCiAgICAgICAgICAgICAgICAgICAgICAgICAgICAgICAgICB6b29tOiAxMiwKICAgICAgICAgICAgICAgICAgICAgICAgICAgICAgICAgIG1heEJvdW5kczogYm91bmRzLAogICAgICAgICAgICAgICAgICAgICAgICAgICAgICAgICAgbGF5ZXJzOiBbXSwKICAgICAgICAgICAgICAgICAgICAgICAgICAgICAgICAgIHdvcmxkQ29weUp1bXA6IGZhbHNlLAogICAgICAgICAgICAgICAgICAgICAgICAgICAgICAgICAgY3JzOiBMLkNSUy5FUFNHMzg1NwogICAgICAgICAgICAgICAgICAgICAgICAgICAgICAgICB9KTsKICAgICAgICAgICAgCiAgICAgICAgCiAgICAKICAgICAgICAgICAgdmFyIHRpbGVfbGF5ZXJfZTFmNjNkOTVhYTA4NDRhMDgzNTczOTkxMjNkMjQ0MjMgPSBMLnRpbGVMYXllcigKICAgICAgICAgICAgICAgICdodHRwczovL3tzfS50aWxlLm9wZW5zdHJlZXRtYXAub3JnL3t6fS97eH0ve3l9LnBuZycsCiAgICAgICAgICAgICAgICB7CiAgImF0dHJpYnV0aW9uIjogbnVsbCwKICAiZGV0ZWN0UmV0aW5hIjogZmFsc2UsCiAgIm1heFpvb20iOiAxOCwKICAibWluWm9vbSI6IDEsCiAgIm5vV3JhcCI6IGZhbHNlLAogICJzdWJkb21haW5zIjogImFiYyIKfQogICAgICAgICAgICAgICAgKS5hZGRUbyhtYXBfYzIzMzM4OGM0NjBkNDY5YWFkZTAxOWM2OGQ0ZjI3NmQpOwogICAgICAgIAogICAgCiAgICAgICAgICAgIHZhciBjaXJjbGVfbWFya2VyX2MyYjMwYTgxZmFjYjRkNWM5ZDJhZjJmZjkwNmYxNjlmID0gTC5jaXJjbGVNYXJrZXIoCiAgICAgICAgICAgICAgICBbNDMuNzk0MjAwMywtNzkuMjYyMDI5NDAwMDAwMDJdLAogICAgICAgICAgICAgICAgewogICJidWJibGluZ01vdXNlRXZlbnRzIjogdHJ1ZSwKICAiY29sb3IiOiAiYmx1ZSIsCiAgImRhc2hBcnJheSI6IG51bGwsCiAgImRhc2hPZmZzZXQiOiBudWxsLAogICJmaWxsIjogdHJ1ZSwKICAiZmlsbENvbG9yIjogIiMzMTg2Y2MiLAogICJmaWxsT3BhY2l0eSI6IDAuNywKICAiZmlsbFJ1bGUiOiAiZXZlbm9kZCIsCiAgImxpbmVDYXAiOiAicm91bmQiLAogICJsaW5lSm9pbiI6ICJyb3VuZCIsCiAgIm9wYWNpdHkiOiAxLjAsCiAgInJhZGl1cyI6IDUsCiAgInN0cm9rZSI6IHRydWUsCiAgIndlaWdodCI6IDMKfQogICAgICAgICAgICAgICAgKS5hZGRUbyhtYXBfYzIzMzM4OGM0NjBkNDY5YWFkZTAxOWM2OGQ0ZjI3NmQpOwogICAgICAgICAgICAKICAgIAogICAgICAgICAgICB2YXIgcG9wdXBfMDQ2ODYzMzlmNzNmNGY1ZDk0YzkyM2Y1M2E4NTAzNDIgPSBMLnBvcHVwKHttYXhXaWR0aDogJzMwMCd9KTsKCiAgICAgICAgICAgIAogICAgICAgICAgICAgICAgdmFyIGh0bWxfOGMwZDI5ZDUzOGZhNDIxZmFkYzI0ZTRmZGQwNDQ2MGMgPSAkKCc8ZGl2IGlkPSJodG1sXzhjMGQyOWQ1MzhmYTQyMWZhZGMyNGU0ZmRkMDQ0NjBjIiBzdHlsZT0id2lkdGg6IDEwMC4wJTsgaGVpZ2h0OiAxMDAuMCU7Ij5BZ2luY291cnQgLSBTY2FyYm9yb3VnaDwvZGl2PicpWzBdOwogICAgICAgICAgICAgICAgcG9wdXBfMDQ2ODYzMzlmNzNmNGY1ZDk0YzkyM2Y1M2E4NTAzNDIuc2V0Q29udGVudChodG1sXzhjMGQyOWQ1MzhmYTQyMWZhZGMyNGU0ZmRkMDQ0NjBjKTsKICAgICAgICAgICAgCgogICAgICAgICAgICBjaXJjbGVfbWFya2VyX2MyYjMwYTgxZmFjYjRkNWM5ZDJhZjJmZjkwNmYxNjlmLmJpbmRQb3B1cChwb3B1cF8wNDY4NjMzOWY3M2Y0ZjVkOTRjOTIzZjUzYTg1MDM0Mik7CgogICAgICAgICAgICAKICAgICAgICAKICAgIAogICAgICAgICAgICB2YXIgY2lyY2xlX21hcmtlcl9kN2FjMmRiYzBmNTE0ZTE0YTFhNmI5NWZiNzdiMDI5MSA9IEwuY2lyY2xlTWFya2VyKAogICAgICAgICAgICAgICAgWzQzLjczMzI4MjUsLTc5LjQxOTc0OTddLAogICAgICAgICAgICAgICAgewogICJidWJibGluZ01vdXNlRXZlbnRzIjogdHJ1ZSwKICAiY29sb3IiOiAiYmx1ZSIsCiAgImRhc2hBcnJheSI6IG51bGwsCiAgImRhc2hPZmZzZXQiOiBudWxsLAogICJmaWxsIjogdHJ1ZSwKICAiZmlsbENvbG9yIjogIiMzMTg2Y2MiLAogICJmaWxsT3BhY2l0eSI6IDAuNywKICAiZmlsbFJ1bGUiOiAiZXZlbm9kZCIsCiAgImxpbmVDYXAiOiAicm91bmQiLAogICJsaW5lSm9pbiI6ICJyb3VuZCIsCiAgIm9wYWNpdHkiOiAxLjAsCiAgInJhZGl1cyI6IDUsCiAgInN0cm9rZSI6IHRydWUsCiAgIndlaWdodCI6IDMKfQogICAgICAgICAgICAgICAgKS5hZGRUbyhtYXBfYzIzMzM4OGM0NjBkNDY5YWFkZTAxOWM2OGQ0ZjI3NmQpOwogICAgICAgICAgICAKICAgIAogICAgICAgICAgICB2YXIgcG9wdXBfYzMyZmU2ZWZiZTc5NDU0OTlhOGEwNzBmYmNlZjZjMGEgPSBMLnBvcHVwKHttYXhXaWR0aDogJzMwMCd9KTsKCiAgICAgICAgICAgIAogICAgICAgICAgICAgICAgdmFyIGh0bWxfMjk2ODlhNDljZGE5NGNjZThhOTc0NzE2NDc5Yjg0NmUgPSAkKCc8ZGl2IGlkPSJodG1sXzI5Njg5YTQ5Y2RhOTRjY2U4YTk3NDcxNjQ3OWI4NDZlIiBzdHlsZT0id2lkdGg6IDEwMC4wJTsgaGVpZ2h0OiAxMDAuMCU7Ij5CZWRmb3JkIFBhcmssIExhd3JlbmNlIE1hbm9yIEVhc3QgLSBOb3J0aCBZb3JrPC9kaXY+JylbMF07CiAgICAgICAgICAgICAgICBwb3B1cF9jMzJmZTZlZmJlNzk0NTQ5OWE4YTA3MGZiY2VmNmMwYS5zZXRDb250ZW50KGh0bWxfMjk2ODlhNDljZGE5NGNjZThhOTc0NzE2NDc5Yjg0NmUpOwogICAgICAgICAgICAKCiAgICAgICAgICAgIGNpcmNsZV9tYXJrZXJfZDdhYzJkYmMwZjUxNGUxNGExYTZiOTVmYjc3YjAyOTEuYmluZFBvcHVwKHBvcHVwX2MzMmZlNmVmYmU3OTQ1NDk5YThhMDcwZmJjZWY2YzBhKTsKCiAgICAgICAgICAgIAogICAgICAgIAogICAgCiAgICAgICAgICAgIHZhciBjaXJjbGVfbWFya2VyXzIyZTI5Yjk5MWNlNjRhN2ZiMGE2NzA2YzZiNThmODBkID0gTC5jaXJjbGVNYXJrZXIoCiAgICAgICAgICAgICAgICBbNDMuNjM2ODQ3MiwtNzkuNDI4MTkxNDAwMDAwMDJdLAogICAgICAgICAgICAgICAgewogICJidWJibGluZ01vdXNlRXZlbnRzIjogdHJ1ZSwKICAiY29sb3IiOiAiYmx1ZSIsCiAgImRhc2hBcnJheSI6IG51bGwsCiAgImRhc2hPZmZzZXQiOiBudWxsLAogICJmaWxsIjogdHJ1ZSwKICAiZmlsbENvbG9yIjogIiMzMTg2Y2MiLAogICJmaWxsT3BhY2l0eSI6IDAuNywKICAiZmlsbFJ1bGUiOiAiZXZlbm9kZCIsCiAgImxpbmVDYXAiOiAicm91bmQiLAogICJsaW5lSm9pbiI6ICJyb3VuZCIsCiAgIm9wYWNpdHkiOiAxLjAsCiAgInJhZGl1cyI6IDUsCiAgInN0cm9rZSI6IHRydWUsCiAgIndlaWdodCI6IDMKfQogICAgICAgICAgICAgICAgKS5hZGRUbyhtYXBfYzIzMzM4OGM0NjBkNDY5YWFkZTAxOWM2OGQ0ZjI3NmQpOwogICAgICAgICAgICAKICAgIAogICAgICAgICAgICB2YXIgcG9wdXBfNWY3MDM2NjIyMzBmNDBkODhjZDI3Y2FmMjI5M2QxYzggPSBMLnBvcHVwKHttYXhXaWR0aDogJzMwMCd9KTsKCiAgICAgICAgICAgIAogICAgICAgICAgICAgICAgdmFyIGh0bWxfMzZmYWU1ZTk2YzdjNGI0OWIwYTE4NDRkZTQ0NTc3YzUgPSAkKCc8ZGl2IGlkPSJodG1sXzM2ZmFlNWU5NmM3YzRiNDliMGExODQ0ZGU0NDU3N2M1IiBzdHlsZT0id2lkdGg6IDEwMC4wJTsgaGVpZ2h0OiAxMDAuMCU7Ij5Ccm9ja3RvbiwgRXhoaWJpdGlvbiBQbGFjZSwgUGFya2RhbGUgVmlsbGFnZSAtIFdlc3QgVG9yb250bzwvZGl2PicpWzBdOwogICAgICAgICAgICAgICAgcG9wdXBfNWY3MDM2NjIyMzBmNDBkODhjZDI3Y2FmMjI5M2QxYzguc2V0Q29udGVudChodG1sXzM2ZmFlNWU5NmM3YzRiNDliMGExODQ0ZGU0NDU3N2M1KTsKICAgICAgICAgICAgCgogICAgICAgICAgICBjaXJjbGVfbWFya2VyXzIyZTI5Yjk5MWNlNjRhN2ZiMGE2NzA2YzZiNThmODBkLmJpbmRQb3B1cChwb3B1cF81ZjcwMzY2MjIzMGY0MGQ4OGNkMjdjYWYyMjkzZDFjOCk7CgogICAgICAgICAgICAKICAgICAgICAKICAgIAogICAgICAgICAgICB2YXIgY2lyY2xlX21hcmtlcl84MTA0MGMzNWI5MjQ0NjIyYmExMzVkMGE4MDI3NWYxMCA9IEwuY2lyY2xlTWFya2VyKAogICAgICAgICAgICAgICAgWzQzLjY2Nzk2NywtNzkuMzY3Njc1M10sCiAgICAgICAgICAgICAgICB7CiAgImJ1YmJsaW5nTW91c2VFdmVudHMiOiB0cnVlLAogICJjb2xvciI6ICJibHVlIiwKICAiZGFzaEFycmF5IjogbnVsbCwKICAiZGFzaE9mZnNldCI6IG51bGwsCiAgImZpbGwiOiB0cnVlLAogICJmaWxsQ29sb3IiOiAiIzMxODZjYyIsCiAgImZpbGxPcGFjaXR5IjogMC43LAogICJmaWxsUnVsZSI6ICJldmVub2RkIiwKICAibGluZUNhcCI6ICJyb3VuZCIsCiAgImxpbmVKb2luIjogInJvdW5kIiwKICAib3BhY2l0eSI6IDEuMCwKICAicmFkaXVzIjogNSwKICAic3Ryb2tlIjogdHJ1ZSwKICAid2VpZ2h0IjogMwp9CiAgICAgICAgICAgICAgICApLmFkZFRvKG1hcF9jMjMzMzg4YzQ2MGQ0NjlhYWRlMDE5YzY4ZDRmMjc2ZCk7CiAgICAgICAgICAgIAogICAgCiAgICAgICAgICAgIHZhciBwb3B1cF80YzA2OTdiNTI4ZjA0Y2FhYWQ0ZjdkMWFlNDlkZGMyOSA9IEwucG9wdXAoe21heFdpZHRoOiAnMzAwJ30pOwoKICAgICAgICAgICAgCiAgICAgICAgICAgICAgICB2YXIgaHRtbF9lMTRhNjdmZjJiZDQ0MjIzOGNhNDc2MjRiNTQ1MmI0ZSA9ICQoJzxkaXYgaWQ9Imh0bWxfZTE0YTY3ZmYyYmQ0NDIyMzhjYTQ3NjI0YjU0NTJiNGUiIHN0eWxlPSJ3aWR0aDogMTAwLjAlOyBoZWlnaHQ6IDEwMC4wJTsiPkNhYmJhZ2V0b3duLCBTdC4gSmFtZXMgVG93biAtIERvd250b3duIFRvcm9udG88L2Rpdj4nKVswXTsKICAgICAgICAgICAgICAgIHBvcHVwXzRjMDY5N2I1MjhmMDRjYWFhZDRmN2QxYWU0OWRkYzI5LnNldENvbnRlbnQoaHRtbF9lMTRhNjdmZjJiZDQ0MjIzOGNhNDc2MjRiNTQ1MmI0ZSk7CiAgICAgICAgICAgIAoKICAgICAgICAgICAgY2lyY2xlX21hcmtlcl84MTA0MGMzNWI5MjQ0NjIyYmExMzVkMGE4MDI3NWYxMC5iaW5kUG9wdXAocG9wdXBfNGMwNjk3YjUyOGYwNGNhYWFkNGY3ZDFhZTQ5ZGRjMjkpOwoKICAgICAgICAgICAgCiAgICAgICAgCiAgICAKICAgICAgICAgICAgdmFyIGNpcmNsZV9tYXJrZXJfMGQxMDI4YTZiNmRjNGQ5NTliN2VjMTFmMGM4MTZmYmIgPSBMLmNpcmNsZU1hcmtlcigKICAgICAgICAgICAgICAgIFs0My42MzY5NjU2LC03OS42MTU4MTg5OTk5OTk5OV0sCiAgICAgICAgICAgICAgICB7CiAgImJ1YmJsaW5nTW91c2VFdmVudHMiOiB0cnVlLAogICJjb2xvciI6ICJibHVlIiwKICAiZGFzaEFycmF5IjogbnVsbCwKICAiZGFzaE9mZnNldCI6IG51bGwsCiAgImZpbGwiOiB0cnVlLAogICJmaWxsQ29sb3IiOiAiIzMxODZjYyIsCiAgImZpbGxPcGFjaXR5IjogMC43LAogICJmaWxsUnVsZSI6ICJldmVub2RkIiwKICAibGluZUNhcCI6ICJyb3VuZCIsCiAgImxpbmVKb2luIjogInJvdW5kIiwKICAib3BhY2l0eSI6IDEuMCwKICAicmFkaXVzIjogNSwKICAic3Ryb2tlIjogdHJ1ZSwKICAid2VpZ2h0IjogMwp9CiAgICAgICAgICAgICAgICApLmFkZFRvKG1hcF9jMjMzMzg4YzQ2MGQ0NjlhYWRlMDE5YzY4ZDRmMjc2ZCk7CiAgICAgICAgICAgIAogICAgCiAgICAgICAgICAgIHZhciBwb3B1cF85MjExNDIzYzM0MjQ0NGQyOWI4NWIzNmMzYzc2ODY5NCA9IEwucG9wdXAoe21heFdpZHRoOiAnMzAwJ30pOwoKICAgICAgICAgICAgCiAgICAgICAgICAgICAgICB2YXIgaHRtbF9iZGRkNDE1MjJkYTE0OWFhOWEyMjU1YTY3YTQwMmEyOCA9ICQoJzxkaXYgaWQ9Imh0bWxfYmRkZDQxNTIyZGExNDlhYTlhMjI1NWE2N2E0MDJhMjgiIHN0eWxlPSJ3aWR0aDogMTAwLjAlOyBoZWlnaHQ6IDEwMC4wJTsiPkNhbmFkYSBQb3N0IEdhdGV3YXkgUHJvY2Vzc2luZyBDZW50cmUgLSBNaXNzaXNzYXVnYTwvZGl2PicpWzBdOwogICAgICAgICAgICAgICAgcG9wdXBfOTIxMTQyM2MzNDI0NDRkMjliODViMzZjM2M3Njg2OTQuc2V0Q29udGVudChodG1sX2JkZGQ0MTUyMmRhMTQ5YWE5YTIyNTVhNjdhNDAyYTI4KTsKICAgICAgICAgICAgCgogICAgICAgICAgICBjaXJjbGVfbWFya2VyXzBkMTAyOGE2YjZkYzRkOTU5YjdlYzExZjBjODE2ZmJiLmJpbmRQb3B1cChwb3B1cF85MjExNDIzYzM0MjQ0NGQyOWI4NWIzNmMzYzc2ODY5NCk7CgogICAgICAgICAgICAKICAgICAgICAKICAgIAogICAgICAgICAgICB2YXIgY2lyY2xlX21hcmtlcl9hMjAwNzdmYzU5ZDM0ZWI5YTEzNWJjMjY4NDc4MzI0OSA9IEwuY2lyY2xlTWFya2VyKAogICAgICAgICAgICAgICAgWzQzLjc3MzEzNiwtNzkuMjM5NDc2MDk5OTk5OTldLAogICAgICAgICAgICAgICAgewogICJidWJibGluZ01vdXNlRXZlbnRzIjogdHJ1ZSwKICAiY29sb3IiOiAiYmx1ZSIsCiAgImRhc2hBcnJheSI6IG51bGwsCiAgImRhc2hPZmZzZXQiOiBudWxsLAogICJmaWxsIjogdHJ1ZSwKICAiZmlsbENvbG9yIjogIiMzMTg2Y2MiLAogICJmaWxsT3BhY2l0eSI6IDAuNywKICAiZmlsbFJ1bGUiOiAiZXZlbm9kZCIsCiAgImxpbmVDYXAiOiAicm91bmQiLAogICJsaW5lSm9pbiI6ICJyb3VuZCIsCiAgIm9wYWNpdHkiOiAxLjAsCiAgInJhZGl1cyI6IDUsCiAgInN0cm9rZSI6IHRydWUsCiAgIndlaWdodCI6IDMKfQogICAgICAgICAgICAgICAgKS5hZGRUbyhtYXBfYzIzMzM4OGM0NjBkNDY5YWFkZTAxOWM2OGQ0ZjI3NmQpOwogICAgICAgICAgICAKICAgIAogICAgICAgICAgICB2YXIgcG9wdXBfNWYxYTEzNWE4ZmFjNGU5NmI5MzFiZWUwZDEyNzBhMWUgPSBMLnBvcHVwKHttYXhXaWR0aDogJzMwMCd9KTsKCiAgICAgICAgICAgIAogICAgICAgICAgICAgICAgdmFyIGh0bWxfNGI1MTlhMWQ4YTJiNGNlMmE4Mjg0NGI3MmFmODk3MjMgPSAkKCc8ZGl2IGlkPSJodG1sXzRiNTE5YTFkOGEyYjRjZTJhODI4NDRiNzJhZjg5NzIzIiBzdHlsZT0id2lkdGg6IDEwMC4wJTsgaGVpZ2h0OiAxMDAuMCU7Ij5DZWRhcmJyYWUgLSBTY2FyYm9yb3VnaDwvZGl2PicpWzBdOwogICAgICAgICAgICAgICAgcG9wdXBfNWYxYTEzNWE4ZmFjNGU5NmI5MzFiZWUwZDEyNzBhMWUuc2V0Q29udGVudChodG1sXzRiNTE5YTFkOGEyYjRjZTJhODI4NDRiNzJhZjg5NzIzKTsKICAgICAgICAgICAgCgogICAgICAgICAgICBjaXJjbGVfbWFya2VyX2EyMDA3N2ZjNTlkMzRlYjlhMTM1YmMyNjg0NzgzMjQ5LmJpbmRQb3B1cChwb3B1cF81ZjFhMTM1YThmYWM0ZTk2YjkzMWJlZTBkMTI3MGExZSk7CgogICAgICAgICAgICAKICAgICAgICAKICAgIAogICAgICAgICAgICB2YXIgY2lyY2xlX21hcmtlcl8wYmNiYzc1Y2ZlOGE0MTJmODZlNWIwMjJiZjc3NTQ5YyA9IEwuY2lyY2xlTWFya2VyKAogICAgICAgICAgICAgICAgWzQzLjY1MzIwNTcsLTc5LjQwMDA0OTNdLAogICAgICAgICAgICAgICAgewogICJidWJibGluZ01vdXNlRXZlbnRzIjogdHJ1ZSwKICAiY29sb3IiOiAiYmx1ZSIsCiAgImRhc2hBcnJheSI6IG51bGwsCiAgImRhc2hPZmZzZXQiOiBudWxsLAogICJmaWxsIjogdHJ1ZSwKICAiZmlsbENvbG9yIjogIiMzMTg2Y2MiLAogICJmaWxsT3BhY2l0eSI6IDAuNywKICAiZmlsbFJ1bGUiOiAiZXZlbm9kZCIsCiAgImxpbmVDYXAiOiAicm91bmQiLAogICJsaW5lSm9pbiI6ICJyb3VuZCIsCiAgIm9wYWNpdHkiOiAxLjAsCiAgInJhZGl1cyI6IDUsCiAgInN0cm9rZSI6IHRydWUsCiAgIndlaWdodCI6IDMKfQogICAgICAgICAgICAgICAgKS5hZGRUbyhtYXBfYzIzMzM4OGM0NjBkNDY5YWFkZTAxOWM2OGQ0ZjI3NmQpOwogICAgICAgICAgICAKICAgIAogICAgICAgICAgICB2YXIgcG9wdXBfMTc4NTUxMWEyMmYzNDQ5ZjhkMDRkMzhhNmEyNDdjNmYgPSBMLnBvcHVwKHttYXhXaWR0aDogJzMwMCd9KTsKCiAgICAgICAgICAgIAogICAgICAgICAgICAgICAgdmFyIGh0bWxfYzkyM2EwZjg0MDgwNGU0MDhjY2I2MWMwOGRkNWRmMzYgPSAkKCc8ZGl2IGlkPSJodG1sX2M5MjNhMGY4NDA4MDRlNDA4Y2NiNjFjMDhkZDVkZjM2IiBzdHlsZT0id2lkdGg6IDEwMC4wJTsgaGVpZ2h0OiAxMDAuMCU7Ij5DaGluYXRvd24sIEdyYW5nZSBQYXJrLCBLZW5zaW5ndG9uIE1hcmtldCAtIERvd250b3duIFRvcm9udG88L2Rpdj4nKVswXTsKICAgICAgICAgICAgICAgIHBvcHVwXzE3ODU1MTFhMjJmMzQ0OWY4ZDA0ZDM4YTZhMjQ3YzZmLnNldENvbnRlbnQoaHRtbF9jOTIzYTBmODQwODA0ZTQwOGNjYjYxYzA4ZGQ1ZGYzNik7CiAgICAgICAgICAgIAoKICAgICAgICAgICAgY2lyY2xlX21hcmtlcl8wYmNiYzc1Y2ZlOGE0MTJmODZlNWIwMjJiZjc3NTQ5Yy5iaW5kUG9wdXAocG9wdXBfMTc4NTUxMWEyMmYzNDQ5ZjhkMDRkMzhhNmEyNDdjNmYpOwoKICAgICAgICAgICAgCiAgICAgICAgCiAgICAKICAgICAgICAgICAgdmFyIGNpcmNsZV9tYXJrZXJfZDBlMjliNTBkYWRiNDgxMmI5ZGQ0N2YzZTYwM2Q5MjQgPSBMLmNpcmNsZU1hcmtlcigKICAgICAgICAgICAgICAgIFs0My42Njk1NDIsLTc5LjQyMjU2MzddLAogICAgICAgICAgICAgICAgewogICJidWJibGluZ01vdXNlRXZlbnRzIjogdHJ1ZSwKICAiY29sb3IiOiAiYmx1ZSIsCiAgImRhc2hBcnJheSI6IG51bGwsCiAgImRhc2hPZmZzZXQiOiBudWxsLAogICJmaWxsIjogdHJ1ZSwKICAiZmlsbENvbG9yIjogIiMzMTg2Y2MiLAogICJmaWxsT3BhY2l0eSI6IDAuNywKICAiZmlsbFJ1bGUiOiAiZXZlbm9kZCIsCiAgImxpbmVDYXAiOiAicm91bmQiLAogICJsaW5lSm9pbiI6ICJyb3VuZCIsCiAgIm9wYWNpdHkiOiAxLjAsCiAgInJhZGl1cyI6IDUsCiAgInN0cm9rZSI6IHRydWUsCiAgIndlaWdodCI6IDMKfQogICAgICAgICAgICAgICAgKS5hZGRUbyhtYXBfYzIzMzM4OGM0NjBkNDY5YWFkZTAxOWM2OGQ0ZjI3NmQpOwogICAgICAgICAgICAKICAgIAogICAgICAgICAgICB2YXIgcG9wdXBfYjQzYmFhN2RlMDYwNDE2ZDgxNjgxMTkwMmE4NWEyMzUgPSBMLnBvcHVwKHttYXhXaWR0aDogJzMwMCd9KTsKCiAgICAgICAgICAgIAogICAgICAgICAgICAgICAgdmFyIGh0bWxfNTZmNmM3ZjE3NTg3NDJiY2E3NDkzNmU4ZjVmNGNmYjQgPSAkKCc8ZGl2IGlkPSJodG1sXzU2ZjZjN2YxNzU4NzQyYmNhNzQ5MzZlOGY1ZjRjZmI0IiBzdHlsZT0id2lkdGg6IDEwMC4wJTsgaGVpZ2h0OiAxMDAuMCU7Ij5DaHJpc3RpZSAtIERvd250b3duIFRvcm9udG88L2Rpdj4nKVswXTsKICAgICAgICAgICAgICAgIHBvcHVwX2I0M2JhYTdkZTA2MDQxNmQ4MTY4MTE5MDJhODVhMjM1LnNldENvbnRlbnQoaHRtbF81NmY2YzdmMTc1ODc0MmJjYTc0OTM2ZThmNWY0Y2ZiNCk7CiAgICAgICAgICAgIAoKICAgICAgICAgICAgY2lyY2xlX21hcmtlcl9kMGUyOWI1MGRhZGI0ODEyYjlkZDQ3ZjNlNjAzZDkyNC5iaW5kUG9wdXAocG9wdXBfYjQzYmFhN2RlMDYwNDE2ZDgxNjgxMTkwMmE4NWEyMzUpOwoKICAgICAgICAgICAgCiAgICAgICAgCiAgICAKICAgICAgICAgICAgdmFyIGNpcmNsZV9tYXJrZXJfNTk2M2MxMDdhY2U0NDczMmExYTY2OTZjOGI4MDE0Y2IgPSBMLmNpcmNsZU1hcmtlcigKICAgICAgICAgICAgICAgIFs0My42NjU4NTk5LC03OS4zODMxNTk5MDAwMDAwMV0sCiAgICAgICAgICAgICAgICB7CiAgImJ1YmJsaW5nTW91c2VFdmVudHMiOiB0cnVlLAogICJjb2xvciI6ICJibHVlIiwKICAiZGFzaEFycmF5IjogbnVsbCwKICAiZGFzaE9mZnNldCI6IG51bGwsCiAgImZpbGwiOiB0cnVlLAogICJmaWxsQ29sb3IiOiAiIzMxODZjYyIsCiAgImZpbGxPcGFjaXR5IjogMC43LAogICJmaWxsUnVsZSI6ICJldmVub2RkIiwKICAibGluZUNhcCI6ICJyb3VuZCIsCiAgImxpbmVKb2luIjogInJvdW5kIiwKICAib3BhY2l0eSI6IDEuMCwKICAicmFkaXVzIjogNSwKICAic3Ryb2tlIjogdHJ1ZSwKICAid2VpZ2h0IjogMwp9CiAgICAgICAgICAgICAgICApLmFkZFRvKG1hcF9jMjMzMzg4YzQ2MGQ0NjlhYWRlMDE5YzY4ZDRmMjc2ZCk7CiAgICAgICAgICAgIAogICAgCiAgICAgICAgICAgIHZhciBwb3B1cF82NTUzODE1Mjg1ODQ0ODllYjUyMDA4NjA4NDI3NmFiZSA9IEwucG9wdXAoe21heFdpZHRoOiAnMzAwJ30pOwoKICAgICAgICAgICAgCiAgICAgICAgICAgICAgICB2YXIgaHRtbF9mZTczMjMyZjJhMzE0YjRiOWE0MjQ4NGJjYjU3ZDk0NyA9ICQoJzxkaXYgaWQ9Imh0bWxfZmU3MzIzMmYyYTMxNGI0YjlhNDI0ODRiY2I1N2Q5NDciIHN0eWxlPSJ3aWR0aDogMTAwLjAlOyBoZWlnaHQ6IDEwMC4wJTsiPkNodXJjaCBhbmQgV2VsbGVzbGV5IC0gRG93bnRvd24gVG9yb250bzwvZGl2PicpWzBdOwogICAgICAgICAgICAgICAgcG9wdXBfNjU1MzgxNTI4NTg0NDg5ZWI1MjAwODYwODQyNzZhYmUuc2V0Q29udGVudChodG1sX2ZlNzMyMzJmMmEzMTRiNGI5YTQyNDg0YmNiNTdkOTQ3KTsKICAgICAgICAgICAgCgogICAgICAgICAgICBjaXJjbGVfbWFya2VyXzU5NjNjMTA3YWNlNDQ3MzJhMWE2Njk2YzhiODAxNGNiLmJpbmRQb3B1cChwb3B1cF82NTUzODE1Mjg1ODQ0ODllYjUyMDA4NjA4NDI3NmFiZSk7CgogICAgICAgICAgICAKICAgICAgICAKICAgIAogICAgICAgICAgICB2YXIgY2lyY2xlX21hcmtlcl85MDE3NzkzOTA4ZGI0MjIwYjNiYjQ4ZmJhMGVhZDdlZiA9IEwuY2lyY2xlTWFya2VyKAogICAgICAgICAgICAgICAgWzQzLjcwNDMyNDQsLTc5LjM4ODc5MDFdLAogICAgICAgICAgICAgICAgewogICJidWJibGluZ01vdXNlRXZlbnRzIjogdHJ1ZSwKICAiY29sb3IiOiAiYmx1ZSIsCiAgImRhc2hBcnJheSI6IG51bGwsCiAgImRhc2hPZmZzZXQiOiBudWxsLAogICJmaWxsIjogdHJ1ZSwKICAiZmlsbENvbG9yIjogIiMzMTg2Y2MiLAogICJmaWxsT3BhY2l0eSI6IDAuNywKICAiZmlsbFJ1bGUiOiAiZXZlbm9kZCIsCiAgImxpbmVDYXAiOiAicm91bmQiLAogICJsaW5lSm9pbiI6ICJyb3VuZCIsCiAgIm9wYWNpdHkiOiAxLjAsCiAgInJhZGl1cyI6IDUsCiAgInN0cm9rZSI6IHRydWUsCiAgIndlaWdodCI6IDMKfQogICAgICAgICAgICAgICAgKS5hZGRUbyhtYXBfYzIzMzM4OGM0NjBkNDY5YWFkZTAxOWM2OGQ0ZjI3NmQpOwogICAgICAgICAgICAKICAgIAogICAgICAgICAgICB2YXIgcG9wdXBfYmU4ZjA3OTkwOGVkNDU1ZWJmMzNmYzE4NmRiMTNiOTkgPSBMLnBvcHVwKHttYXhXaWR0aDogJzMwMCd9KTsKCiAgICAgICAgICAgIAogICAgICAgICAgICAgICAgdmFyIGh0bWxfMTJmZTIzZTc2ZTIzNGQzNzk2NTUzOTIyYjBkNzcxODkgPSAkKCc8ZGl2IGlkPSJodG1sXzEyZmUyM2U3NmUyMzRkMzc5NjU1MzkyMmIwZDc3MTg5IiBzdHlsZT0id2lkdGg6IDEwMC4wJTsgaGVpZ2h0OiAxMDAuMCU7Ij5EYXZpc3ZpbGxlIC0gQ2VudHJhbCBUb3JvbnRvPC9kaXY+JylbMF07CiAgICAgICAgICAgICAgICBwb3B1cF9iZThmMDc5OTA4ZWQ0NTVlYmYzM2ZjMTg2ZGIxM2I5OS5zZXRDb250ZW50KGh0bWxfMTJmZTIzZTc2ZTIzNGQzNzk2NTUzOTIyYjBkNzcxODkpOwogICAgICAgICAgICAKCiAgICAgICAgICAgIGNpcmNsZV9tYXJrZXJfOTAxNzc5MzkwOGRiNDIyMGIzYmI0OGZiYTBlYWQ3ZWYuYmluZFBvcHVwKHBvcHVwX2JlOGYwNzk5MDhlZDQ1NWViZjMzZmMxODZkYjEzYjk5KTsKCiAgICAgICAgICAgIAogICAgICAgIAogICAgCiAgICAgICAgICAgIHZhciBjaXJjbGVfbWFya2VyXzg1ZDliNzdmMWE1NDQ4MzFiMGU4Y2Q0NTQ0YjdmYTU5ID0gTC5jaXJjbGVNYXJrZXIoCiAgICAgICAgICAgICAgICBbNDMuNzI1ODk5NzAwMDAwMDEsLTc5LjM0MDkyM10sCiAgICAgICAgICAgICAgICB7CiAgImJ1YmJsaW5nTW91c2VFdmVudHMiOiB0cnVlLAogICJjb2xvciI6ICJibHVlIiwKICAiZGFzaEFycmF5IjogbnVsbCwKICAiZGFzaE9mZnNldCI6IG51bGwsCiAgImZpbGwiOiB0cnVlLAogICJmaWxsQ29sb3IiOiAiIzMxODZjYyIsCiAgImZpbGxPcGFjaXR5IjogMC43LAogICJmaWxsUnVsZSI6ICJldmVub2RkIiwKICAibGluZUNhcCI6ICJyb3VuZCIsCiAgImxpbmVKb2luIjogInJvdW5kIiwKICAib3BhY2l0eSI6IDEuMCwKICAicmFkaXVzIjogNSwKICAic3Ryb2tlIjogdHJ1ZSwKICAid2VpZ2h0IjogMwp9CiAgICAgICAgICAgICAgICApLmFkZFRvKG1hcF9jMjMzMzg4YzQ2MGQ0NjlhYWRlMDE5YzY4ZDRmMjc2ZCk7CiAgICAgICAgICAgIAogICAgCiAgICAgICAgICAgIHZhciBwb3B1cF85YTY4ZWI5MzAwM2Q0NzcyOWJkZDljZGUyNDU2ZWYwYyA9IEwucG9wdXAoe21heFdpZHRoOiAnMzAwJ30pOwoKICAgICAgICAgICAgCiAgICAgICAgICAgICAgICB2YXIgaHRtbF84ODNkODg1MDRkYmY0NGZkYjg5ZjcwMWUwYWUyYTBjYyA9ICQoJzxkaXYgaWQ9Imh0bWxfODgzZDg4NTA0ZGJmNDRmZGI4OWY3MDFlMGFlMmEwY2MiIHN0eWxlPSJ3aWR0aDogMTAwLjAlOyBoZWlnaHQ6IDEwMC4wJTsiPkRvbiBNaWxscyBTb3V0aCwgRmxlbWluZ2RvbiBQYXJrIC0gTm9ydGggWW9yazwvZGl2PicpWzBdOwogICAgICAgICAgICAgICAgcG9wdXBfOWE2OGViOTMwMDNkNDc3MjliZGQ5Y2RlMjQ1NmVmMGMuc2V0Q29udGVudChodG1sXzg4M2Q4ODUwNGRiZjQ0ZmRiODlmNzAxZTBhZTJhMGNjKTsKICAgICAgICAgICAgCgogICAgICAgICAgICBjaXJjbGVfbWFya2VyXzg1ZDliNzdmMWE1NDQ4MzFiMGU4Y2Q0NTQ0YjdmYTU5LmJpbmRQb3B1cChwb3B1cF85YTY4ZWI5MzAwM2Q0NzcyOWJkZDljZGUyNDU2ZWYwYyk7CgogICAgICAgICAgICAKICAgICAgICAKICAgIAogICAgICAgICAgICB2YXIgY2lyY2xlX21hcmtlcl9hN2JlZjQ2MTA1ZDc0MWMwOTY0ZWU1YjkyYmRjODUyMSA9IEwuY2lyY2xlTWFya2VyKAogICAgICAgICAgICAgICAgWzQzLjc1NzQwOTYsLTc5LjI3MzMwNDAwMDAwMDAxXSwKICAgICAgICAgICAgICAgIHsKICAiYnViYmxpbmdNb3VzZUV2ZW50cyI6IHRydWUsCiAgImNvbG9yIjogImJsdWUiLAogICJkYXNoQXJyYXkiOiBudWxsLAogICJkYXNoT2Zmc2V0IjogbnVsbCwKICAiZmlsbCI6IHRydWUsCiAgImZpbGxDb2xvciI6ICIjMzE4NmNjIiwKICAiZmlsbE9wYWNpdHkiOiAwLjcsCiAgImZpbGxSdWxlIjogImV2ZW5vZGQiLAogICJsaW5lQ2FwIjogInJvdW5kIiwKICAibGluZUpvaW4iOiAicm91bmQiLAogICJvcGFjaXR5IjogMS4wLAogICJyYWRpdXMiOiA1LAogICJzdHJva2UiOiB0cnVlLAogICJ3ZWlnaHQiOiAzCn0KICAgICAgICAgICAgICAgICkuYWRkVG8obWFwX2MyMzMzODhjNDYwZDQ2OWFhZGUwMTljNjhkNGYyNzZkKTsKICAgICAgICAgICAgCiAgICAKICAgICAgICAgICAgdmFyIHBvcHVwX2I4Zjg1ZWJiYTdlNzRiYjU4MTdiOGJhZmY3MzJkMzVjID0gTC5wb3B1cCh7bWF4V2lkdGg6ICczMDAnfSk7CgogICAgICAgICAgICAKICAgICAgICAgICAgICAgIHZhciBodG1sX2RlN2E3ODVjOTU1MDQzMTRiNGQ2YTg4MDQ5ZThiOWY5ID0gJCgnPGRpdiBpZD0iaHRtbF9kZTdhNzg1Yzk1NTA0MzE0YjRkNmE4ODA0OWU4YjlmOSIgc3R5bGU9IndpZHRoOiAxMDAuMCU7IGhlaWdodDogMTAwLjAlOyI+RG9yc2V0IFBhcmssIFNjYXJib3JvdWdoIFRvd24gQ2VudHJlLCBXZXhmb3JkIEhlaWdodHMgLSBTY2FyYm9yb3VnaDwvZGl2PicpWzBdOwogICAgICAgICAgICAgICAgcG9wdXBfYjhmODVlYmJhN2U3NGJiNTgxN2I4YmFmZjczMmQzNWMuc2V0Q29udGVudChodG1sX2RlN2E3ODVjOTU1MDQzMTRiNGQ2YTg4MDQ5ZThiOWY5KTsKICAgICAgICAgICAgCgogICAgICAgICAgICBjaXJjbGVfbWFya2VyX2E3YmVmNDYxMDVkNzQxYzA5NjRlZTViOTJiZGM4NTIxLmJpbmRQb3B1cChwb3B1cF9iOGY4NWViYmE3ZTc0YmI1ODE3YjhiYWZmNzMyZDM1Yyk7CgogICAgICAgICAgICAKICAgICAgICAKICAgIAogICAgICAgICAgICB2YXIgY2lyY2xlX21hcmtlcl8yMDA4MWM5ZmEzNjQ0ZGIwYmI0M2U0NjQyMGNlMmQ4MSA9IEwuY2lyY2xlTWFya2VyKAogICAgICAgICAgICAgICAgWzQzLjY4NTM0NywtNzkuMzM4MTA2NV0sCiAgICAgICAgICAgICAgICB7CiAgImJ1YmJsaW5nTW91c2VFdmVudHMiOiB0cnVlLAogICJjb2xvciI6ICJibHVlIiwKICAiZGFzaEFycmF5IjogbnVsbCwKICAiZGFzaE9mZnNldCI6IG51bGwsCiAgImZpbGwiOiB0cnVlLAogICJmaWxsQ29sb3IiOiAiIzMxODZjYyIsCiAgImZpbGxPcGFjaXR5IjogMC43LAogICJmaWxsUnVsZSI6ICJldmVub2RkIiwKICAibGluZUNhcCI6ICJyb3VuZCIsCiAgImxpbmVKb2luIjogInJvdW5kIiwKICAib3BhY2l0eSI6IDEuMCwKICAicmFkaXVzIjogNSwKICAic3Ryb2tlIjogdHJ1ZSwKICAid2VpZ2h0IjogMwp9CiAgICAgICAgICAgICAgICApLmFkZFRvKG1hcF9jMjMzMzg4YzQ2MGQ0NjlhYWRlMDE5YzY4ZDRmMjc2ZCk7CiAgICAgICAgICAgIAogICAgCiAgICAgICAgICAgIHZhciBwb3B1cF8zZDdlM2RiNDlhOGY0ZDA1YmVhMWUyOGY4YzhjZjYwNSA9IEwucG9wdXAoe21heFdpZHRoOiAnMzAwJ30pOwoKICAgICAgICAgICAgCiAgICAgICAgICAgICAgICB2YXIgaHRtbF81ZDYzZGJjMTUyOGQ0Y2MyOGU3Mjc0YjRjZjJhNGRiMSA9ICQoJzxkaXYgaWQ9Imh0bWxfNWQ2M2RiYzE1MjhkNGNjMjhlNzI3NGI0Y2YyYTRkYjEiIHN0eWxlPSJ3aWR0aDogMTAwLjAlOyBoZWlnaHQ6IDEwMC4wJTsiPkVhc3QgVG9yb250byAtIEVhc3QgWW9yazwvZGl2PicpWzBdOwogICAgICAgICAgICAgICAgcG9wdXBfM2Q3ZTNkYjQ5YThmNGQwNWJlYTFlMjhmOGM4Y2Y2MDUuc2V0Q29udGVudChodG1sXzVkNjNkYmMxNTI4ZDRjYzI4ZTcyNzRiNGNmMmE0ZGIxKTsKICAgICAgICAgICAgCgogICAgICAgICAgICBjaXJjbGVfbWFya2VyXzIwMDgxYzlmYTM2NDRkYjBiYjQzZTQ2NDIwY2UyZDgxLmJpbmRQb3B1cChwb3B1cF8zZDdlM2RiNDlhOGY0ZDA1YmVhMWUyOGY4YzhjZjYwNSk7CgogICAgICAgICAgICAKICAgICAgICAKICAgIAogICAgICAgICAgICB2YXIgY2lyY2xlX21hcmtlcl80Yzk5Yjg5MTVlYjQ0YWFmYjJlOTkxYjY2NzFmNjk5NiA9IEwuY2lyY2xlTWFya2VyKAogICAgICAgICAgICAgICAgWzQzLjY0MDgxNTcsLTc5LjM4MTc1MjI5OTk5OTk5XSwKICAgICAgICAgICAgICAgIHsKICAiYnViYmxpbmdNb3VzZUV2ZW50cyI6IHRydWUsCiAgImNvbG9yIjogImJsdWUiLAogICJkYXNoQXJyYXkiOiBudWxsLAogICJkYXNoT2Zmc2V0IjogbnVsbCwKICAiZmlsbCI6IHRydWUsCiAgImZpbGxDb2xvciI6ICIjMzE4NmNjIiwKICAiZmlsbE9wYWNpdHkiOiAwLjcsCiAgImZpbGxSdWxlIjogImV2ZW5vZGQiLAogICJsaW5lQ2FwIjogInJvdW5kIiwKICAibGluZUpvaW4iOiAicm91bmQiLAogICJvcGFjaXR5IjogMS4wLAogICJyYWRpdXMiOiA1LAogICJzdHJva2UiOiB0cnVlLAogICJ3ZWlnaHQiOiAzCn0KICAgICAgICAgICAgICAgICkuYWRkVG8obWFwX2MyMzMzODhjNDYwZDQ2OWFhZGUwMTljNjhkNGYyNzZkKTsKICAgICAgICAgICAgCiAgICAKICAgICAgICAgICAgdmFyIHBvcHVwXzhhMjEwMWZjZmM5NDRjYzM4ZTBjNzI3NmIwYTU0ZDAzID0gTC5wb3B1cCh7bWF4V2lkdGg6ICczMDAnfSk7CgogICAgICAgICAgICAKICAgICAgICAgICAgICAgIHZhciBodG1sX2ExZGNmZjJmOWYwOTQxOTY4OWMwZjUxMDM3ZmRhNGZhID0gJCgnPGRpdiBpZD0iaHRtbF9hMWRjZmYyZjlmMDk0MTk2ODljMGY1MTAzN2ZkYTRmYSIgc3R5bGU9IndpZHRoOiAxMDAuMCU7IGhlaWdodDogMTAwLjAlOyI+SGFyYm91cmZyb250IEVhc3QsIFRvcm9udG8gSXNsYW5kcywgVW5pb24gU3RhdGlvbiAtIERvd250b3duIFRvcm9udG88L2Rpdj4nKVswXTsKICAgICAgICAgICAgICAgIHBvcHVwXzhhMjEwMWZjZmM5NDRjYzM4ZTBjNzI3NmIwYTU0ZDAzLnNldENvbnRlbnQoaHRtbF9hMWRjZmYyZjlmMDk0MTk2ODljMGY1MTAzN2ZkYTRmYSk7CiAgICAgICAgICAgIAoKICAgICAgICAgICAgY2lyY2xlX21hcmtlcl80Yzk5Yjg5MTVlYjQ0YWFmYjJlOTkxYjY2NzFmNjk5Ni5iaW5kUG9wdXAocG9wdXBfOGEyMTAxZmNmYzk0NGNjMzhlMGM3Mjc2YjBhNTRkMDMpOwoKICAgICAgICAgICAgCiAgICAgICAgCiAgICAKICAgICAgICAgICAgdmFyIGNpcmNsZV9tYXJrZXJfYTNmMDE2YmMxMjU0NDEwMjkzNTgxNzRjODkxYWM0OTAgPSBMLmNpcmNsZU1hcmtlcigKICAgICAgICAgICAgICAgIFs0My42NTQyNTk5LC03OS4zNjA2MzU5XSwKICAgICAgICAgICAgICAgIHsKICAiYnViYmxpbmdNb3VzZUV2ZW50cyI6IHRydWUsCiAgImNvbG9yIjogImJsdWUiLAogICJkYXNoQXJyYXkiOiBudWxsLAogICJkYXNoT2Zmc2V0IjogbnVsbCwKICAiZmlsbCI6IHRydWUsCiAgImZpbGxDb2xvciI6ICIjMzE4NmNjIiwKICAiZmlsbE9wYWNpdHkiOiAwLjcsCiAgImZpbGxSdWxlIjogImV2ZW5vZGQiLAogICJsaW5lQ2FwIjogInJvdW5kIiwKICAibGluZUpvaW4iOiAicm91bmQiLAogICJvcGFjaXR5IjogMS4wLAogICJyYWRpdXMiOiA1LAogICJzdHJva2UiOiB0cnVlLAogICJ3ZWlnaHQiOiAzCn0KICAgICAgICAgICAgICAgICkuYWRkVG8obWFwX2MyMzMzODhjNDYwZDQ2OWFhZGUwMTljNjhkNGYyNzZkKTsKICAgICAgICAgICAgCiAgICAKICAgICAgICAgICAgdmFyIHBvcHVwXzVjYjgzNjhjYThmZTRhZTRiNDc1YTJhOWE3ZThiZmNhID0gTC5wb3B1cCh7bWF4V2lkdGg6ICczMDAnfSk7CgogICAgICAgICAgICAKICAgICAgICAgICAgICAgIHZhciBodG1sXzk3MGI4ZjY0NjI2OTQ4MzliYTQwYzQwYTlkZjJhZDZlID0gJCgnPGRpdiBpZD0iaHRtbF85NzBiOGY2NDYyNjk0ODM5YmE0MGM0MGE5ZGYyYWQ2ZSIgc3R5bGU9IndpZHRoOiAxMDAuMCU7IGhlaWdodDogMTAwLjAlOyI+SGFyYm91cmZyb250LCBSZWdlbnQgUGFyayAtIERvd250b3duIFRvcm9udG88L2Rpdj4nKVswXTsKICAgICAgICAgICAgICAgIHBvcHVwXzVjYjgzNjhjYThmZTRhZTRiNDc1YTJhOWE3ZThiZmNhLnNldENvbnRlbnQoaHRtbF85NzBiOGY2NDYyNjk0ODM5YmE0MGM0MGE5ZGYyYWQ2ZSk7CiAgICAgICAgICAgIAoKICAgICAgICAgICAgY2lyY2xlX21hcmtlcl9hM2YwMTZiYzEyNTQ0MTAyOTM1ODE3NGM4OTFhYzQ5MC5iaW5kUG9wdXAocG9wdXBfNWNiODM2OGNhOGZlNGFlNGI0NzVhMmE5YTdlOGJmY2EpOwoKICAgICAgICAgICAgCiAgICAgICAgCiAgICAKICAgICAgICAgICAgdmFyIGNpcmNsZV9tYXJrZXJfNDg2YTA0ZjliMzc0NDcwMmEyNDU2ZTkzZmI4MDdkZjEgPSBMLmNpcmNsZU1hcmtlcigKICAgICAgICAgICAgICAgIFs0My42NjE2MDgzLC03OS40NjQ3NjMyOTk5OTk5OV0sCiAgICAgICAgICAgICAgICB7CiAgImJ1YmJsaW5nTW91c2VFdmVudHMiOiB0cnVlLAogICJjb2xvciI6ICJibHVlIiwKICAiZGFzaEFycmF5IjogbnVsbCwKICAiZGFzaE9mZnNldCI6IG51bGwsCiAgImZpbGwiOiB0cnVlLAogICJmaWxsQ29sb3IiOiAiIzMxODZjYyIsCiAgImZpbGxPcGFjaXR5IjogMC43LAogICJmaWxsUnVsZSI6ICJldmVub2RkIiwKICAibGluZUNhcCI6ICJyb3VuZCIsCiAgImxpbmVKb2luIjogInJvdW5kIiwKICAib3BhY2l0eSI6IDEuMCwKICAicmFkaXVzIjogNSwKICAic3Ryb2tlIjogdHJ1ZSwKICAid2VpZ2h0IjogMwp9CiAgICAgICAgICAgICAgICApLmFkZFRvKG1hcF9jMjMzMzg4YzQ2MGQ0NjlhYWRlMDE5YzY4ZDRmMjc2ZCk7CiAgICAgICAgICAgIAogICAgCiAgICAgICAgICAgIHZhciBwb3B1cF9lOTliNjIzNzk1YzU0NjQ1Yjc3MjdkZDEyZTY3MTNhMyA9IEwucG9wdXAoe21heFdpZHRoOiAnMzAwJ30pOwoKICAgICAgICAgICAgCiAgICAgICAgICAgICAgICB2YXIgaHRtbF80ZjMzOWM1NmM1MmY0ZGExYmFlNWYzM2EyOTZlMDVhNiA9ICQoJzxkaXYgaWQ9Imh0bWxfNGYzMzljNTZjNTJmNGRhMWJhZTVmMzNhMjk2ZTA1YTYiIHN0eWxlPSJ3aWR0aDogMTAwLjAlOyBoZWlnaHQ6IDEwMC4wJTsiPkhpZ2ggUGFyaywgVGhlIEp1bmN0aW9uIFNvdXRoIC0gV2VzdCBUb3JvbnRvPC9kaXY+JylbMF07CiAgICAgICAgICAgICAgICBwb3B1cF9lOTliNjIzNzk1YzU0NjQ1Yjc3MjdkZDEyZTY3MTNhMy5zZXRDb250ZW50KGh0bWxfNGYzMzljNTZjNTJmNGRhMWJhZTVmMzNhMjk2ZTA1YTYpOwogICAgICAgICAgICAKCiAgICAgICAgICAgIGNpcmNsZV9tYXJrZXJfNDg2YTA0ZjliMzc0NDcwMmEyNDU2ZTkzZmI4MDdkZjEuYmluZFBvcHVwKHBvcHVwX2U5OWI2MjM3OTVjNTQ2NDViNzcyN2RkMTJlNjcxM2EzKTsKCiAgICAgICAgICAgIAogICAgICAgIAogICAgCiAgICAgICAgICAgIHZhciBjaXJjbGVfbWFya2VyX2QzMWJhNTQ3NGY3NjQyNmZiZDM3YWZhNGQ0OTQ3MzM3ID0gTC5jaXJjbGVNYXJrZXIoCiAgICAgICAgICAgICAgICBbNDMuNjA1NjQ2NiwtNzkuNTAxMzIwNzAwMDAwMDFdLAogICAgICAgICAgICAgICAgewogICJidWJibGluZ01vdXNlRXZlbnRzIjogdHJ1ZSwKICAiY29sb3IiOiAiYmx1ZSIsCiAgImRhc2hBcnJheSI6IG51bGwsCiAgImRhc2hPZmZzZXQiOiBudWxsLAogICJmaWxsIjogdHJ1ZSwKICAiZmlsbENvbG9yIjogIiMzMTg2Y2MiLAogICJmaWxsT3BhY2l0eSI6IDAuNywKICAiZmlsbFJ1bGUiOiAiZXZlbm9kZCIsCiAgImxpbmVDYXAiOiAicm91bmQiLAogICJsaW5lSm9pbiI6ICJyb3VuZCIsCiAgIm9wYWNpdHkiOiAxLjAsCiAgInJhZGl1cyI6IDUsCiAgInN0cm9rZSI6IHRydWUsCiAgIndlaWdodCI6IDMKfQogICAgICAgICAgICAgICAgKS5hZGRUbyhtYXBfYzIzMzM4OGM0NjBkNDY5YWFkZTAxOWM2OGQ0ZjI3NmQpOwogICAgICAgICAgICAKICAgIAogICAgICAgICAgICB2YXIgcG9wdXBfOWFmNjhhNTUwNTcxNGRhNjk3YzRmMmM3ZTRmNTZhZTggPSBMLnBvcHVwKHttYXhXaWR0aDogJzMwMCd9KTsKCiAgICAgICAgICAgIAogICAgICAgICAgICAgICAgdmFyIGh0bWxfNjE0MGJmM2ZmYzU5NDUxZGE0MzAyNmExODViYmMxYmMgPSAkKCc8ZGl2IGlkPSJodG1sXzYxNDBiZjNmZmM1OTQ1MWRhNDMwMjZhMTg1YmJjMWJjIiBzdHlsZT0id2lkdGg6IDEwMC4wJTsgaGVpZ2h0OiAxMDAuMCU7Ij5IdW1iZXIgQmF5IFNob3JlcywgTWltaWNvIFNvdXRoLCBOZXcgVG9yb250byAtIEV0b2JpY29rZTwvZGl2PicpWzBdOwogICAgICAgICAgICAgICAgcG9wdXBfOWFmNjhhNTUwNTcxNGRhNjk3YzRmMmM3ZTRmNTZhZTguc2V0Q29udGVudChodG1sXzYxNDBiZjNmZmM1OTQ1MWRhNDMwMjZhMTg1YmJjMWJjKTsKICAgICAgICAgICAgCgogICAgICAgICAgICBjaXJjbGVfbWFya2VyX2QzMWJhNTQ3NGY3NjQyNmZiZDM3YWZhNGQ0OTQ3MzM3LmJpbmRQb3B1cChwb3B1cF85YWY2OGE1NTA1NzE0ZGE2OTdjNGYyYzdlNGY1NmFlOCk7CgogICAgICAgICAgICAKICAgICAgICAKICAgIAogICAgICAgICAgICB2YXIgY2lyY2xlX21hcmtlcl84MTQwZDRmOTViNGM0NWEwYWYwMTE3MDBlYWE5MDIxNCA9IEwuY2lyY2xlTWFya2VyKAogICAgICAgICAgICAgICAgWzQzLjY2ODk5ODUsLTc5LjMxNTU3MTU5OTk5OTk4XSwKICAgICAgICAgICAgICAgIHsKICAiYnViYmxpbmdNb3VzZUV2ZW50cyI6IHRydWUsCiAgImNvbG9yIjogImJsdWUiLAogICJkYXNoQXJyYXkiOiBudWxsLAogICJkYXNoT2Zmc2V0IjogbnVsbCwKICAiZmlsbCI6IHRydWUsCiAgImZpbGxDb2xvciI6ICIjMzE4NmNjIiwKICAiZmlsbE9wYWNpdHkiOiAwLjcsCiAgImZpbGxSdWxlIjogImV2ZW5vZGQiLAogICJsaW5lQ2FwIjogInJvdW5kIiwKICAibGluZUpvaW4iOiAicm91bmQiLAogICJvcGFjaXR5IjogMS4wLAogICJyYWRpdXMiOiA1LAogICJzdHJva2UiOiB0cnVlLAogICJ3ZWlnaHQiOiAzCn0KICAgICAgICAgICAgICAgICkuYWRkVG8obWFwX2MyMzMzODhjNDYwZDQ2OWFhZGUwMTljNjhkNGYyNzZkKTsKICAgICAgICAgICAgCiAgICAKICAgICAgICAgICAgdmFyIHBvcHVwX2U4NmI4ZmVmZDYzODQxZjc4ZDdiMzZiNjczYzFiODk4ID0gTC5wb3B1cCh7bWF4V2lkdGg6ICczMDAnfSk7CgogICAgICAgICAgICAKICAgICAgICAgICAgICAgIHZhciBodG1sXzczNWJhNjJmOWVkODQ0MTFhN2UzODJmMWFlN2MyYmQ4ID0gJCgnPGRpdiBpZD0iaHRtbF83MzViYTYyZjllZDg0NDExYTdlMzgyZjFhZTdjMmJkOCIgc3R5bGU9IndpZHRoOiAxMDAuMCU7IGhlaWdodDogMTAwLjAlOyI+SW5kaWEgQmF6YWFyLCBUaGUgQmVhY2hlcyBXZXN0IC0gRWFzdCBUb3JvbnRvPC9kaXY+JylbMF07CiAgICAgICAgICAgICAgICBwb3B1cF9lODZiOGZlZmQ2Mzg0MWY3OGQ3YjM2YjY3M2MxYjg5OC5zZXRDb250ZW50KGh0bWxfNzM1YmE2MmY5ZWQ4NDQxMWE3ZTM4MmYxYWU3YzJiZDgpOwogICAgICAgICAgICAKCiAgICAgICAgICAgIGNpcmNsZV9tYXJrZXJfODE0MGQ0Zjk1YjRjNDVhMGFmMDExNzAwZWFhOTAyMTQuYmluZFBvcHVwKHBvcHVwX2U4NmI4ZmVmZDYzODQxZjc4ZDdiMzZiNjczYzFiODk4KTsKCiAgICAgICAgICAgIAogICAgICAgIAogICAgCiAgICAgICAgICAgIHZhciBjaXJjbGVfbWFya2VyXzJjMmZhMGJjY2U0MzRhMjk5MDM3NTVjZWE1NDJjZjQyID0gTC5jaXJjbGVNYXJrZXIoCiAgICAgICAgICAgICAgICBbNDMuNzA5MDYwNCwtNzkuMzYzNDUxN10sCiAgICAgICAgICAgICAgICB7CiAgImJ1YmJsaW5nTW91c2VFdmVudHMiOiB0cnVlLAogICJjb2xvciI6ICJibHVlIiwKICAiZGFzaEFycmF5IjogbnVsbCwKICAiZGFzaE9mZnNldCI6IG51bGwsCiAgImZpbGwiOiB0cnVlLAogICJmaWxsQ29sb3IiOiAiIzMxODZjYyIsCiAgImZpbGxPcGFjaXR5IjogMC43LAogICJmaWxsUnVsZSI6ICJldmVub2RkIiwKICAibGluZUNhcCI6ICJyb3VuZCIsCiAgImxpbmVKb2luIjogInJvdW5kIiwKICAib3BhY2l0eSI6IDEuMCwKICAicmFkaXVzIjogNSwKICAic3Ryb2tlIjogdHJ1ZSwKICAid2VpZ2h0IjogMwp9CiAgICAgICAgICAgICAgICApLmFkZFRvKG1hcF9jMjMzMzg4YzQ2MGQ0NjlhYWRlMDE5YzY4ZDRmMjc2ZCk7CiAgICAgICAgICAgIAogICAgCiAgICAgICAgICAgIHZhciBwb3B1cF9hZGY2NDc1OTg4ZTA0MTE1OGRhYWZjZGEzYzI1YTdjNiA9IEwucG9wdXAoe21heFdpZHRoOiAnMzAwJ30pOwoKICAgICAgICAgICAgCiAgICAgICAgICAgICAgICB2YXIgaHRtbF8wYmRmZjhiNjk3ZDU0YzYzYjMyZTFiYjcwM2Q5YTFjYiA9ICQoJzxkaXYgaWQ9Imh0bWxfMGJkZmY4YjY5N2Q1NGM2M2IzMmUxYmI3MDNkOWExY2IiIHN0eWxlPSJ3aWR0aDogMTAwLjAlOyBoZWlnaHQ6IDEwMC4wJTsiPkxlYXNpZGUgLSBFYXN0IFlvcms8L2Rpdj4nKVswXTsKICAgICAgICAgICAgICAgIHBvcHVwX2FkZjY0NzU5ODhlMDQxMTU4ZGFhZmNkYTNjMjVhN2M2LnNldENvbnRlbnQoaHRtbF8wYmRmZjhiNjk3ZDU0YzYzYjMyZTFiYjcwM2Q5YTFjYik7CiAgICAgICAgICAgIAoKICAgICAgICAgICAgY2lyY2xlX21hcmtlcl8yYzJmYTBiY2NlNDM0YTI5OTAzNzU1Y2VhNTQyY2Y0Mi5iaW5kUG9wdXAocG9wdXBfYWRmNjQ3NTk4OGUwNDExNThkYWFmY2RhM2MyNWE3YzYpOwoKICAgICAgICAgICAgCiAgICAgICAgCiAgICAKICAgICAgICAgICAgdmFyIGNpcmNsZV9tYXJrZXJfYzViYzE5Y2EzOGYyNDdhODhhYzkxNWJiZjVkMmFiNmYgPSBMLmNpcmNsZU1hcmtlcigKICAgICAgICAgICAgICAgIFs0My43NTAwNzE1MDAwMDAwMDQsLTc5LjI5NTg0OTFdLAogICAgICAgICAgICAgICAgewogICJidWJibGluZ01vdXNlRXZlbnRzIjogdHJ1ZSwKICAiY29sb3IiOiAiYmx1ZSIsCiAgImRhc2hBcnJheSI6IG51bGwsCiAgImRhc2hPZmZzZXQiOiBudWxsLAogICJmaWxsIjogdHJ1ZSwKICAiZmlsbENvbG9yIjogIiMzMTg2Y2MiLAogICJmaWxsT3BhY2l0eSI6IDAuNywKICAiZmlsbFJ1bGUiOiAiZXZlbm9kZCIsCiAgImxpbmVDYXAiOiAicm91bmQiLAogICJsaW5lSm9pbiI6ICJyb3VuZCIsCiAgIm9wYWNpdHkiOiAxLjAsCiAgInJhZGl1cyI6IDUsCiAgInN0cm9rZSI6IHRydWUsCiAgIndlaWdodCI6IDMKfQogICAgICAgICAgICAgICAgKS5hZGRUbyhtYXBfYzIzMzM4OGM0NjBkNDY5YWFkZTAxOWM2OGQ0ZjI3NmQpOwogICAgICAgICAgICAKICAgIAogICAgICAgICAgICB2YXIgcG9wdXBfMTNmNzZkZjVmNDhiNDk2NWI0Y2QxYjE5MjJmMjMwYjIgPSBMLnBvcHVwKHttYXhXaWR0aDogJzMwMCd9KTsKCiAgICAgICAgICAgIAogICAgICAgICAgICAgICAgdmFyIGh0bWxfODNmOTM0ODBjMWU2NDQzN2JjOThjNTU3MmRjYWNiNDIgPSAkKCc8ZGl2IGlkPSJodG1sXzgzZjkzNDgwYzFlNjQ0MzdiYzk4YzU1NzJkY2FjYjQyIiBzdHlsZT0id2lkdGg6IDEwMC4wJTsgaGVpZ2h0OiAxMDAuMCU7Ij5NYXJ5dmFsZSwgV2V4Zm9yZCAtIFNjYXJib3JvdWdoPC9kaXY+JylbMF07CiAgICAgICAgICAgICAgICBwb3B1cF8xM2Y3NmRmNWY0OGI0OTY1YjRjZDFiMTkyMmYyMzBiMi5zZXRDb250ZW50KGh0bWxfODNmOTM0ODBjMWU2NDQzN2JjOThjNTU3MmRjYWNiNDIpOwogICAgICAgICAgICAKCiAgICAgICAgICAgIGNpcmNsZV9tYXJrZXJfYzViYzE5Y2EzOGYyNDdhODhhYzkxNWJiZjVkMmFiNmYuYmluZFBvcHVwKHBvcHVwXzEzZjc2ZGY1ZjQ4YjQ5NjViNGNkMWIxOTIyZjIzMGIyKTsKCiAgICAgICAgICAgIAogICAgICAgIAogICAgCiAgICAgICAgICAgIHZhciBjaXJjbGVfbWFya2VyX2RlMWNjMTBkMzMzMjQ5ZTI5NmFiZDczYjA5NWJiYWU0ID0gTC5jaXJjbGVNYXJrZXIoCiAgICAgICAgICAgICAgICBbNDMuNjUzNjUzNjAwMDAwMDA1LC03OS41MDY5NDM2XSwKICAgICAgICAgICAgICAgIHsKICAiYnViYmxpbmdNb3VzZUV2ZW50cyI6IHRydWUsCiAgImNvbG9yIjogImJsdWUiLAogICJkYXNoQXJyYXkiOiBudWxsLAogICJkYXNoT2Zmc2V0IjogbnVsbCwKICAiZmlsbCI6IHRydWUsCiAgImZpbGxDb2xvciI6ICIjMzE4NmNjIiwKICAiZmlsbE9wYWNpdHkiOiAwLjcsCiAgImZpbGxSdWxlIjogImV2ZW5vZGQiLAogICJsaW5lQ2FwIjogInJvdW5kIiwKICAibGluZUpvaW4iOiAicm91bmQiLAogICJvcGFjaXR5IjogMS4wLAogICJyYWRpdXMiOiA1LAogICJzdHJva2UiOiB0cnVlLAogICJ3ZWlnaHQiOiAzCn0KICAgICAgICAgICAgICAgICkuYWRkVG8obWFwX2MyMzMzODhjNDYwZDQ2OWFhZGUwMTljNjhkNGYyNzZkKTsKICAgICAgICAgICAgCiAgICAKICAgICAgICAgICAgdmFyIHBvcHVwX2RhNWVjNmVjMDczYzQ5NjQ5ZjE0MTY1ZWE2Njg0YmVhID0gTC5wb3B1cCh7bWF4V2lkdGg6ICczMDAnfSk7CgogICAgICAgICAgICAKICAgICAgICAgICAgICAgIHZhciBodG1sXzQxYzRhNDhlYjk1YjQyZmJhZTc0ZTNkMDc2MTVmMjZjID0gJCgnPGRpdiBpZD0iaHRtbF80MWM0YTQ4ZWI5NWI0MmZiYWU3NGUzZDA3NjE1ZjI2YyIgc3R5bGU9IndpZHRoOiAxMDAuMCU7IGhlaWdodDogMTAwLjAlOyI+TW9udGdvbWVyeSBSb2FkLCBPbGQgTWlsbCBOb3J0aCwgVGhlIEtpbmdzd2F5IC0gRXRvYmljb2tlPC9kaXY+JylbMF07CiAgICAgICAgICAgICAgICBwb3B1cF9kYTVlYzZlYzA3M2M0OTY0OWYxNDE2NWVhNjY4NGJlYS5zZXRDb250ZW50KGh0bWxfNDFjNGE0OGViOTViNDJmYmFlNzRlM2QwNzYxNWYyNmMpOwogICAgICAgICAgICAKCiAgICAgICAgICAgIGNpcmNsZV9tYXJrZXJfZGUxY2MxMGQzMzMyNDllMjk2YWJkNzNiMDk1YmJhZTQuYmluZFBvcHVwKHBvcHVwX2RhNWVjNmVjMDczYzQ5NjQ5ZjE0MTY1ZWE2Njg0YmVhKTsKCiAgICAgICAgICAgIAogICAgICAgIAogICAgCiAgICAgICAgICAgIHZhciBjaXJjbGVfbWFya2VyXzI2ODZmZGRkZWExMTQwY2M4ZWEzZjY5YmYxNmI5NzA4ID0gTC5jaXJjbGVNYXJrZXIoCiAgICAgICAgICAgICAgICBbNDMuNzg5MDUzLC03OS40MDg0OTI3OTk5OTk5OV0sCiAgICAgICAgICAgICAgICB7CiAgImJ1YmJsaW5nTW91c2VFdmVudHMiOiB0cnVlLAogICJjb2xvciI6ICJibHVlIiwKICAiZGFzaEFycmF5IjogbnVsbCwKICAiZGFzaE9mZnNldCI6IG51bGwsCiAgImZpbGwiOiB0cnVlLAogICJmaWxsQ29sb3IiOiAiIzMxODZjYyIsCiAgImZpbGxPcGFjaXR5IjogMC43LAogICJmaWxsUnVsZSI6ICJldmVub2RkIiwKICAibGluZUNhcCI6ICJyb3VuZCIsCiAgImxpbmVKb2luIjogInJvdW5kIiwKICAib3BhY2l0eSI6IDEuMCwKICAicmFkaXVzIjogNSwKICAic3Ryb2tlIjogdHJ1ZSwKICAid2VpZ2h0IjogMwp9CiAgICAgICAgICAgICAgICApLmFkZFRvKG1hcF9jMjMzMzg4YzQ2MGQ0NjlhYWRlMDE5YzY4ZDRmMjc2ZCk7CiAgICAgICAgICAgIAogICAgCiAgICAgICAgICAgIHZhciBwb3B1cF82YzNmYTlhOGFlMGY0MGE0YjZlMWU3YmQ5MWViNThjZiA9IEwucG9wdXAoe21heFdpZHRoOiAnMzAwJ30pOwoKICAgICAgICAgICAgCiAgICAgICAgICAgICAgICB2YXIgaHRtbF9kOGVhZDQ4NWExZDA0ZmZjOTczOWNmY2RiZjViZWE2MSA9ICQoJzxkaXYgaWQ9Imh0bWxfZDhlYWQ0ODVhMWQwNGZmYzk3MzljZmNkYmY1YmVhNjEiIHN0eWxlPSJ3aWR0aDogMTAwLjAlOyBoZWlnaHQ6IDEwMC4wJTsiPk5ld3RvbmJyb29rLCBXaWxsb3dkYWxlIC0gTm9ydGggWW9yazwvZGl2PicpWzBdOwogICAgICAgICAgICAgICAgcG9wdXBfNmMzZmE5YThhZTBmNDBhNGI2ZTFlN2JkOTFlYjU4Y2Yuc2V0Q29udGVudChodG1sX2Q4ZWFkNDg1YTFkMDRmZmM5NzM5Y2ZjZGJmNWJlYTYxKTsKICAgICAgICAgICAgCgogICAgICAgICAgICBjaXJjbGVfbWFya2VyXzI2ODZmZGRkZWExMTQwY2M4ZWEzZjY5YmYxNmI5NzA4LmJpbmRQb3B1cChwb3B1cF82YzNmYTlhOGFlMGY0MGE0YjZlMWU3YmQ5MWViNThjZik7CgogICAgICAgICAgICAKICAgICAgICAKICAgIAogICAgICAgICAgICB2YXIgY2lyY2xlX21hcmtlcl84NzRhODA1NjQ0NGU0OGZlOWM4YjI2YTk5YTlhMDFmMyA9IEwuY2lyY2xlTWFya2VyKAogICAgICAgICAgICAgICAgWzQzLjY3MjcwOTcsLTc5LjQwNTY3ODQwMDAwMDAxXSwKICAgICAgICAgICAgICAgIHsKICAiYnViYmxpbmdNb3VzZUV2ZW50cyI6IHRydWUsCiAgImNvbG9yIjogImJsdWUiLAogICJkYXNoQXJyYXkiOiBudWxsLAogICJkYXNoT2Zmc2V0IjogbnVsbCwKICAiZmlsbCI6IHRydWUsCiAgImZpbGxDb2xvciI6ICIjMzE4NmNjIiwKICAiZmlsbE9wYWNpdHkiOiAwLjcsCiAgImZpbGxSdWxlIjogImV2ZW5vZGQiLAogICJsaW5lQ2FwIjogInJvdW5kIiwKICAibGluZUpvaW4iOiAicm91bmQiLAogICJvcGFjaXR5IjogMS4wLAogICJyYWRpdXMiOiA1LAogICJzdHJva2UiOiB0cnVlLAogICJ3ZWlnaHQiOiAzCn0KICAgICAgICAgICAgICAgICkuYWRkVG8obWFwX2MyMzMzODhjNDYwZDQ2OWFhZGUwMTljNjhkNGYyNzZkKTsKICAgICAgICAgICAgCiAgICAKICAgICAgICAgICAgdmFyIHBvcHVwXzZmNWI1NzdmMmE3MDQ5NjA4MTM5Y2YzODkzODljYWU1ID0gTC5wb3B1cCh7bWF4V2lkdGg6ICczMDAnfSk7CgogICAgICAgICAgICAKICAgICAgICAgICAgICAgIHZhciBodG1sX2Q0NmQ2MmQ0MDU0ZjRhYmNhMjEzYmU4ZDFiNjg0ODZmID0gJCgnPGRpdiBpZD0iaHRtbF9kNDZkNjJkNDA1NGY0YWJjYTIxM2JlOGQxYjY4NDg2ZiIgc3R5bGU9IndpZHRoOiAxMDAuMCU7IGhlaWdodDogMTAwLjAlOyI+Tm9ydGggTWlkdG93biwgVGhlIEFubmV4LCBZb3JrdmlsbGUgLSBDZW50cmFsIFRvcm9udG88L2Rpdj4nKVswXTsKICAgICAgICAgICAgICAgIHBvcHVwXzZmNWI1NzdmMmE3MDQ5NjA4MTM5Y2YzODkzODljYWU1LnNldENvbnRlbnQoaHRtbF9kNDZkNjJkNDA1NGY0YWJjYTIxM2JlOGQxYjY4NDg2Zik7CiAgICAgICAgICAgIAoKICAgICAgICAgICAgY2lyY2xlX21hcmtlcl84NzRhODA1NjQ0NGU0OGZlOWM4YjI2YTk5YTlhMDFmMy5iaW5kUG9wdXAocG9wdXBfNmY1YjU3N2YyYTcwNDk2MDgxMzljZjM4OTM4OWNhZTUpOwoKICAgICAgICAgICAgCiAgICAgICAgCiAgICAKICAgICAgICAgICAgdmFyIGNpcmNsZV9tYXJrZXJfNjBiNjVhOTA0YjU1NGJkZjkzNzFjN2YzMzNiYWJlZjYgPSBMLmNpcmNsZU1hcmtlcigKICAgICAgICAgICAgICAgIFs0My42NjIzMDE1LC03OS4zODk0OTM4XSwKICAgICAgICAgICAgICAgIHsKICAiYnViYmxpbmdNb3VzZUV2ZW50cyI6IHRydWUsCiAgImNvbG9yIjogImJsdWUiLAogICJkYXNoQXJyYXkiOiBudWxsLAogICJkYXNoT2Zmc2V0IjogbnVsbCwKICAiZmlsbCI6IHRydWUsCiAgImZpbGxDb2xvciI6ICIjMzE4NmNjIiwKICAiZmlsbE9wYWNpdHkiOiAwLjcsCiAgImZpbGxSdWxlIjogImV2ZW5vZGQiLAogICJsaW5lQ2FwIjogInJvdW5kIiwKICAibGluZUpvaW4iOiAicm91bmQiLAogICJvcGFjaXR5IjogMS4wLAogICJyYWRpdXMiOiA1LAogICJzdHJva2UiOiB0cnVlLAogICJ3ZWlnaHQiOiAzCn0KICAgICAgICAgICAgICAgICkuYWRkVG8obWFwX2MyMzMzODhjNDYwZDQ2OWFhZGUwMTljNjhkNGYyNzZkKTsKICAgICAgICAgICAgCiAgICAKICAgICAgICAgICAgdmFyIHBvcHVwXzZhMWE4NzVmNTk2ZTQ4NjViNjNhMjMxMTZhOTUzNWI5ID0gTC5wb3B1cCh7bWF4V2lkdGg6ICczMDAnfSk7CgogICAgICAgICAgICAKICAgICAgICAgICAgICAgIHZhciBodG1sXzVhZGU4ZWE4NmI4OTQzODFiYjE1YTNhOWVjYmVmMTAwID0gJCgnPGRpdiBpZD0iaHRtbF81YWRlOGVhODZiODk0MzgxYmIxNWEzYTllY2JlZjEwMCIgc3R5bGU9IndpZHRoOiAxMDAuMCU7IGhlaWdodDogMTAwLjAlOyI+UXVlZW4mIzM5O3MgUGFyayAtIFF1ZWVuJiMzOTtzIFBhcms8L2Rpdj4nKVswXTsKICAgICAgICAgICAgICAgIHBvcHVwXzZhMWE4NzVmNTk2ZTQ4NjViNjNhMjMxMTZhOTUzNWI5LnNldENvbnRlbnQoaHRtbF81YWRlOGVhODZiODk0MzgxYmIxNWEzYTllY2JlZjEwMCk7CiAgICAgICAgICAgIAoKICAgICAgICAgICAgY2lyY2xlX21hcmtlcl82MGI2NWE5MDRiNTU0YmRmOTM3MWM3ZjMzM2JhYmVmNi5iaW5kUG9wdXAocG9wdXBfNmExYTg3NWY1OTZlNDg2NWI2M2EyMzExNmE5NTM1YjkpOwoKICAgICAgICAgICAgCiAgICAgICAgCiAgICAKICAgICAgICAgICAgdmFyIGNpcmNsZV9tYXJrZXJfYTg4ZTNlNGMwNTE2NDkwMTk4Njg4ODU3NzgyZTgwNjQgPSBMLmNpcmNsZU1hcmtlcigKICAgICAgICAgICAgICAgIFs0My42Nzk1NTcxLC03OS4zNTIxODhdLAogICAgICAgICAgICAgICAgewogICJidWJibGluZ01vdXNlRXZlbnRzIjogdHJ1ZSwKICAiY29sb3IiOiAiYmx1ZSIsCiAgImRhc2hBcnJheSI6IG51bGwsCiAgImRhc2hPZmZzZXQiOiBudWxsLAogICJmaWxsIjogdHJ1ZSwKICAiZmlsbENvbG9yIjogIiMzMTg2Y2MiLAogICJmaWxsT3BhY2l0eSI6IDAuNywKICAiZmlsbFJ1bGUiOiAiZXZlbm9kZCIsCiAgImxpbmVDYXAiOiAicm91bmQiLAogICJsaW5lSm9pbiI6ICJyb3VuZCIsCiAgIm9wYWNpdHkiOiAxLjAsCiAgInJhZGl1cyI6IDUsCiAgInN0cm9rZSI6IHRydWUsCiAgIndlaWdodCI6IDMKfQogICAgICAgICAgICAgICAgKS5hZGRUbyhtYXBfYzIzMzM4OGM0NjBkNDY5YWFkZTAxOWM2OGQ0ZjI3NmQpOwogICAgICAgICAgICAKICAgIAogICAgICAgICAgICB2YXIgcG9wdXBfNmMyMWNkMjRlYjgwNDIxOWFkZTI1ZjJlZTMzNjM4OTQgPSBMLnBvcHVwKHttYXhXaWR0aDogJzMwMCd9KTsKCiAgICAgICAgICAgIAogICAgICAgICAgICAgICAgdmFyIGh0bWxfNDFmZjlmYWQyNDM1NDY3YmEzYjc4MGU4MTk0YTM0ZjggPSAkKCc8ZGl2IGlkPSJodG1sXzQxZmY5ZmFkMjQzNTQ2N2JhM2I3ODBlODE5NGEzNGY4IiBzdHlsZT0id2lkdGg6IDEwMC4wJTsgaGVpZ2h0OiAxMDAuMCU7Ij5SaXZlcmRhbGUsIFRoZSBEYW5mb3J0aCBXZXN0IC0gRWFzdCBUb3JvbnRvPC9kaXY+JylbMF07CiAgICAgICAgICAgICAgICBwb3B1cF82YzIxY2QyNGViODA0MjE5YWRlMjVmMmVlMzM2Mzg5NC5zZXRDb250ZW50KGh0bWxfNDFmZjlmYWQyNDM1NDY3YmEzYjc4MGU4MTk0YTM0ZjgpOwogICAgICAgICAgICAKCiAgICAgICAgICAgIGNpcmNsZV9tYXJrZXJfYTg4ZTNlNGMwNTE2NDkwMTk4Njg4ODU3NzgyZTgwNjQuYmluZFBvcHVwKHBvcHVwXzZjMjFjZDI0ZWI4MDQyMTlhZGUyNWYyZWUzMzYzODk0KTsKCiAgICAgICAgICAgIAogICAgICAgIAogICAgCiAgICAgICAgICAgIHZhciBjaXJjbGVfbWFya2VyXzQwYjNmZWY2MTQzZjQ1ODNhMjQwNTkwZWE1YTZhN2IxID0gTC5jaXJjbGVNYXJrZXIoCiAgICAgICAgICAgICAgICBbNDMuNjUxNTcwNiwtNzkuNDg0NDQ5OV0sCiAgICAgICAgICAgICAgICB7CiAgImJ1YmJsaW5nTW91c2VFdmVudHMiOiB0cnVlLAogICJjb2xvciI6ICJibHVlIiwKICAiZGFzaEFycmF5IjogbnVsbCwKICAiZGFzaE9mZnNldCI6IG51bGwsCiAgImZpbGwiOiB0cnVlLAogICJmaWxsQ29sb3IiOiAiIzMxODZjYyIsCiAgImZpbGxPcGFjaXR5IjogMC43LAogICJmaWxsUnVsZSI6ICJldmVub2RkIiwKICAibGluZUNhcCI6ICJyb3VuZCIsCiAgImxpbmVKb2luIjogInJvdW5kIiwKICAib3BhY2l0eSI6IDEuMCwKICAicmFkaXVzIjogNSwKICAic3Ryb2tlIjogdHJ1ZSwKICAid2VpZ2h0IjogMwp9CiAgICAgICAgICAgICAgICApLmFkZFRvKG1hcF9jMjMzMzg4YzQ2MGQ0NjlhYWRlMDE5YzY4ZDRmMjc2ZCk7CiAgICAgICAgICAgIAogICAgCiAgICAgICAgICAgIHZhciBwb3B1cF9lNWY3Yjg2MjI2MWQ0MzBlYjViZTliNDNlY2RhNDAxZSA9IEwucG9wdXAoe21heFdpZHRoOiAnMzAwJ30pOwoKICAgICAgICAgICAgCiAgICAgICAgICAgICAgICB2YXIgaHRtbF83YmVhYTIxYzY2MzA0NDZmYTMyMTlmMDc4Y2I0NGVlOCA9ICQoJzxkaXYgaWQ9Imh0bWxfN2JlYWEyMWM2NjMwNDQ2ZmEzMjE5ZjA3OGNiNDRlZTgiIHN0eWxlPSJ3aWR0aDogMTAwLjAlOyBoZWlnaHQ6IDEwMC4wJTsiPlJ1bm55bWVkZSwgU3dhbnNlYSAtIFdlc3QgVG9yb250bzwvZGl2PicpWzBdOwogICAgICAgICAgICAgICAgcG9wdXBfZTVmN2I4NjIyNjFkNDMwZWI1YmU5YjQzZWNkYTQwMWUuc2V0Q29udGVudChodG1sXzdiZWFhMjFjNjYzMDQ0NmZhMzIxOWYwNzhjYjQ0ZWU4KTsKICAgICAgICAgICAgCgogICAgICAgICAgICBjaXJjbGVfbWFya2VyXzQwYjNmZWY2MTQzZjQ1ODNhMjQwNTkwZWE1YTZhN2IxLmJpbmRQb3B1cChwb3B1cF9lNWY3Yjg2MjI2MWQ0MzBlYjViZTliNDNlY2RhNDAxZSk7CgogICAgICAgICAgICAKICAgICAgICAKICAgIAogICAgICAgICAgICB2YXIgY2lyY2xlX21hcmtlcl80MzYyZWQwYWNmYmQ0NjM0YjIxZjIxM2Y5MDM4NDlkZSA9IEwuY2lyY2xlTWFya2VyKAogICAgICAgICAgICAgICAgWzQzLjY3MzE4NTI5OTk5OTk5LC03OS40ODcyNjE5MDAwMDAwMV0sCiAgICAgICAgICAgICAgICB7CiAgImJ1YmJsaW5nTW91c2VFdmVudHMiOiB0cnVlLAogICJjb2xvciI6ICJibHVlIiwKICAiZGFzaEFycmF5IjogbnVsbCwKICAiZGFzaE9mZnNldCI6IG51bGwsCiAgImZpbGwiOiB0cnVlLAogICJmaWxsQ29sb3IiOiAiIzMxODZjYyIsCiAgImZpbGxPcGFjaXR5IjogMC43LAogICJmaWxsUnVsZSI6ICJldmVub2RkIiwKICAibGluZUNhcCI6ICJyb3VuZCIsCiAgImxpbmVKb2luIjogInJvdW5kIiwKICAib3BhY2l0eSI6IDEuMCwKICAicmFkaXVzIjogNSwKICAic3Ryb2tlIjogdHJ1ZSwKICAid2VpZ2h0IjogMwp9CiAgICAgICAgICAgICAgICApLmFkZFRvKG1hcF9jMjMzMzg4YzQ2MGQ0NjlhYWRlMDE5YzY4ZDRmMjc2ZCk7CiAgICAgICAgICAgIAogICAgCiAgICAgICAgICAgIHZhciBwb3B1cF83ODA4ZTU5YWZkZTk0NjQ2YTZmZmE4MTg2NWE4OTc1MiA9IEwucG9wdXAoe21heFdpZHRoOiAnMzAwJ30pOwoKICAgICAgICAgICAgCiAgICAgICAgICAgICAgICB2YXIgaHRtbF9kOTFiOWVmN2E0NmE0OGRjODdkYWVhMGI5NjFiYjFkMyA9ICQoJzxkaXYgaWQ9Imh0bWxfZDkxYjllZjdhNDZhNDhkYzg3ZGFlYTBiOTYxYmIxZDMiIHN0eWxlPSJ3aWR0aDogMTAwLjAlOyBoZWlnaHQ6IDEwMC4wJTsiPlJ1bm55bWVkZSwgVGhlIEp1bmN0aW9uIE5vcnRoIC0gWW9yazwvZGl2PicpWzBdOwogICAgICAgICAgICAgICAgcG9wdXBfNzgwOGU1OWFmZGU5NDY0NmE2ZmZhODE4NjVhODk3NTIuc2V0Q29udGVudChodG1sX2Q5MWI5ZWY3YTQ2YTQ4ZGM4N2RhZWEwYjk2MWJiMWQzKTsKICAgICAgICAgICAgCgogICAgICAgICAgICBjaXJjbGVfbWFya2VyXzQzNjJlZDBhY2ZiZDQ2MzRiMjFmMjEzZjkwMzg0OWRlLmJpbmRQb3B1cChwb3B1cF83ODA4ZTU5YWZkZTk0NjQ2YTZmZmE4MTg2NWE4OTc1Mik7CgogICAgICAgICAgICAKICAgICAgICAKICAgIAogICAgICAgICAgICB2YXIgY2lyY2xlX21hcmtlcl84MGVmNTY4ODc1Zjg0YjMxYTk0ZDEzNGVjMDcxZTkwMyA9IEwuY2lyY2xlTWFya2VyKAogICAgICAgICAgICAgICAgWzQzLjY3NjM1NzM5OTk5OTk5LC03OS4yOTMwMzEyXSwKICAgICAgICAgICAgICAgIHsKICAiYnViYmxpbmdNb3VzZUV2ZW50cyI6IHRydWUsCiAgImNvbG9yIjogImJsdWUiLAogICJkYXNoQXJyYXkiOiBudWxsLAogICJkYXNoT2Zmc2V0IjogbnVsbCwKICAiZmlsbCI6IHRydWUsCiAgImZpbGxDb2xvciI6ICIjMzE4NmNjIiwKICAiZmlsbE9wYWNpdHkiOiAwLjcsCiAgImZpbGxSdWxlIjogImV2ZW5vZGQiLAogICJsaW5lQ2FwIjogInJvdW5kIiwKICAibGluZUpvaW4iOiAicm91bmQiLAogICJvcGFjaXR5IjogMS4wLAogICJyYWRpdXMiOiA1LAogICJzdHJva2UiOiB0cnVlLAogICJ3ZWlnaHQiOiAzCn0KICAgICAgICAgICAgICAgICkuYWRkVG8obWFwX2MyMzMzODhjNDYwZDQ2OWFhZGUwMTljNjhkNGYyNzZkKTsKICAgICAgICAgICAgCiAgICAKICAgICAgICAgICAgdmFyIHBvcHVwX2IyZDg5MzVlM2EyMzQzNDc4MjQzMmI2Mjc2YmJlYmY5ID0gTC5wb3B1cCh7bWF4V2lkdGg6ICczMDAnfSk7CgogICAgICAgICAgICAKICAgICAgICAgICAgICAgIHZhciBodG1sX2FmZjdkNzFmODE3YTQwNDA5Njk0NzgyZjZlODE0ZGRkID0gJCgnPGRpdiBpZD0iaHRtbF9hZmY3ZDcxZjgxN2E0MDQwOTY5NDc4MmY2ZTgxNGRkZCIgc3R5bGU9IndpZHRoOiAxMDAuMCU7IGhlaWdodDogMTAwLjAlOyI+VGhlIEJlYWNoZXMgLSBFYXN0IFRvcm9udG88L2Rpdj4nKVswXTsKICAgICAgICAgICAgICAgIHBvcHVwX2IyZDg5MzVlM2EyMzQzNDc4MjQzMmI2Mjc2YmJlYmY5LnNldENvbnRlbnQoaHRtbF9hZmY3ZDcxZjgxN2E0MDQwOTY5NDc4MmY2ZTgxNGRkZCk7CiAgICAgICAgICAgIAoKICAgICAgICAgICAgY2lyY2xlX21hcmtlcl84MGVmNTY4ODc1Zjg0YjMxYTk0ZDEzNGVjMDcxZTkwMy5iaW5kUG9wdXAocG9wdXBfYjJkODkzNWUzYTIzNDM0NzgyNDMyYjYyNzZiYmViZjkpOwoKICAgICAgICAgICAgCiAgICAgICAgCiAgICAKICAgICAgICAgICAgdmFyIGNpcmNsZV9tYXJrZXJfNmYyOTY2ZmU5MmRlNGNhYzk3YmEzYjQwMTNhYTIxZGMgPSBMLmNpcmNsZU1hcmtlcigKICAgICAgICAgICAgICAgIFs0My43MDUzNjg5LC03OS4zNDkzNzE5MDAwMDAwMV0sCiAgICAgICAgICAgICAgICB7CiAgImJ1YmJsaW5nTW91c2VFdmVudHMiOiB0cnVlLAogICJjb2xvciI6ICJibHVlIiwKICAiZGFzaEFycmF5IjogbnVsbCwKICAiZGFzaE9mZnNldCI6IG51bGwsCiAgImZpbGwiOiB0cnVlLAogICJmaWxsQ29sb3IiOiAiIzMxODZjYyIsCiAgImZpbGxPcGFjaXR5IjogMC43LAogICJmaWxsUnVsZSI6ICJldmVub2RkIiwKICAibGluZUNhcCI6ICJyb3VuZCIsCiAgImxpbmVKb2luIjogInJvdW5kIiwKICAib3BhY2l0eSI6IDEuMCwKICAicmFkaXVzIjogNSwKICAic3Ryb2tlIjogdHJ1ZSwKICAid2VpZ2h0IjogMwp9CiAgICAgICAgICAgICAgICApLmFkZFRvKG1hcF9jMjMzMzg4YzQ2MGQ0NjlhYWRlMDE5YzY4ZDRmMjc2ZCk7CiAgICAgICAgICAgIAogICAgCiAgICAgICAgICAgIHZhciBwb3B1cF9hYjM0OTA1MGNmNDI0YjUxOWViNDVjMWUzODQ2MTUwYiA9IEwucG9wdXAoe21heFdpZHRoOiAnMzAwJ30pOwoKICAgICAgICAgICAgCiAgICAgICAgICAgICAgICB2YXIgaHRtbF82OGFiMDg2OTEwYWI0MDg3YTQzMDZhNTI1YzJmZWEyMCA9ICQoJzxkaXYgaWQ9Imh0bWxfNjhhYjA4NjkxMGFiNDA4N2E0MzA2YTUyNWMyZmVhMjAiIHN0eWxlPSJ3aWR0aDogMTAwLjAlOyBoZWlnaHQ6IDEwMC4wJTsiPlRob3JuY2xpZmZlIFBhcmsgLSBFYXN0IFlvcms8L2Rpdj4nKVswXTsKICAgICAgICAgICAgICAgIHBvcHVwX2FiMzQ5MDUwY2Y0MjRiNTE5ZWI0NWMxZTM4NDYxNTBiLnNldENvbnRlbnQoaHRtbF82OGFiMDg2OTEwYWI0MDg3YTQzMDZhNTI1YzJmZWEyMCk7CiAgICAgICAgICAgIAoKICAgICAgICAgICAgY2lyY2xlX21hcmtlcl82ZjI5NjZmZTkyZGU0Y2FjOTdiYTNiNDAxM2FhMjFkYy5iaW5kUG9wdXAocG9wdXBfYWIzNDkwNTBjZjQyNGI1MTllYjQ1YzFlMzg0NjE1MGIpOwoKICAgICAgICAgICAgCiAgICAgICAgCiAgICAKICAgICAgICAgICAgdmFyIGNpcmNsZV9tYXJrZXJfMWQwYjQ4NjFiNjlmNGFlZGFmMjcxMTU5Njk2MDgxYjggPSBMLmNpcmNsZU1hcmtlcigKICAgICAgICAgICAgICAgIFs0My43NzA5OTIxLC03OS4yMTY5MTc0MDAwMDAwMV0sCiAgICAgICAgICAgICAgICB7CiAgImJ1YmJsaW5nTW91c2VFdmVudHMiOiB0cnVlLAogICJjb2xvciI6ICJibHVlIiwKICAiZGFzaEFycmF5IjogbnVsbCwKICAiZGFzaE9mZnNldCI6IG51bGwsCiAgImZpbGwiOiB0cnVlLAogICJmaWxsQ29sb3IiOiAiIzMxODZjYyIsCiAgImZpbGxPcGFjaXR5IjogMC43LAogICJmaWxsUnVsZSI6ICJldmVub2RkIiwKICAibGluZUNhcCI6ICJyb3VuZCIsCiAgImxpbmVKb2luIjogInJvdW5kIiwKICAib3BhY2l0eSI6IDEuMCwKICAicmFkaXVzIjogNSwKICAic3Ryb2tlIjogdHJ1ZSwKICAid2VpZ2h0IjogMwp9CiAgICAgICAgICAgICAgICApLmFkZFRvKG1hcF9jMjMzMzg4YzQ2MGQ0NjlhYWRlMDE5YzY4ZDRmMjc2ZCk7CiAgICAgICAgICAgIAogICAgCiAgICAgICAgICAgIHZhciBwb3B1cF8wZjZjMjNjNjkyMmY0ZDNhOGQ0MmMwZDhlNjhjZmU0NiA9IEwucG9wdXAoe21heFdpZHRoOiAnMzAwJ30pOwoKICAgICAgICAgICAgCiAgICAgICAgICAgICAgICB2YXIgaHRtbF84MGViZjhjYTNiYTQ0NGM0YWMxNjhiNzk1YjFiOTljMyA9ICQoJzxkaXYgaWQ9Imh0bWxfODBlYmY4Y2EzYmE0NDRjNGFjMTY4Yjc5NWIxYjk5YzMiIHN0eWxlPSJ3aWR0aDogMTAwLjAlOyBoZWlnaHQ6IDEwMC4wJTsiPldvYnVybiAtIFNjYXJib3JvdWdoPC9kaXY+JylbMF07CiAgICAgICAgICAgICAgICBwb3B1cF8wZjZjMjNjNjkyMmY0ZDNhOGQ0MmMwZDhlNjhjZmU0Ni5zZXRDb250ZW50KGh0bWxfODBlYmY4Y2EzYmE0NDRjNGFjMTY4Yjc5NWIxYjk5YzMpOwogICAgICAgICAgICAKCiAgICAgICAgICAgIGNpcmNsZV9tYXJrZXJfMWQwYjQ4NjFiNjlmNGFlZGFmMjcxMTU5Njk2MDgxYjguYmluZFBvcHVwKHBvcHVwXzBmNmMyM2M2OTIyZjRkM2E4ZDQyYzBkOGU2OGNmZTQ2KTsKCiAgICAgICAgICAgIAogICAgICAgIAo8L3NjcmlwdD4=\" style=\"position:absolute;width:100%;height:100%;left:0;top:0;border:none !important;\" allowfullscreen webkitallowfullscreen mozallowfullscreen></iframe></div></div>"
      ],
      "text/plain": [
       "<folium.folium.Map at 0x1c112fba8d0>"
      ]
     },
     "execution_count": 97,
     "metadata": {},
     "output_type": "execute_result"
    }
   ],
   "source": [
    "# create map and display it\n",
    "map_toronto = folium.Map(location=[43.6532, -79.3831843], zoom_start=12)\n",
    "\n",
    "# add markers to map\n",
    "for lat, lng, borough, neighborhood in zip(Toronto_neighborhood_stats['Latitude'], Toronto_neighborhood_stats['Longitude'], Toronto_neighborhood_stats['Borough'], Toronto_neighborhood_stats['Neighborhood']):\n",
    "    label = '{} - {}'.format(neighborhood, borough)\n",
    "    label = folium.Popup(label, parse_html=True)\n",
    "    folium.CircleMarker(\n",
    "        [lat, lng],\n",
    "        radius=5,\n",
    "        popup=label,\n",
    "        color='blue',\n",
    "        fill=True,\n",
    "        fill_color='#3186cc',\n",
    "        fill_opacity=0.7,\n",
    "        parse_html=False).add_to(map_toronto)  \n",
    "    \n",
    "map_toronto"
   ]
  },
  {
   "cell_type": "code",
   "execution_count": null,
   "metadata": {},
   "outputs": [],
   "source": []
  },
  {
   "cell_type": "markdown",
   "metadata": {},
   "source": [
    "We will consider all the neighborhoods with average rating greater or equal 7.5 to visualize on map"
   ]
  },
  {
   "cell_type": "code",
   "execution_count": 99,
   "metadata": {},
   "outputs": [],
   "source": [
    "Toronto_neighborhood_stats=Toronto_neighborhood_stats[Toronto_neighborhood_stats['Average Rating']>=7.5]"
   ]
  },
  {
   "cell_type": "code",
   "execution_count": 82,
   "metadata": {},
   "outputs": [
    {
     "data": {
      "text/html": [
       "<div>\n",
       "<style scoped>\n",
       "    .dataframe tbody tr th:only-of-type {\n",
       "        vertical-align: middle;\n",
       "    }\n",
       "\n",
       "    .dataframe tbody tr th {\n",
       "        vertical-align: top;\n",
       "    }\n",
       "\n",
       "    .dataframe thead th {\n",
       "        text-align: right;\n",
       "    }\n",
       "</style>\n",
       "<table border=\"1\" class=\"dataframe\">\n",
       "  <thead>\n",
       "    <tr style=\"text-align: right;\">\n",
       "      <th></th>\n",
       "      <th>Neighborhood</th>\n",
       "      <th>Average Rating</th>\n",
       "    </tr>\n",
       "  </thead>\n",
       "  <tbody>\n",
       "    <tr>\n",
       "      <th>0</th>\n",
       "      <td>Agincourt</td>\n",
       "      <td>7.50</td>\n",
       "    </tr>\n",
       "    <tr>\n",
       "      <th>2</th>\n",
       "      <td>Brockton, Exhibition Place, Parkdale Village</td>\n",
       "      <td>8.05</td>\n",
       "    </tr>\n",
       "    <tr>\n",
       "      <th>3</th>\n",
       "      <td>Cabbagetown, St. James Town</td>\n",
       "      <td>8.50</td>\n",
       "    </tr>\n",
       "    <tr>\n",
       "      <th>6</th>\n",
       "      <td>Chinatown, Grange Park, Kensington Market</td>\n",
       "      <td>8.20</td>\n",
       "    </tr>\n",
       "    <tr>\n",
       "      <th>7</th>\n",
       "      <td>Christie</td>\n",
       "      <td>8.50</td>\n",
       "    </tr>\n",
       "    <tr>\n",
       "      <th>8</th>\n",
       "      <td>Church and Wellesley</td>\n",
       "      <td>8.20</td>\n",
       "    </tr>\n",
       "    <tr>\n",
       "      <th>13</th>\n",
       "      <td>Harbourfront East, Toronto Islands, Union Station</td>\n",
       "      <td>7.50</td>\n",
       "    </tr>\n",
       "    <tr>\n",
       "      <th>15</th>\n",
       "      <td>High Park, The Junction South</td>\n",
       "      <td>8.30</td>\n",
       "    </tr>\n",
       "    <tr>\n",
       "      <th>19</th>\n",
       "      <td>Maryvale, Wexford</td>\n",
       "      <td>7.80</td>\n",
       "    </tr>\n",
       "    <tr>\n",
       "      <th>22</th>\n",
       "      <td>North Midtown, The Annex, Yorkville</td>\n",
       "      <td>7.95</td>\n",
       "    </tr>\n",
       "    <tr>\n",
       "      <th>23</th>\n",
       "      <td>Queen's Park</td>\n",
       "      <td>8.20</td>\n",
       "    </tr>\n",
       "  </tbody>\n",
       "</table>\n",
       "</div>"
      ],
      "text/plain": [
       "                                         Neighborhood  Average Rating\n",
       "0                                           Agincourt            7.50\n",
       "2        Brockton, Exhibition Place, Parkdale Village            8.05\n",
       "3                         Cabbagetown, St. James Town            8.50\n",
       "6           Chinatown, Grange Park, Kensington Market            8.20\n",
       "7                                            Christie            8.50\n",
       "8                                Church and Wellesley            8.20\n",
       "13  Harbourfront East, Toronto Islands, Union Station            7.50\n",
       "15                      High Park, The Junction South            8.30\n",
       "19                                  Maryvale, Wexford            7.80\n",
       "22                North Midtown, The Annex, Yorkville            7.95\n",
       "23                                       Queen's Park            8.20"
      ]
     },
     "execution_count": 82,
     "metadata": {},
     "output_type": "execute_result"
    }
   ],
   "source": [
    "Toronto_neighborhood_stats"
   ]
  },
  {
   "cell_type": "markdown",
   "metadata": {},
   "source": [
    "We will join this dataset to original Toronto data to get lonitude and latitude"
   ]
  },
  {
   "cell_type": "code",
   "execution_count": 83,
   "metadata": {},
   "outputs": [],
   "source": [
    "Toronto_neighborhood_stats=pd.merge(Toronto_neighborhood_stats,df_new, on='Neighborhood')"
   ]
  },
  {
   "cell_type": "code",
   "execution_count": 79,
   "metadata": {},
   "outputs": [],
   "source": [
    "Toronto_neighborhood_stats.drop(['Latitude_y','Longitude_y'],inplace = True,axis = 1)"
   ]
  },
  {
   "cell_type": "code",
   "execution_count": 81,
   "metadata": {},
   "outputs": [],
   "source": [
    "Toronto_neighborhood_stats = Toronto_neighborhood_stats.rename(columns = {\"Latitude_x\": \"Latitude\", \"Longitude_x\":\"Longitude\"})"
   ]
  },
  {
   "cell_type": "code",
   "execution_count": 84,
   "metadata": {},
   "outputs": [
    {
     "data": {
      "text/html": [
       "<div>\n",
       "<style scoped>\n",
       "    .dataframe tbody tr th:only-of-type {\n",
       "        vertical-align: middle;\n",
       "    }\n",
       "\n",
       "    .dataframe tbody tr th {\n",
       "        vertical-align: top;\n",
       "    }\n",
       "\n",
       "    .dataframe thead th {\n",
       "        text-align: right;\n",
       "    }\n",
       "</style>\n",
       "<table border=\"1\" class=\"dataframe\">\n",
       "  <thead>\n",
       "    <tr style=\"text-align: right;\">\n",
       "      <th></th>\n",
       "      <th>Neighborhood</th>\n",
       "      <th>Average Rating</th>\n",
       "      <th>PostalCode</th>\n",
       "      <th>Borough</th>\n",
       "      <th>Latitude</th>\n",
       "      <th>Longitude</th>\n",
       "    </tr>\n",
       "  </thead>\n",
       "  <tbody>\n",
       "    <tr>\n",
       "      <th>0</th>\n",
       "      <td>Agincourt</td>\n",
       "      <td>7.50</td>\n",
       "      <td>M1S</td>\n",
       "      <td>Scarborough</td>\n",
       "      <td>43.794200</td>\n",
       "      <td>-79.262029</td>\n",
       "    </tr>\n",
       "    <tr>\n",
       "      <th>1</th>\n",
       "      <td>Brockton, Exhibition Place, Parkdale Village</td>\n",
       "      <td>8.05</td>\n",
       "      <td>M6K</td>\n",
       "      <td>West Toronto</td>\n",
       "      <td>43.636847</td>\n",
       "      <td>-79.428191</td>\n",
       "    </tr>\n",
       "    <tr>\n",
       "      <th>2</th>\n",
       "      <td>Cabbagetown, St. James Town</td>\n",
       "      <td>8.50</td>\n",
       "      <td>M4X</td>\n",
       "      <td>Downtown Toronto</td>\n",
       "      <td>43.667967</td>\n",
       "      <td>-79.367675</td>\n",
       "    </tr>\n",
       "    <tr>\n",
       "      <th>3</th>\n",
       "      <td>Chinatown, Grange Park, Kensington Market</td>\n",
       "      <td>8.20</td>\n",
       "      <td>M5T</td>\n",
       "      <td>Downtown Toronto</td>\n",
       "      <td>43.653206</td>\n",
       "      <td>-79.400049</td>\n",
       "    </tr>\n",
       "    <tr>\n",
       "      <th>4</th>\n",
       "      <td>Christie</td>\n",
       "      <td>8.50</td>\n",
       "      <td>M6G</td>\n",
       "      <td>Downtown Toronto</td>\n",
       "      <td>43.669542</td>\n",
       "      <td>-79.422564</td>\n",
       "    </tr>\n",
       "    <tr>\n",
       "      <th>5</th>\n",
       "      <td>Church and Wellesley</td>\n",
       "      <td>8.20</td>\n",
       "      <td>M4Y</td>\n",
       "      <td>Downtown Toronto</td>\n",
       "      <td>43.665860</td>\n",
       "      <td>-79.383160</td>\n",
       "    </tr>\n",
       "    <tr>\n",
       "      <th>6</th>\n",
       "      <td>Harbourfront East, Toronto Islands, Union Station</td>\n",
       "      <td>7.50</td>\n",
       "      <td>M5J</td>\n",
       "      <td>Downtown Toronto</td>\n",
       "      <td>43.640816</td>\n",
       "      <td>-79.381752</td>\n",
       "    </tr>\n",
       "    <tr>\n",
       "      <th>7</th>\n",
       "      <td>High Park, The Junction South</td>\n",
       "      <td>8.30</td>\n",
       "      <td>M6P</td>\n",
       "      <td>West Toronto</td>\n",
       "      <td>43.661608</td>\n",
       "      <td>-79.464763</td>\n",
       "    </tr>\n",
       "    <tr>\n",
       "      <th>8</th>\n",
       "      <td>Maryvale, Wexford</td>\n",
       "      <td>7.80</td>\n",
       "      <td>M1R</td>\n",
       "      <td>Scarborough</td>\n",
       "      <td>43.750072</td>\n",
       "      <td>-79.295849</td>\n",
       "    </tr>\n",
       "    <tr>\n",
       "      <th>9</th>\n",
       "      <td>North Midtown, The Annex, Yorkville</td>\n",
       "      <td>7.95</td>\n",
       "      <td>M5R</td>\n",
       "      <td>Central Toronto</td>\n",
       "      <td>43.672710</td>\n",
       "      <td>-79.405678</td>\n",
       "    </tr>\n",
       "    <tr>\n",
       "      <th>10</th>\n",
       "      <td>Queen's Park</td>\n",
       "      <td>8.20</td>\n",
       "      <td>M7A</td>\n",
       "      <td>Queen's Park</td>\n",
       "      <td>43.662301</td>\n",
       "      <td>-79.389494</td>\n",
       "    </tr>\n",
       "  </tbody>\n",
       "</table>\n",
       "</div>"
      ],
      "text/plain": [
       "                                         Neighborhood  Average Rating  \\\n",
       "0                                           Agincourt            7.50   \n",
       "1        Brockton, Exhibition Place, Parkdale Village            8.05   \n",
       "2                         Cabbagetown, St. James Town            8.50   \n",
       "3           Chinatown, Grange Park, Kensington Market            8.20   \n",
       "4                                            Christie            8.50   \n",
       "5                                Church and Wellesley            8.20   \n",
       "6   Harbourfront East, Toronto Islands, Union Station            7.50   \n",
       "7                       High Park, The Junction South            8.30   \n",
       "8                                   Maryvale, Wexford            7.80   \n",
       "9                 North Midtown, The Annex, Yorkville            7.95   \n",
       "10                                       Queen's Park            8.20   \n",
       "\n",
       "   PostalCode           Borough   Latitude  Longitude  \n",
       "0         M1S       Scarborough  43.794200 -79.262029  \n",
       "1         M6K      West Toronto  43.636847 -79.428191  \n",
       "2         M4X  Downtown Toronto  43.667967 -79.367675  \n",
       "3         M5T  Downtown Toronto  43.653206 -79.400049  \n",
       "4         M6G  Downtown Toronto  43.669542 -79.422564  \n",
       "5         M4Y  Downtown Toronto  43.665860 -79.383160  \n",
       "6         M5J  Downtown Toronto  43.640816 -79.381752  \n",
       "7         M6P      West Toronto  43.661608 -79.464763  \n",
       "8         M1R       Scarborough  43.750072 -79.295849  \n",
       "9         M5R   Central Toronto  43.672710 -79.405678  \n",
       "10        M7A      Queen's Park  43.662301 -79.389494  "
      ]
     },
     "execution_count": 84,
     "metadata": {},
     "output_type": "execute_result"
    }
   ],
   "source": [
    "Toronto_neighborhood_stats"
   ]
  },
  {
   "cell_type": "code",
   "execution_count": 85,
   "metadata": {},
   "outputs": [],
   "source": [
    "import folium "
   ]
  },
  {
   "cell_type": "code",
   "execution_count": 100,
   "metadata": {},
   "outputs": [
    {
     "data": {
      "text/html": [
       "<div style=\"width:100%;\"><div style=\"position:relative;width:100%;height:0;padding-bottom:60%;\"><iframe src=\"data:text/html;charset=utf-8;base64,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\" style=\"position:absolute;width:100%;height:100%;left:0;top:0;border:none !important;\" allowfullscreen webkitallowfullscreen mozallowfullscreen></iframe></div></div>"
      ],
      "text/plain": [
       "<folium.folium.Map at 0x1c11366b898>"
      ]
     },
     "execution_count": 100,
     "metadata": {},
     "output_type": "execute_result"
    }
   ],
   "source": [
    "# create map and display it\n",
    "map_toronto = folium.Map(location=[43.6532, -79.3831843], zoom_start=12)\n",
    "\n",
    "# add markers to map\n",
    "for lat, lng, borough, neighborhood in zip(Toronto_neighborhood_stats['Latitude'], Toronto_neighborhood_stats['Longitude'], Toronto_neighborhood_stats['Borough'], Toronto_neighborhood_stats['Neighborhood']):\n",
    "    label = '{} - {}'.format(neighborhood, borough)\n",
    "    label = folium.Popup(label, parse_html=True)\n",
    "    folium.CircleMarker(\n",
    "        [lat, lng],\n",
    "        radius=5,\n",
    "        popup=label,\n",
    "        color='red',\n",
    "        fill=True,\n",
    "        fill_color='#3186cc',\n",
    "        fill_opacity=0.7,\n",
    "        parse_html=False).add_to(map_toronto)  \n",
    "    \n",
    "map_toronto"
   ]
  },
  {
   "cell_type": "markdown",
   "metadata": {},
   "source": [
    "  "
   ]
  },
  {
   "cell_type": "markdown",
   "metadata": {},
   "source": [
    "<H2>Conclusion</H2>"
   ]
  },
  {
   "cell_type": "markdown",
   "metadata": {},
   "source": [
    "The Indian Resturant Market in Toronto is not quite explored inspite of toronto sheltering a large number of Indian popultion. The below are the conclusions from the study:\n",
    "<Li> Banjara Indian Cuisine is the best indian resturant in Toronto\n",
    "<Li>Central and Old Toronto are some of the best neighborhoods for Indian cuisine.\n",
    "<Li>East Toronto, Scarborough, York have great potential for new Indian Resturants.\n",
    "<Li>East York last in average rating of Indian Resturants.\n",
    "<Li>India Baazaar, The Beaches West is the best place to stay if you prefer Indian Cuisine."
   ]
  },
  {
   "cell_type": "markdown",
   "metadata": {},
   "source": [
    "\n",
    "<H2>Limitations"
   ]
  },
  {
   "cell_type": "markdown",
   "metadata": {},
   "source": [
    "<Li>The ranking is purely on basis of rating of resturants\n",
    "<Li>The accuracy of data depends purely depends on the data provided by FourSquare"
   ]
  },
  {
   "cell_type": "code",
   "execution_count": null,
   "metadata": {},
   "outputs": [],
   "source": []
  }
 ],
 "metadata": {
  "kernelspec": {
   "display_name": "Python 3",
   "language": "python",
   "name": "python3"
  },
  "language_info": {
   "codemirror_mode": {
    "name": "ipython",
    "version": 3
   },
   "file_extension": ".py",
   "mimetype": "text/x-python",
   "name": "python",
   "nbconvert_exporter": "python",
   "pygments_lexer": "ipython3",
   "version": "3.7.3"
  }
 },
 "nbformat": 4,
 "nbformat_minor": 2
}
